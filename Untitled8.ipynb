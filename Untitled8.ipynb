{
 "cells": [
  {
   "cell_type": "markdown",
   "id": "208229ca-4838-4114-ab36-8c59b4d44314",
   "metadata": {},
   "source": [
    "**Q1. What are the three measures of central tendency?**"
   ]
  },
  {
   "cell_type": "markdown",
   "id": "25840d3c-0c59-4315-805f-ddc301dcad56",
   "metadata": {},
   "source": [
    "The three measures of central tendency are:\n",
    "\n",
    "Mean: The mean is the average of all the values in a dataset. It is calculated by adding up all the values and dividing by the total number of values.\n",
    "\n",
    "Median: The median is the middle value in a dataset. It is the value that separates the upper and lower halves of the data when it is arranged in numerical order.\n",
    "\n",
    "Mode: The mode is the value that occurs most frequently in a dataset. In other words, it is the value that appears the most number of times in the data."
   ]
  },
  {
   "cell_type": "markdown",
   "id": "a719ad06-ff1d-4d79-bd0b-b9336b244678",
   "metadata": {},
   "source": [
    "**Q2. What is the difference between the mean, median, and mode? How are they used to measure the\n",
    "central tendency of a dataset?**"
   ]
  },
  {
   "cell_type": "markdown",
   "id": "ca4bda65-ef1b-4baa-8c3e-1b5017d9acf0",
   "metadata": {},
   "source": [
    "The mean, median, and mode are all measures of central tendency, which are used to describe the typical or central value of a dataset.\n",
    "\n",
    "The mean is calculated by adding up all the values in the dataset and dividing by the total number of values. It is sensitive to extreme values or outliers in the data and can be heavily influenced by them. The mean is commonly used when the data is normally distributed or follows a bell-shaped curve.\n",
    "\n",
    "The median is the middle value in a dataset when the values are arranged in numerical order. It is not affected by extreme values or outliers in the data, making it a more robust measure of central tendency in skewed data. The median is commonly used when the data is skewed, meaning that it is not evenly distributed.\n",
    "\n",
    "The mode is the most frequently occurring value in a dataset. It is useful when trying to identify the most common value in a set of data. The mode is commonly used for categorical data such as colors or types of animals.\n",
    "\n",
    "All three measures of central tendency can be used to describe the typical or central value of a dataset. They are helpful in understanding the characteristics of the data, identifying trends and patterns, and making comparisons between different sets of data. The choice of which measure to use depends on the nature of the data and the research question being asked.\n",
    "\n",
    "\n",
    "\n",
    "\n",
    "\n"
   ]
  },
  {
   "cell_type": "markdown",
   "id": "8269e5d7-12a7-4033-b826-78213371fdef",
   "metadata": {},
   "source": [
    "**Q3. Measure the three measures of central tendency for the given height data:\n",
    "[178,177,176,177,178.2,178,175,179,180,175,178.9,176.2,177,172.5,178,176.5]**"
   ]
  },
  {
   "cell_type": "markdown",
   "id": "b0a0fadf-6f4a-40c1-a0da-1fbcb1d5ec61",
   "metadata": {},
   "source": [
    "To calculate the three measures of central tendency for the given height data:\n",
    "\n",
    "Mean:\n",
    "To calculate the mean, we add up all the values in the dataset and divide by the total number of values:\n",
    "(178 + 177 + 176 + 177 + 178.2 + 178 + 175 + 179 + 180 + 175 + 178.9 + 176.2 + 177 + 172.5 + 178 + 176.5) / 16 = 176.9\n",
    "\n",
    "Therefore, the mean height is 176.9.\n",
    "\n",
    "Median:\n",
    "To find the median, we first need to sort the data in ascending order:\n",
    "172.5, 175, 175, 176, 176.2, 176.5, 177, 177, 178, 178, 178, 178.2, 178.9, 179, 180\n",
    "\n",
    "The median is the middle value, so in this case, it is the average of the two middle values:\n",
    "\n",
    "Median = (177 + 178) / 2 = 177.5\n",
    "\n",
    "Therefore, the median height is 177.5.\n",
    "\n",
    "Mode:\n",
    "The mode is the most frequently occurring value in the dataset. In this case, there are two values that occur most frequently: 177 and 178.\n",
    "Therefore, the mode height is 177 and 178.\n",
    "\n",
    "In summary, the mean height is 176.9, the median height is 177.5, and the mode height is 177 and 178.\n",
    "\n",
    "\n",
    "\n",
    "\n",
    "\n"
   ]
  },
  {
   "cell_type": "code",
   "execution_count": 3,
   "id": "e6f0e662-b7c0-4f84-96e8-dfe4b4a207b5",
   "metadata": {},
   "outputs": [
    {
     "data": {
      "text/plain": [
       "177.01875"
      ]
     },
     "execution_count": 3,
     "metadata": {},
     "output_type": "execute_result"
    }
   ],
   "source": [
    "np.mean([178,177,176,177,178.2,178,175,179,180,175,178.9,176.2,177,172.5,178,176.5])"
   ]
  },
  {
   "cell_type": "code",
   "execution_count": 4,
   "id": "ea62ae61-e4bf-4b58-af3f-3b7f1b20f1f4",
   "metadata": {},
   "outputs": [
    {
     "data": {
      "text/plain": [
       "177.0"
      ]
     },
     "execution_count": 4,
     "metadata": {},
     "output_type": "execute_result"
    }
   ],
   "source": [
    "np.median([178,177,176,177,178.2,178,175,179,180,175,178.9,176.2,177,172.5,178,176.5])"
   ]
  },
  {
   "cell_type": "code",
   "execution_count": 8,
   "id": "8ee6c7cc-ba47-44e8-8f26-3fd7e808bdef",
   "metadata": {},
   "outputs": [],
   "source": [
    "import statistics"
   ]
  },
  {
   "cell_type": "code",
   "execution_count": 9,
   "id": "9ee6c269-c6e1-4951-a668-39178b161920",
   "metadata": {},
   "outputs": [
    {
     "data": {
      "text/plain": [
       "178"
      ]
     },
     "execution_count": 9,
     "metadata": {},
     "output_type": "execute_result"
    }
   ],
   "source": [
    "statistics.mode([178,177,176,177,178.2,178,175,179,180,175,178.9,176.2,177,172.5,178,176.5])"
   ]
  },
  {
   "cell_type": "markdown",
   "id": "5488bc7a-aa0a-4f4b-9c6e-7fc95b05d57b",
   "metadata": {},
   "source": [
    "**Q4. Find the standard deviation for the given data:\n",
    "[178,177,176,177,178.2,178,175,179,180,175,178.9,176.2,177,172.5,178,176.5]**"
   ]
  },
  {
   "cell_type": "code",
   "execution_count": 1,
   "id": "b298a2f4-620e-43b1-b110-b310314a5d80",
   "metadata": {},
   "outputs": [],
   "source": [
    "import numpy as np"
   ]
  },
  {
   "cell_type": "code",
   "execution_count": 2,
   "id": "372f63e7-c674-47d8-b705-6248e41ce99e",
   "metadata": {},
   "outputs": [
    {
     "data": {
      "text/plain": [
       "1.7885814036548633"
      ]
     },
     "execution_count": 2,
     "metadata": {},
     "output_type": "execute_result"
    }
   ],
   "source": [
    "np.std([178,177,176,177,178.2,178,175,179,180,175,178.9,176.2,177,172.5,178,176.5])"
   ]
  },
  {
   "cell_type": "markdown",
   "id": "f6cc10ea-cea8-4be9-9bf7-8ac641073f34",
   "metadata": {},
   "source": [
    "**Q5. How are measures of dispersion such as range, variance, and standard deviation used to describe\n",
    "the spread of a dataset? Provide an example.**"
   ]
  },
  {
   "cell_type": "markdown",
   "id": "3dc95687-188f-41b8-9496-fcbb0fa69448",
   "metadata": {},
   "source": [
    "Measures of dispersion such as range, variance, and standard deviation are used to describe how spread out the data is from the central tendency. They provide information about the variabi|lity or diversity of the data.\n",
    "\n",
    "Range: The range is the difference between the largest and smallest values in a dataset. It measures the spread of the data from the extreme values. For example, if the range of a dataset is 20, it means that the difference between the largest and smallest value in the dataset is 20. The range is easy to calculate and provides a quick sense of the spread of the data.\n",
    "\n",
    "Variance: The variance is a measure of how much the data deviates from the mean. It is calculated by taking the average of the squared differences between each data point and the mean. A high variance indicates that the data is spread out, while a low variance indicates that the data is clustered around the mean.\n",
    "\n",
    "Standard Deviation: The standard deviation is the square root of the variance. It is also a measure of how spread out the data is from the mean. The standard deviation is useful because it is in the same unit as the data and provides a measure of the typical distance from the mean."
   ]
  },
  {
   "cell_type": "markdown",
   "id": "434c6f8c-6523-448d-a623-cb9c6ed83d56",
   "metadata": {},
   "source": [
    "**Q6. What is a Venn diagram?**"
   ]
  },
  {
   "cell_type": "markdown",
   "id": "6a3f62f8-4ef3-4fa1-8e8a-67e9f31d94fd",
   "metadata": {},
   "source": [
    "A Venn diagram is a visual representation of the relationships between different sets of data. It is named after John Venn, who introduced the concept in 1880. A Venn diagram consists of circles or other shapes that overlap or are contained within one another. The circles or shapes represent different sets of data, and the overlap between them shows the relationships between the sets.\n",
    "\n",
    "For example, suppose we have a Venn diagram with two circles: one representing \"cats\" and one representing \"dogs\". The overlap between the two circles represents the set of animals that are both cats and dogs, such as a cat-dog hybrid. The area within the circle representing cats but outside the circle representing dogs represents the set of animals that are cats but not dogs, such as a pet cat. The area within the circle representing dogs but outside the circle representing cats represents the set of animals that are dogs but not cats, such as a pet dog. The total area covered by the circles represents the set of all animals.\n",
    "\n",
    "Venn diagrams can be used to visualize relationships between any sets of data, such as numbers, categories, or concepts. They are commonly used in mathematics, logic, statistics, and other fields to analyze data and solve problems."
   ]
  },
  {
   "cell_type": "markdown",
   "id": "f9d3ef84-c03f-4fea-b718-2668e727789f",
   "metadata": {},
   "source": [
    "**Q7. For the two given sets A = (2,3,4,5,6,7) & B = (0,2,6,8,10). Find:\n",
    "(i) A B\n",
    "(ii) A ⋃ B**"
   ]
  },
  {
   "cell_type": "code",
   "execution_count": 13,
   "id": "2fd45e87-4f99-4038-9130-3ea2e9d93409",
   "metadata": {},
   "outputs": [],
   "source": [
    "A = {2,3,4,5,6,7}\n",
    "B = {0,2,6,8,10}"
   ]
  },
  {
   "cell_type": "code",
   "execution_count": 15,
   "id": "0257f872-3a81-4200-a991-ce82c74dc2b7",
   "metadata": {},
   "outputs": [
    {
     "data": {
      "text/plain": [
       "{0, 2, 3, 4, 5, 6, 7, 8, 10}"
      ]
     },
     "execution_count": 15,
     "metadata": {},
     "output_type": "execute_result"
    }
   ],
   "source": [
    "A.union(B)"
   ]
  },
  {
   "cell_type": "code",
   "execution_count": 16,
   "id": "dae3538a-0d2f-4108-8962-a9be91aa357c",
   "metadata": {},
   "outputs": [
    {
     "data": {
      "text/plain": [
       "{2, 6}"
      ]
     },
     "execution_count": 16,
     "metadata": {},
     "output_type": "execute_result"
    }
   ],
   "source": [
    "A.intersection(B)"
   ]
  },
  {
   "cell_type": "markdown",
   "id": "bf1bba3f-ddb0-4da8-b5da-adae3341846a",
   "metadata": {},
   "source": [
    "**Q8. What do you understand about skewness in data?**"
   ]
  },
  {
   "cell_type": "markdown",
   "id": "83dbb1b4-9804-4dfc-8aed-c984a35fa771",
   "metadata": {},
   "source": [
    "Skewness is a measure of the asymmetry of a probability distribution or a dataset. A dataset is said to be skewed if it is not symmetrical, meaning that the distribution of the data is not evenly balanced around the central tendency (mean, median, or mode).\n",
    "\n",
    "Positive skewness occurs when the tail of the distribution is longer on the positive side (to the right) of the central tendency, and negative skewness occurs when the tail of the distribution is longer on the negative side (to the left) of the central tendency.\n",
    "\n",
    "Skewness is important because it can affect the interpretation of statistical analyses, such as mean, variance, and correlation coefficients. For example, if a dataset is positively skewed, the mean will be greater than the median, and if a dataset is negatively skewed, the mean will be less than the median. Skewness can also affect the choice of statistical tests and the interpretation of results. In general, normal (symmetrical) distributions are preferred in statistical analysis, but sometimes skewed distributions are unavoidable.\n",
    "\n",
    "Skewness can be measured using various statistical techniques, such as the skewness coefficient, which quantifies the degree and direction of skewness. Some common methods to correct for skewness include data transformation, such as taking logarithms or square roots of the data, or using non-parametric tests that do not assume a normal distribution."
   ]
  },
  {
   "cell_type": "markdown",
   "id": "7e476bc9-4ec3-4192-bc28-f9ffc26432b3",
   "metadata": {},
   "source": [
    "**Q9. If a data is right skewed then what will be the position of median with respect to mean?**"
   ]
  },
  {
   "cell_type": "markdown",
   "id": "4b851053-09ae-4f96-9d2d-ee2160ca5ee1",
   "metadata": {},
   "source": [
    "If a dataset is right skewed, meaning that the tail of the distribution is longer on the positive side (to the right) of the central tendency, then the median will be less than the mean.\n",
    "\n",
    "This is because the mean is influenced by the outliers and extreme values on the right side of the distribution, while the median is less sensitive to outliers and is only affected by the middle values of the dataset.\n",
    "\n",
    "In a right-skewed dataset, the mean will be pulled towards the right tail of the distribution, while the median will be closer to the left side of the distribution where the majority of the values lie. As a result, the mean will be greater than the median in a right-skewed dataset."
   ]
  },
  {
   "cell_type": "markdown",
   "id": "ed630195-26d6-40a3-89ac-54f7f484ad50",
   "metadata": {},
   "source": [
    "**Q10. Explain the difference between covariance and correlation. How are these measures used in\n",
    "statistical analysis?**"
   ]
  },
  {
   "cell_type": "markdown",
   "id": "392c2768-3393-405e-a816-053bc6859fdf",
   "metadata": {},
   "source": [
    "Covariance and correlation are both measures of the relationship between two variables in a dataset, but they differ in how they are calculated and interpreted.\n",
    "\n",
    "Covariance measures the degree to which two variables vary together, or co-vary. It is calculated as the average of the product of the deviations of each variable from their respective means. A positive covariance indicates that the two variables tend to increase or decrease together, while a negative covariance indicates that they tend to vary in opposite directions. However, the magnitude of the covariance depends on the scale of the variables, making it difficult to compare covariances across datasets or variables.\n",
    "\n",
    "Correlation, on the other hand, is a standardized version of covariance that measures the strength and direction of the relationship between two variables. It is calculated as the covariance divided by the product of the standard deviations of the two variables. Correlation takes on values between -1 and +1, where a correlation of +1 indicates a perfect positive relationship, a correlation of -1 indicates a perfect negative relationship, and a correlation of 0 indicates no relationship.\n",
    "\n",
    "Correlation is a more useful measure than covariance because it is not affected by the scale of the variables, making it easier to compare the strength of relationships across datasets or variables. Correlation is commonly used in statistical analysis to identify patterns and trends in data, to test hypotheses about the relationships between variables, and to make predictions based on the relationships between variables.\n",
    "\n",
    "In summary, covariance measures the extent to which two variables vary together, while correlation measures the strength and direction of the relationship between two variables after standardizing for scale. Both measures are useful in statistical analysis, but correlation is generally preferred because it is more interpretable and easier to compare across datasets or variables."
   ]
  },
  {
   "cell_type": "markdown",
   "id": "80cacb01-6c22-42fb-920f-55ce97401468",
   "metadata": {},
   "source": [
    "**Q11. What is the formula for calculating the sample mean? Provide an example calculation for a\n",
    "dataset.**"
   ]
  },
  {
   "cell_type": "markdown",
   "id": "31fbdeef-7a70-4ab0-aca0-293c42f9750e",
   "metadata": {},
   "source": [
    "The formula for calculating the sample mean (also known as the sample average) is:\n",
    "\n",
    "sample mean = (sum of all data values) / (number of data values)\n",
    "\n",
    "In other words, you add up all the values in the dataset and divide by t"
   ]
  },
  {
   "cell_type": "markdown",
   "id": "0bf3ced3-47a8-475c-bfa7-7f51db4fed7d",
   "metadata": {},
   "source": [
    "**Q12. For a normal distribution data what is the relationship between its measure of central tendency?**"
   ]
  },
  {
   "cell_type": "markdown",
   "id": "71309e2c-58ad-4d30-99d9-f6b77858584d",
   "metadata": {},
   "source": [
    "For a normal distribution, the measures of central tendency (mean, median, and mode) are equal to each other. This is because the normal distribution is symmetric around its mean, and the mean is located at the center of the distribution. The median and mode are also located at the center of the distribution in a normal distribution, so they are equal to the mean as well.\n",
    "\n",
    "In summary, for a normal distribution, the mean, median, and mode are equal to each other, and they are all located at the center of the distribution."
   ]
  },
  {
   "cell_type": "markdown",
   "id": "c44c184c-03a1-4982-a2cb-72a242bb78b4",
   "metadata": {},
   "source": [
    "**Q13. How is covariance different from correlation?**"
   ]
  },
  {
   "cell_type": "markdown",
   "id": "cb7b7817-870c-43d6-8aa0-abbad3e3ad9f",
   "metadata": {},
   "source": [
    "Covariance and correlation are both measures of the relationship between two variables in a dataset, but they differ in how they are calculated and interpreted.\n",
    "\n",
    "Covariance measures the degree to which two variables vary together, or co-vary. It is calculated as the average of the product of the deviations of each variable from their respective means. A positive covariance indicates that the two variables tend to increase or decrease together, while a negative covariance indicates that they tend to vary in opposite directions. However, the magnitude of the covariance depends on the scale of the variables, making it difficult to compare covariances across datasets or variables.\n",
    "\n",
    "Correlation, on the other hand, is a standardized version of covariance that measures the strength and direction of the relationship between two variables. It is calculated as the covariance divided by the product of the standard deviations of the two variables. Correlation takes on values between -1 and +1, where a correlation of +1 indicates a perfect positive relationship, a correlation of -1 indicates a perfect negative relationship, and a correlation of 0 indicates no relationship.\n",
    "\n",
    "In summary, covariance measures the extent to which two variables vary together, while correlation measures the strength and direction of the relationship between two variables after standardizing for scale. Both measures are useful in statistical analysis, but correlation is generally preferred because it is more interpretable and easier to compare across datasets or variables.\n"
   ]
  },
  {
   "cell_type": "markdown",
   "id": "5a127c72-5757-4aff-b1f6-5fef2981a6ee",
   "metadata": {},
   "source": [
    "**Q14. How do outliers affect measures of central tendency and dispersion? Provide an example.**"
   ]
  },
  {
   "cell_type": "markdown",
   "id": "79a9b9d5-28d5-488b-85f8-dd0215911080",
   "metadata": {},
   "source": [
    "Outliers can have a significant impact on both measures of central tendency and dispersion. Depending on the location and magnitude of the outlier, it can shift the mean or median of a dataset, as well as affect the range, variance, or standard deviation.\n",
    "\n",
    "For example, consider the following dataset of 10 test scores:\n",
    "\n",
    "85, 78, 82, 91, 87, 89, 90, 88, 84, 30\n",
    "\n",
    "In this dataset, there is one outlier value of 30, which is much lower than the rest of the scores. This outlier can have a significant impact on the measures of central tendency and dispersion:\n",
    "\n",
    "Mean: The mean of this dataset is (85 + 78 + 82 + 91 + 87 + 89 + 90 + 88 + 84 + 30) / 10 = 82.4. However, if we remove the outlier value of 30, the mean becomes (85 + 78 + 82 + 91 + 87 + 89 + 90 + 88 + 84) / 9 = 85.22. The presence of the outlier has shifted the mean downwards.\n",
    "\n",
    "Median: The median of this dataset is 86.5, which is relatively unaffected by the outlier value of 30.\n",
    "\n",
    "Range: The range of this dataset is 61 (from 30 to 91), which is heavily influenced by the outlier value of 30.\n",
    "\n",
    "Variance and standard deviation: The presence of the outlier can also increase the variance and standard deviation of the dataset, since the outlier is a significant distance away from the rest of the values.\n",
    "\n",
    "In summary, outliers can have a significant impact on both measures of central tendency and dispersion. It is important to identify and understand the impact of outliers in a dataset before interpreting the summary statistics.\n",
    "\n",
    "\n",
    "\n",
    "\n",
    "\n"
   ]
  },
  {
   "cell_type": "code",
   "execution_count": null,
   "id": "6315d3a5-0a19-4cf1-a850-8f493a8845e0",
   "metadata": {},
   "outputs": [],
   "source": []
  }
 ],
 "metadata": {
  "kernelspec": {
   "display_name": "Python 3 (ipykernel)",
   "language": "python",
   "name": "python3"
  },
  "language_info": {
   "codemirror_mode": {
    "name": "ipython",
    "version": 3
   },
   "file_extension": ".py",
   "mimetype": "text/x-python",
   "name": "python",
   "nbconvert_exporter": "python",
   "pygments_lexer": "ipython3",
   "version": "3.10.8"
  }
 },
 "nbformat": 4,
 "nbformat_minor": 5
}
