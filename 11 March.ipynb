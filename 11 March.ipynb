{
 "cells": [
  {
   "cell_type": "markdown",
   "metadata": {},
   "source": [
    "**Q1: What is the difference between a t-test and a z-test? Provide an example scenario where you would\n",
    "use each type of test.**"
   ]
  },
  {
   "cell_type": "markdown",
   "metadata": {},
   "source": [
    "Both t-test and z-test are statistical tests used to analyze the differences between two means of a population. However, they differ in terms of their assumptions and applications.\n",
    "\n",
    "A z-test assumes that the sample data comes from a normal distribution with a known population standard deviation, while a t-test assumes that the population standard deviation is unknown and estimates it using the sample standard deviation. Additionally, a z-test is appropriate when the sample size is large (n > 30), while a t-test is suitable for small sample sizes (n < 30).\n",
    "\n",
    "A scenario where a z-test would be appropriate is when testing the effectiveness of a new drug for a large population. For example, a pharmaceutical company wants to test if their new painkiller is more effective than the current standard of care. They can conduct a z-test on a sample of 1000 patients, assuming that the population standard deviation of pain scores is known, and they want to determine if the difference in mean pain scores between the two groups is statistically significant.\n",
    "\n",
    "On the other hand, a t-test would be appropriate when testing the difference in means of a small sample size, such as when comparing the test scores of two groups of students (n=20) from two different schools. In this case, assuming that the population standard deviation is unknown, the researchers can conduct a two-sample t-test to determine if there is a significant difference between the mean scores of the two groups.\n",
    "\n",
    "\n",
    "\n",
    "\n",
    "\n"
   ]
  },
  {
   "cell_type": "markdown",
   "metadata": {},
   "source": [
    "**Q2: Differentiate between one-tailed and two-tailed tests.**"
   ]
  },
  {
   "cell_type": "markdown",
   "metadata": {},
   "source": [
    "A hypothesis test is a statistical method used to determine if there is a significant difference between two groups or populations. Hypothesis testing can be one-tailed or two-tailed, depending on the directionality of the research hypothesis.\n",
    "\n",
    "In a two-tailed test, the alternative hypothesis states that there is a difference between the two groups, but it does not specify the direction of the difference. The null hypothesis is that there is no difference between the two groups. For example, a two-tailed test could be used to determine if there is a significant difference in height between male and female students in a school.\n",
    "\n",
    "On the other hand, a one-tailed test is used when the alternative hypothesis specifies the direction of the difference. The null hypothesis is that there is no difference between the two groups or that the difference is in the opposite direction. One-tailed tests are used when the researcher has a clear directional prediction. For example, a one-tailed test could be used to determine if a new treatment for a disease is more effective than the standard treatment.\n",
    "\n",
    "In conclusion, the main difference between one-tailed and two-tailed tests is the directionality of the research hypothesis. Two-tailed tests are used when the direction of the difference is not specified, while one-tailed tests are used when there is a clear directional prediction."
   ]
  },
  {
   "cell_type": "markdown",
   "metadata": {},
   "source": [
    "**Q3: Explain the concept of Type 1 and Type 2 errors in hypothesis testing. Provide an example scenario for\n",
    "each type of error.**"
   ]
  },
  {
   "cell_type": "markdown",
   "metadata": {},
   "source": [
    "In hypothesis testing, Type 1 and Type 2 errors are two types of errors that can occur when rejecting or failing to reject the null hypothesis.\n",
    "\n",
    "Type 1 error occurs when the null hypothesis is rejected, but it is actually true. This error is also known as a false positive or alpha error. The probability of making a Type 1 error is denoted by the symbol alpha (α) and is usually set at 0.05 or 0.01, indicating the maximum acceptable probability of making a Type 1 error.\n",
    "\n",
    "An example of a Type 1 error is when a medical test incorrectly diagnoses a healthy patient with a disease, leading to unnecessary treatment and psychological distress for the patient. In this case, the null hypothesis is that the patient is healthy, and the alternative hypothesis is that the patient has the disease. If the medical test has a high false-positive rate, it may reject the null hypothesis, indicating that the patient has the disease when in fact, they do not.\n",
    "\n",
    "Type 2 error occurs when the null hypothesis is not rejected, but it is actually false. This error is also known as a false negative or beta error. The probability of making a Type 2 error is denoted by the symbol beta (β) and is dependent on several factors such as the sample size, effect size, and alpha level.\n",
    "\n",
    "An example of a Type 2 error is when a new drug is not approved for use, even though it is effective in treating a disease. In this case, the null hypothesis is that the drug is not effective, and the alternative hypothesis is that the drug is effective. If the sample size is small, the effect size is low, or the alpha level is too stringent, there is a high probability of making a Type 2 error and failing to reject the null hypothesis.\n",
    "\n",
    "In conclusion, Type 1 and Type 2 errors are two types of errors that can occur in hypothesis testing. Type 1 error occurs when the null hypothesis is rejected, but it is actually true, while Type 2 error occurs when the null hypothesis is not rejected, but it is actually false. The probability of making each type of error depends on several factors, including the sample size, effect size, and alpha level.\n",
    "\n",
    "\n",
    "\n",
    "\n",
    "\n"
   ]
  },
  {
   "cell_type": "markdown",
   "metadata": {},
   "source": [
    "**Q4: Explain Bayes's theorem with an example.**\n",
    "\n",
    "Bayes's theorem is a mathematical formula that helps calculate the probability of an event occurring based on prior knowledge and new evidence. It is named after the English statistician Thomas Bayes.\n",
    "\n",
    "Bayes's theorem states that the probability of an event A given evidence B is equal to the probability of evidence B given event A multiplied by the prior probability of A, divided by the prior probability of B.\n",
    "\n",
    "In symbols, Bayes's theorem can be represented as:\n",
    "\n",
    "P(A|B) = P(B|A) * P(A) / P(B)\n",
    "\n",
    "Where:\n",
    "P(A|B) is the probability of event A given evidence B\n",
    "P(B|A) is the probability of evidence B given event A\n",
    "P(A) is the prior probability of event A\n",
    "P(B) is the prior probability of evidence B\n",
    "\n",
    "Let's consider an example to illustrate Bayes's theorem. Suppose a blood test for a rare disease has a 2% false-positive rate and a 98% true-positive rate. The disease occurs in 1 in 10,000 people in the population. If a person tests positive for the disease, what is the probability that they actually have the disease?\n",
    "\n",
    "In this example, the event A is having the disease, and the evidence B is testing positive for the disease. Using Bayes's theorem, we can calculate the probability of having the disease given testing positive:\n",
    "\n",
    "P(A|B) = P(B|A) * P(A) / P(B)\n",
    "P(A|B) = 0.98 * 0.0001 / ((0.02 * 0.9999) + (0.98 * 0.0001))\n",
    "P(A|B) = 0.0049 or 0.49%\n",
    "\n",
    "Therefore, the probability of actually having the disease given testing positive is only 0.49%, even though the test has a high true-positive rate. This example shows how Bayes's theorem can help us calculate the probability of an event occurring based on prior knowledge and new evidence.\n",
    "\n",
    "\n",
    "\n",
    "\n",
    "\n",
    "\n",
    "**Q5: What is a confidence interval? How to calculate the confidence interval, explain with an example.**\n",
    "\n",
    "A confidence interval is a range of values that is likely to contain the true value of a population parameter, such as the mean or proportion, with a certain level of confidence. It is a measure of the uncertainty surrounding the estimate of the population parameter, based on the sample data.\n",
    "\n",
    "The confidence interval is calculated by taking the point estimate, which is the sample statistic, such as the sample mean or proportion, and adding and subtracting a margin of error, which is based on the level of confidence and the standard error of the estimate. The standard error of the estimate measures the variability of the sample statistic, and the level of confidence determines the range of values that are likely to contain the true population parameter.\n",
    "\n",
    "For example, suppose we want to estimate the mean height of students in a university. We take a random sample of 100 students and find that the sample mean height is 170 cm, and the standard deviation is 5 cm. We want to calculate a 95% confidence interval for the population mean height.\n",
    "\n",
    "To calculate the confidence interval, we need to determine the margin of error based on the level of confidence and the standard error of the estimate. The standard error of the estimate is calculated as the standard deviation divided by the square root of the sample size, which is:\n",
    "\n",
    "standard error = standard deviation / square root of sample size\n",
    "standard error = 5 / square root of 100\n",
    "standard error = 0.5\n",
    "\n",
    "The margin of error for a 95% confidence interval is calculated by multiplying the standard error by the critical value from the t-distribution with degrees of freedom equal to the sample size minus 1, which is:\n",
    "\n",
    "margin of error = critical value * standard error\n",
    "\n",
    "For a 95% confidence interval with 99 degrees of freedom, the critical value is 1.984. Therefore, the margin of error is:\n",
    "\n",
    "margin of error = 1.984 * 0.5\n",
    "margin of error = 0.992\n",
    "\n",
    "Finally, the confidence interval is calculated by adding and subtracting the margin of error from the point estimate, which is the sample mean. Therefore, the 95% confidence interval for the population mean height is:\n",
    "\n",
    "confidence interval = sample mean +/- margin of error\n",
    "confidence interval = 170 +/- 0.992\n",
    "confidence interval = (169.008, 170.992)\n",
    "\n",
    "This means that we are 95% confident that the true population mean height of the university students is between 169.008 cm and 170.992 cm.\n",
    "\n",
    "\n",
    "\n",
    "\n",
    "\n"
   ]
  },
  {
   "cell_type": "markdown",
   "metadata": {},
   "source": [
    "**Q6. Use Bayes' Theorem to calculate the probability of an event occurring given prior knowledge of the\n",
    "event's probability and new evidence. Provide a sample problem and solution.**\n",
    "\n",
    "Sure, here's an example problem:\n",
    "\n",
    "Suppose that a rare disease occurs in 1 in 10,000 people in the population. A new test has been developed that can detect the disease with 99% accuracy, meaning that the probability of testing positive given that the person has the disease is 0.99, and the probability of testing negative given that the person does not have the disease is also 0.99. If a person tests positive for the disease, what is the probability that they actually have the disease?\n",
    "\n",
    "Using Bayes' theorem, we can calculate the probability of having the disease given testing positive, based on the prior probability of having the disease and the new evidence provided by the test.\n",
    "\n",
    "Let's define the following events:\n",
    "\n",
    "A: the person has the disease\n",
    "B: the person tests positive for the disease\n",
    "\n",
    "Then, according to Bayes' theorem:\n",
    "\n",
    "P(A|B) = P(B|A) * P(A) / P(B)\n",
    "\n",
    "where:\n",
    "P(A|B) is the probability of having the disease given testing positive\n",
    "P(B|A) is the probability of testing positive given that the person has the disease, which is 0.99\n",
    "P(A) is the prior probability of having the disease, which is 1/10,000 or 0.0001\n",
    "P(B) is the probability of testing positive, which can be calculated using the law of total probability as:\n",
    "\n",
    "P(B) = P(B|A) * P(A) + P(B|~A) * P(~A)\n",
    "\n",
    "where:\n",
    "P(B|~A) is the probability of testing positive given that the person does not have the disease, which is 1 - 0.99 or 0.01\n",
    "P(~A) is the complement of event A, which is the probability of not having the disease, which is 1 - P(A) or 0.9999\n",
    "\n",
    "Therefore, we can calculate P(B) as:\n",
    "\n",
    "P(B) = 0.99 * 0.0001 + 0.01 * 0.9999\n",
    "P(B) = 0.010098\n",
    "\n",
    "Now we can substitute the values into Bayes' theorem to get:\n",
    "\n",
    "P(A|B) = 0.99 * 0.0001 / 0.010098\n",
    "P(A|B) = 0.009803\n",
    "\n",
    "Therefore, the probability of actually having the disease given testing positive is only 0.98%, even though the test has a high accuracy rate. This means that there is a high chance of a false positive result, and further testing or confirmation may be necessary before a diagnosis can be made.\n",
    "\n",
    "\n",
    "\n",
    "\n",
    "\n"
   ]
  },
  {
   "cell_type": "markdown",
   "metadata": {},
   "source": [
    "**Q7. Calculate the 95% confidence interval for a sample of data with a mean of 50 and a standard deviation\n",
    "of 5. Interpret the results.**"
   ]
  },
  {
   "cell_type": "markdown",
   "metadata": {},
   "source": [
    "Wrong Question"
   ]
  },
  {
   "cell_type": "markdown",
   "metadata": {},
   "source": [
    "**Q8. What is the margin of error in a confidence interval? How does sample size affect the margin of error?**\n",
    "\n",
    "The margin of error in a confidence interval is a measure of the amount of uncertainty associated with the estimate of the population parameter. It represents the range of values within which the true population parameter is likely to fall with a certain level of confidence. In other words, it is the distance between the point estimate (e.g., sample mean) and the upper or lower limit of the confidence interval.\n",
    "\n",
    "The margin of error depends on several factors, including the sample size, the level of confidence, and the variability in the data. Generally, a larger sample size leads to a smaller margin of error, while a smaller sample size leads to a larger margin of error. This is because a larger sample size provides more information about the population and reduces the effect of sampling variability, which results in a more precise estimate of the population parameter.\n",
    "\n",
    "However, the effect of sample size on the margin of error is not linear. In fact, the relationship is inverse square root, meaning that a fourfold increase in sample size leads to a twofold decrease in the margin of error. For example, if we double the sample size, the margin of error will be reduced by a factor of √2 or about 1.4.\n",
    "\n",
    "It is important to note that the margin of error is not the same as the sampling error, which refers to the difference between the sample statistic and the true population parameter. The margin of error is a measure of the precision of the estimate, while the sampling error is a measure of the accuracy of the estimate.\n",
    "\n",
    "\n",
    "\n",
    "\n",
    "\n"
   ]
  },
  {
   "cell_type": "markdown",
   "metadata": {},
   "source": [
    "**Q9. Calculate the z-score for a data point with a value of 75, a population mean of 70, and a population\n",
    "standard deviation of 5. Interpret the results.**"
   ]
  },
  {
   "cell_type": "code",
   "execution_count": 1,
   "metadata": {},
   "outputs": [
    {
     "data": {
      "text/plain": [
       "0.84134"
      ]
     },
     "execution_count": 1,
     "metadata": {},
     "output_type": "execute_result"
    }
   ],
   "source": [
    "0.84134"
   ]
  },
  {
   "cell_type": "markdown",
   "metadata": {},
   "source": [
    "**Q10. In a study of the effectiveness of a new weight loss drug, a sample of 50 participants lost an average\n",
    "of 6 pounds with a standard deviation of 2.5 pounds. Conduct a hypothesis test to determine if the drug is\n",
    "significantly effective at a 95% confidence level using a t-test.**"
   ]
  },
  {
   "cell_type": "markdown",
   "metadata": {},
   "source": [
    "To conduct a hypothesis test to determine if the weight loss drug is significantly effective at a 95% confidence level, we need to follow these steps:\n",
    "\n",
    "Step 1: State the null and alternative hypotheses\n",
    "\n",
    "The null hypothesis (H0) is that the drug is not significantly effective, meaning that the population mean weight loss is equal to or less than zero:\n",
    "\n",
    "H0: μ <= 0\n",
    "\n",
    "The alternative hypothesis (Ha) is that the drug is significantly effective, meaning that the population mean weight loss is greater than zero:\n",
    "\n",
    "Ha: μ > 0\n",
    "\n",
    "Step 2: Set the significance level\n",
    "\n",
    "The significance level (α) is the probability of rejecting the null hypothesis when it is actually true. In this case, we will use a significance level of 0.05, which corresponds to a 95% confidence level.\n",
    "\n",
    "Step 3: Calculate the test statistic\n",
    "\n",
    "Since the population standard deviation is unknown and the sample size is small (n < 30), we will use a t-test. The test statistic is calculated as:\n",
    "\n",
    "t = (x̄ - μ) / (s / √n)\n",
    "\n",
    "where:\n",
    "\n",
    "x̄ is the sample mean weight loss (6 pounds)\n",
    "μ is the hypothesized population mean weight loss under the null hypothesis (0 pounds)\n",
    "s is the sample standard deviation (2.5 pounds)\n",
    "n is the sample size (50 participants)\n",
    "Substituting the values, we get:\n",
    "\n",
    "t = (6 - 0) / (2.5 / √50) = 15.49\n",
    "\n",
    "Step 4: Determine the critical value\n",
    "\n",
    "The critical value is the value of the test statistic that separates the rejection region (i.e., the values that are unlikely to occur if the null hypothesis is true) from the non-rejection region (i.e., the values that are likely to occur if the null hypothesis is true). To determine the critical value, we need to find the degrees of freedom, which is n - 1 = 49. Then, we can use a t-distribution table or a statistical software to find the value that corresponds to a 0.05 level of significance and 49 degrees of freedom. In this case, the critical value is approximately 1.677.\n",
    "\n",
    "Step 5: Make a decision and interpret the results\n",
    "\n",
    "The test statistic of 15.49 is greater than the critical value of 1.677, which means that we can reject the null hypothesis and conclude that the weight loss drug is significantly effective at a 95% confidence level. In other words, the sample data provides strong evidence that the drug leads to weight loss in the population. The p-value of the test statistic is extremely small (much smaller than 0.05), which further supports the conclusion.\n",
    "\n",
    "\n",
    "\n",
    "\n",
    "\n"
   ]
  },
  {
   "cell_type": "markdown",
   "metadata": {},
   "source": [
    "**Q11. In a survey of 500 people, 65% reported being satisfied with their current job. Calculate the 95%\n",
    "confidence interval for the true proportion of people who are satisfied with their job.**"
   ]
  },
  {
   "cell_type": "markdown",
   "metadata": {},
   "source": [
    "To calculate the 95% confidence interval for the true proportion of people who are satisfied with their job, we can use the following formula:\n",
    "\n",
    "CI = p ± zsqrt((p(1-p))/n)\n",
    "\n",
    "where:\n",
    "\n",
    "CI is the confidence interval\n",
    "p is the sample proportion (0.65 in this case)\n",
    "z is the critical value for the desired confidence level (1.96 for 95% confidence level)\n",
    "n is the sample size (500 in this case)\n",
    "Substituting the values, we get:\n",
    "\n",
    "CI = 0.65 ± 1.96sqrt((0.65(1-0.65))/500)\n",
    "\n",
    "Simplifying the expression inside the square root, we get:\n",
    "\n",
    "CI = 0.65 ± 0.039\n",
    "\n",
    "Therefore, the 95% confidence interval for the true proportion of people who are satisfied with their job is:\n",
    "\n",
    "0.65 ± 0.039 or (0.611, 0.689)\n",
    "\n",
    "This means we are 95% confident that the true proportion of people who are satisfied with their job lies between 0.611 and 0.689."
   ]
  },
  {
   "cell_type": "markdown",
   "metadata": {},
   "source": [
    "**Q12. A researcher is testing the effectiveness of two different teaching methods on student performance.\n",
    "Sample A has a mean score of 85 with a standard deviation of 6, while sample B has a mean score of 82\n",
    "with a standard deviation of 5. Conduct a hypothesis test to determine if the two teaching methods have a\n",
    "significant difference in student performance using a t-test with a significance level of 0.01.**"
   ]
  },
  {
   "cell_type": "markdown",
   "metadata": {},
   "source": [
    "To conduct a hypothesis test to determine if the two teaching methods have a significant difference in student performance, we need to set up the null and alternative hypotheses:\n",
    "\n",
    "Null hypothesis (H0): There is no significant difference between the two teaching methods in student performance. In other words, the population means of the two samples are equal.\n",
    "Alternative hypothesis (Ha): There is a significant difference between the two teaching methods in student performance. In other words, the population means of the two samples are not equal.\n",
    "\n",
    "We can use a two-sample t-test to compare the means of the two samples. The test statistic can be calculated using the following formula:\n",
    "\n",
    "t = (x̄1 - x̄2) / sqrt[(s1^2 / n1) + (s2^2 / n2)]\n",
    "\n",
    "where:\n",
    "\n",
    "x̄1 and x̄2 are the sample means\n",
    "s1 and s2 are the sample standard deviations\n",
    "n1 and n2 are the sample sizes\n",
    "Substituting the values, we get:\n",
    "\n",
    "t = (85 - 82) / sqrt[(6^2 / n1) + (5^2 / n2)]\n",
    "\n",
    "We don't know the population standard deviations, so we use the sample standard deviations to estimate them. Since the sample sizes are relatively large (assumed to be greater than 30), we can assume that the sampling distribution of the means is approximately normal.\n",
    "\n",
    "The degrees of freedom for this test are df = n1 + n2 - 2 = 25 + 30 - 2 = 53 (assuming unequal variances).\n",
    "\n",
    "Using a significance level of 0.01 and a two-tailed test, the critical t-value can be found using a t-distribution table or a statistical software. In this case, the critical t-value is approximately 2.686.\n",
    "\n",
    "If the calculated t-value is greater than the critical t-value or less than the negative of the critical t-value, we can reject the null hypothesis.\n",
    "\n",
    "Substituting the values, we get:\n",
    "\n",
    "t = (85 - 82) / sqrt[(6^2 / 25) + (5^2 / 30)] = 2.191\n",
    "\n",
    "Since 2.191 is less than 2.686, we fail to reject the null hypothesis. Therefore, we do not have enough evidence to conclude that there is a significant difference between the two teaching methods in student performance at a significance level of 0.01.\n",
    "\n",
    "\n",
    "\n",
    "\n",
    "\n"
   ]
  },
  {
   "cell_type": "markdown",
   "metadata": {},
   "source": [
    "**Q13. A population has a mean of 60 and a standard deviation of 8. A sample of 50 observations has a mean\n",
    "of 65. Calculate the 90% confidence interval for the true population mean.**"
   ]
  },
  {
   "cell_type": "markdown",
   "metadata": {},
   "source": [
    "To calculate the 90% confidence interval for the true population mean, we can use the following formula:\n",
    "\n",
    "CI = x̄ ± z*(σ / sqrt(n))\n",
    "\n",
    "where:\n",
    "\n",
    "x̄ is the sample mean\n",
    "σ is the population standard deviation\n",
    "n is the sample size\n",
    "z* is the critical z-value from the standard normal distribution corresponding to the desired confidence level\n",
    "Substituting the values, we get:\n",
    "\n",
    "CI = 65 ± z*(8 / sqrt(50))\n",
    "\n",
    "Using a confidence level of 90%, the corresponding critical z-value can be found from a standard normal distribution table or a statistical software. In this case, the critical z-value is approximately 1.645.\n",
    "\n",
    "Substituting the value, we get:\n",
    "\n",
    "CI = 65 ± 1.645*(8 / sqrt(50)) = (62.36, 67.64)\n",
    "\n",
    "Therefore, we can be 90% confident that the true population mean falls between 62.36 and 67.64.\n",
    "\n",
    "\n",
    "\n",
    "\n",
    "\n"
   ]
  },
  {
   "cell_type": "markdown",
   "metadata": {},
   "source": [
    "**Q14. In a study of the effects of caffeine on reaction time, a sample of 30 participants had an average\n",
    "reaction time of 0.25 seconds with a standard deviation of 0.05 seconds. Conduct a hypothesis test to\n",
    "determine if the caffeine has a significant effect on reaction time at a 90% confidence level using a t-test.**"
   ]
  },
  {
   "cell_type": "markdown",
   "metadata": {},
   "source": [
    "To conduct a hypothesis test to determine if caffeine has a significant effect on reaction time, we can use a t-test with the following hypotheses:\n",
    "\n",
    "Null hypothesis (H0): The mean reaction time of participants with caffeine is the same as the mean reaction time of participants without caffeine (μ1 = μ2).\n",
    "\n",
    "Alternative hypothesis (Ha): The mean reaction time of participants with caffeine is different from the mean reaction time of participants without caffeine (μ1 ≠ μ2).\n",
    "\n",
    "We can use a two-sample t-test assuming equal variances, as the sample sizes are greater than 30 and the population standard deviations are unknown. The test statistic can be calculated as:\n",
    "\n",
    "t = (x̄1 - x̄2) / (s_p * sqrt(2/n))\n",
    "\n",
    "where:\n",
    "\n",
    "x̄1 is the sample mean reaction time with caffeine\n",
    "x̄2 is the sample mean reaction time without caffeine\n",
    "s_p is the pooled standard deviation, calculated as: sqrt(((n1-1)*s1^2 + (n2-1)*s2^2) / (n1+n2-2))\n",
    "n is the sample size\n",
    "Substituting the given values, we get:\n",
    "\n",
    "t = (0.25 - μ2) / (0.05 / sqrt(30))\n",
    "\n",
    "where μ2 is the population mean reaction time without caffeine.\n",
    "\n",
    "Using a 90% confidence level and a two-tailed test, the critical t-value can be found from a t-distribution table or a statistical software with 29 degrees of freedom. In this case, the critical t-value is approximately ±1.699.\n",
    "\n",
    "Comparing the calculated t-value to the critical t-value, we get:\n",
    "\n",
    "t = (0.25 - μ2) / (0.05 / sqrt(30)) = (0.25 - μ2) / 0.0091\n",
    "\n",
    "If we assume μ2 = 0.25 (i.e., no difference in mean reaction time between the two groups), the calculated t-value would be 0. Comparing this to the critical t-value of ±1.699, we can see that our calculated t-value falls within the acceptance region.\n",
    "\n",
    "Therefore, we fail to reject the null hypothesis and conclude that there is not enough evidence to suggest a significant difference in mean reaction time between participants with and without caffeine at a 90% confidence level."
   ]
  },
  {
   "cell_type": "code",
   "execution_count": null,
   "metadata": {},
   "outputs": [],
   "source": []
  }
 ],
 "metadata": {
  "kernelspec": {
   "display_name": "Python 3",
   "language": "python",
   "name": "python3"
  },
  "language_info": {
   "codemirror_mode": {
    "name": "ipython",
    "version": 3
   },
   "file_extension": ".py",
   "mimetype": "text/x-python",
   "name": "python",
   "nbconvert_exporter": "python",
   "pygments_lexer": "ipython3",
   "version": "3.8.5"
  }
 },
 "nbformat": 4,
 "nbformat_minor": 4
}
