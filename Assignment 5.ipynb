{
 "cells": [
  {
   "cell_type": "markdown",
   "id": "a266ae64-ff0c-46bd-a30f-48103260f772",
   "metadata": {},
   "source": [
    "# Assignment 5"
   ]
  },
  {
   "cell_type": "markdown",
   "id": "b9431fc7-b813-41fe-a854-5bb4677e6633",
   "metadata": {},
   "source": [
    "Ans 1. Guido Van Rossum\n",
    "\n",
    "Ans 2. High Level Programming\n",
    "\n",
    "Ans 3. Yes\n",
    "\n",
    "Ans 4. .py\n",
    "\n",
    "Ans 5. Interpreted"
   ]
  },
  {
   "cell_type": "code",
   "execution_count": 2,
   "id": "e602fc4c-b76a-49d8-9a0f-0977b3fa5189",
   "metadata": {},
   "outputs": [
    {
     "name": "stdout",
     "output_type": "stream",
     "text": [
      "0\n",
      "1\n",
      "2\n"
     ]
    }
   ],
   "source": [
    "# Ans 6.\n",
    "for i in range(3):\n",
    "    print(i)"
   ]
  },
  {
   "cell_type": "markdown",
   "id": "0e3dfa8b-c6ea-43e7-b232-29543b572274",
   "metadata": {},
   "source": [
    "Ans 7. #\n",
    "Ans 8.  import sys\n",
    "        print (sys.version)\n",
    "Ans 9. def ___init___\n",
    "Ans 10. Used to download packages\n",
    "Ans 11. range() len()\n",
    "Ans 12. 79 characters\n",
    "Ans 13. Uses in ML, DL, AI, Web Dev and Big Data.\n",
    "Ans 14. Memory is managed by system itself.\n",
    "Ans 15. "
   ]
  }
 ],
 "metadata": {
  "kernelspec": {
   "display_name": "Python 3 (ipykernel)",
   "language": "python",
   "name": "python3"
  },
  "language_info": {
   "codemirror_mode": {
    "name": "ipython",
    "version": 3
   },
   "file_extension": ".py",
   "mimetype": "text/x-python",
   "name": "python",
   "nbconvert_exporter": "python",
   "pygments_lexer": "ipython3",
   "version": "3.10.8"
  }
 },
 "nbformat": 4,
 "nbformat_minor": 5
}
