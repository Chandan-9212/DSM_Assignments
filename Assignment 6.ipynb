{
 "cells": [
  {
   "cell_type": "markdown",
   "id": "a737c777-396b-49d3-8f63-434bb97217a6",
   "metadata": {},
   "source": [
    "# Assignment 6"
   ]
  },
  {
   "cell_type": "markdown",
   "id": "ba122938-85f7-4aca-92fb-a6e4cb9b4754",
   "metadata": {},
   "source": [
    "**Q1, Create a vehicle class with an init method having instance variables as name_of_vehicle, max_speed\n",
    "and average_of_vehicle.**"
   ]
  },
  {
   "cell_type": "code",
   "execution_count": 168,
   "id": "84c4a15e-b3fa-4082-bee5-58254f1382a9",
   "metadata": {},
   "outputs": [],
   "source": [
    "class vehicle:\n",
    "    def __init__(self, name_of_vehicle, max_speed, average_of_vehicle):\n",
    "        self.name_of_vehicle = name_of_vehicle\n",
    "        self.max_speed = max_speed\n",
    "        self.average_of_vehicle= average_of_vehicle"
   ]
  },
  {
   "cell_type": "markdown",
   "id": "8fe81f9d-058d-412a-930c-730a90195ff2",
   "metadata": {},
   "source": [
    "**Q2. Create a child class car from the vehicle class created in Que 1, which will inherit the vehicle class.\n",
    "Create a method named seating_capacity which takes capacity as an argument and returns the name of\n",
    "the vehicle and its seating capacity.**"
   ]
  },
  {
   "cell_type": "code",
   "execution_count": 169,
   "id": "2b2aead3-f2b9-4ba4-b410-0292bb00a42f",
   "metadata": {},
   "outputs": [],
   "source": [
    "class car(vehicle):\n",
    "    def seating_capacity(self, seating_capacity):\n",
    "        return [self.name_of_vehicle, seating_capacity]"
   ]
  },
  {
   "cell_type": "code",
   "execution_count": 172,
   "id": "4784cddc-74b4-4946-a9cd-40de0972ed8d",
   "metadata": {},
   "outputs": [
    {
     "data": {
      "text/plain": [
       "['Toyota', 4]"
      ]
     },
     "execution_count": 172,
     "metadata": {},
     "output_type": "execute_result"
    }
   ],
   "source": [
    "car1 = car(\"Toyota\", 120, 40)\n",
    "car1.seating_capacity(4)"
   ]
  },
  {
   "cell_type": "markdown",
   "id": "fd7e2f95-5e7c-4ad5-bcdb-f33a1fe70079",
   "metadata": {
    "jp-MarkdownHeadingCollapsed": true,
    "tags": []
   },
   "source": [
    "**Q3. What is multiple inheritance? Write a python code to demonstrate multiple inheritance.**"
   ]
  },
  {
   "cell_type": "markdown",
   "id": "057b6911-b262-4c4b-bedf-9473d624e5e7",
   "metadata": {},
   "source": [
    "It is the type of inheritence where the child class class have more than 1 parent classes."
   ]
  },
  {
   "cell_type": "code",
   "execution_count": 194,
   "id": "a71366eb-37e3-4110-907d-a82bf2dea01e",
   "metadata": {},
   "outputs": [],
   "source": [
    "class mother:\n",
    "    def __init__(self, Mother_name):\n",
    "        self.Mother_name = Mother_name"
   ]
  },
  {
   "cell_type": "code",
   "execution_count": 195,
   "id": "fb904265-6adc-4c5f-879a-18ccb6649955",
   "metadata": {},
   "outputs": [],
   "source": [
    "class father:\n",
    "    def __init__(self, Father_name):\n",
    "        self.Father_name = Father_name"
   ]
  },
  {
   "cell_type": "code",
   "execution_count": 196,
   "id": "dd4a06a2-8564-4746-be32-8f9ea0c3d3f2",
   "metadata": {},
   "outputs": [],
   "source": [
    "class child(mother, father):\n",
    "    def __init__(self, name, mother_name, father_name):\n",
    "            mother.__init__(self, mother_name)\n",
    "            father.__init__(self, father_name)\n",
    "            self.name = name"
   ]
  },
  {
   "cell_type": "code",
   "execution_count": 197,
   "id": "be1d51a4-bc44-4d90-a976-9530df2e85fd",
   "metadata": {},
   "outputs": [],
   "source": [
    "rohan = child(\"Rohan\",\"Ayushi\", \"Ayush\")"
   ]
  },
  {
   "cell_type": "code",
   "execution_count": 198,
   "id": "5d73275b-9435-4ff6-8195-eeb8df77f886",
   "metadata": {},
   "outputs": [
    {
     "ename": "AttributeError",
     "evalue": "'child' object has no attribute 'call_dad'",
     "output_type": "error",
     "traceback": [
      "\u001b[0;31m---------------------------------------------------------------------------\u001b[0m",
      "\u001b[0;31mAttributeError\u001b[0m                            Traceback (most recent call last)",
      "Cell \u001b[0;32mIn[198], line 1\u001b[0m\n\u001b[0;32m----> 1\u001b[0m \u001b[43mrohan\u001b[49m\u001b[38;5;241;43m.\u001b[39;49m\u001b[43mcall_dad\u001b[49m()\n",
      "\u001b[0;31mAttributeError\u001b[0m: 'child' object has no attribute 'call_dad'"
     ]
    }
   ],
   "source": [
    "rohan."
   ]
  },
  {
   "cell_type": "markdown",
   "id": "993f6316-83b1-4034-9c2f-c4d33bb8c2cb",
   "metadata": {},
   "source": [
    "**Q4. What are getter and setter in python? Create a class and create a getter and a setter method in this\n",
    "class.**"
   ]
  },
  {
   "cell_type": "markdown",
   "id": "cf69ce3e-550f-4e1d-bd0f-b4575aed8668",
   "metadata": {},
   "source": [
    "When implementing data binding or data abstarction, we create function named as getter and setter where getter fetches the value but not allows to modify it and setter modifies the value but not allows to display it."
   ]
  },
  {
   "cell_type": "markdown",
   "id": "5a79f7bc-59d8-4fe3-afa4-082615ccc765",
   "metadata": {},
   "source": [
    "**Q5.What is method overriding in python? Write a python code to demonstrate method overriding.**"
   ]
  },
  {
   "cell_type": "markdown",
   "id": "5f5306ed-ad25-4ad7-80ae-cc8ace4f340c",
   "metadata": {},
   "source": [
    "Method overriding is the part of polmorphism where the objects returns values based on the data type passed as a paramater."
   ]
  },
  {
   "cell_type": "code",
   "execution_count": 112,
   "id": "f8af6442-24f6-4661-ba72-389e0ef9345a",
   "metadata": {},
   "outputs": [],
   "source": [
    "class ADD:\n",
    "    def __init__(self,a,b):\n",
    "        self.a = a\n",
    "        self.b = b\n",
    "    def addition(self):\n",
    "        return self.a+self.b"
   ]
  },
  {
   "cell_type": "code",
   "execution_count": 114,
   "id": "01c87315-3005-477c-a769-2176d4363d9b",
   "metadata": {},
   "outputs": [
    {
     "data": {
      "text/plain": [
       "'ba'"
      ]
     },
     "execution_count": 114,
     "metadata": {},
     "output_type": "execute_result"
    }
   ],
   "source": [
    "addition = ADD(\"b\",\"a\")\n",
    "addition.addition()"
   ]
  },
  {
   "cell_type": "code",
   "execution_count": 115,
   "id": "10cd0741-b919-4732-8985-11b98fc33640",
   "metadata": {},
   "outputs": [
    {
     "data": {
      "text/plain": [
       "3"
      ]
     },
     "execution_count": 115,
     "metadata": {},
     "output_type": "execute_result"
    }
   ],
   "source": [
    "addition = ADD(1,2)\n",
    "addition.addition()"
   ]
  }
 ],
 "metadata": {
  "kernelspec": {
   "display_name": "Python 3 (ipykernel)",
   "language": "python",
   "name": "python3"
  },
  "language_info": {
   "codemirror_mode": {
    "name": "ipython",
    "version": 3
   },
   "file_extension": ".py",
   "mimetype": "text/x-python",
   "name": "python",
   "nbconvert_exporter": "python",
   "pygments_lexer": "ipython3",
   "version": "3.10.8"
  }
 },
 "nbformat": 4,
 "nbformat_minor": 5
}
