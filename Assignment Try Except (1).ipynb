{
 "cells": [
  {
   "cell_type": "markdown",
   "id": "bb62b54b-78bc-4fca-bf4b-7a2ec7896866",
   "metadata": {},
   "source": [
    "# Assignment"
   ]
  },
  {
   "cell_type": "markdown",
   "id": "74038713-9484-410d-a102-c28b3b8874f4",
   "metadata": {},
   "source": [
    "Answer 1\n",
    "\n",
    "In Python, an exception is an event that occurs during the execution of a program that disrupts the normal flow of the program's instructions. When an exception is encountered, the program execution is interrupted, and Python will attempt to find a suitable exception handler to deal with the exception.\n",
    "\n",
    "Syntax errors, on the other hand, occur when the Python interpreter is unable to understand or execute a line of code due to a syntax error in the program. Syntax errors occur when the programmer makes a mistake in the way that they have written the code, for example, by leaving out a colon, a parenthesis or a quotation mark.\n",
    "\n",
    "The key differences between syntax errors and exceptions in Python are:\n",
    "\n",
    "Cause: Syntax errors are caused by mistakes in the way code is written, while exceptions are caused by unforeseen situations that occur during program execution.\n",
    "\n",
    "Detection: Syntax errors are detected by the Python interpreter when the code is being compiled or executed, whereas exceptions are detected during runtime.\n",
    "\n",
    "Handling: Syntax errors cannot be handled at runtime, as the Python interpreter is unable to execute the code that contains syntax errors. Exceptions, however, can be handled using try-except blocks, allowing the program to continue executing even in the presence of an exception.\n",
    "\n",
    "Impact: Syntax errors always result in a program that cannot be executed, while exceptions may or may not impact the program execution, depending on whether or not they are handled correctly.\n",
    "\n",
    "In summary, while syntax errors are caused by coding mistakes and are detected during the compilation or execution of the code, exceptions occur during runtime due to unforeseen circumstances, and can be handled using try-except blocks to allow the program to continue executing."
   ]
  },
  {
   "cell_type": "markdown",
   "id": "8cda3e74-9694-41a8-8e42-f0557d67ba60",
   "metadata": {},
   "source": [
    "Answer 2\n",
    "\n",
    "When an exception is not handled in Python, it will cause the program to terminate and the exception message will be printed to the console. This can result in unexpected behavior and can make it difficult to diagnose the root cause of the problem."
   ]
  },
  {
   "cell_type": "code",
   "execution_count": 1,
   "id": "d9df67a5-b19e-475f-a86f-636a2b5fe55e",
   "metadata": {},
   "outputs": [
    {
     "ename": "ZeroDivisionError",
     "evalue": "division by zero",
     "output_type": "error",
     "traceback": [
      "\u001b[0;31m---------------------------------------------------------------------------\u001b[0m",
      "\u001b[0;31mZeroDivisionError\u001b[0m                         Traceback (most recent call last)",
      "Cell \u001b[0;32mIn[1], line 4\u001b[0m\n\u001b[1;32m      2\u001b[0m numerator \u001b[38;5;241m=\u001b[39m \u001b[38;5;241m10\u001b[39m\n\u001b[1;32m      3\u001b[0m denominator \u001b[38;5;241m=\u001b[39m \u001b[38;5;241m0\u001b[39m\n\u001b[0;32m----> 4\u001b[0m result \u001b[38;5;241m=\u001b[39m \u001b[43mnumerator\u001b[49m\u001b[43m \u001b[49m\u001b[38;5;241;43m/\u001b[39;49m\u001b[43m \u001b[49m\u001b[43mdenominator\u001b[49m\n",
      "\u001b[0;31mZeroDivisionError\u001b[0m: division by zero"
     ]
    }
   ],
   "source": [
    "# Division by zero\n",
    "numerator = 10\n",
    "denominator = 0\n",
    "result = numerator / denominator\n"
   ]
  },
  {
   "cell_type": "markdown",
   "id": "a8581070-c1e5-4e04-ae53-52909a44501e",
   "metadata": {},
   "source": [
    "In the above code, we are attempting to divide the variable numerator by denominator, which has a value of zero. This will raise a ZeroDivisionError exception, as division by zero is not allowed in Python."
   ]
  },
  {
   "cell_type": "markdown",
   "id": "780b93a8-db4a-4a40-886a-8e1465e19338",
   "metadata": {},
   "source": [
    "Answer 3\n",
    "\n",
    "In Python, the try-except block is used to catch and handle exceptions. The try statement is used to enclose the code that might raise an exception, while the except statement is used to define the block of code that will be executed when an exception is raised.\n",
    "\n",
    "Here is an example of how to use the try-except block to catch and handle an exception in Python:"
   ]
  },
  {
   "cell_type": "code",
   "execution_count": 2,
   "id": "4cd5cc38-5036-4607-8680-366bab600fa3",
   "metadata": {},
   "outputs": [
    {
     "name": "stdout",
     "output_type": "stream",
     "text": [
      "Error: Cannot divide by zero\n"
     ]
    }
   ],
   "source": [
    "try:\n",
    "    numerator = 10\n",
    "    denominator = 0\n",
    "    result = numerator / denominator\n",
    "    print(result)\n",
    "except ZeroDivisionError:\n",
    "    print(\"Error: Cannot divide by zero\")\n"
   ]
  },
  {
   "cell_type": "markdown",
   "id": "e91a7c11-2dab-4c6f-8b70-505c8a56858b",
   "metadata": {},
   "source": [
    "Answer 4"
   ]
  },
  {
   "cell_type": "code",
   "execution_count": 8,
   "id": "9fde4b25-31fc-44ec-8ba3-8a62135a9775",
   "metadata": {},
   "outputs": [
    {
     "name": "stdout",
     "output_type": "stream",
     "text": [
      "5.0\n",
      "Exception Raised\n"
     ]
    }
   ],
   "source": [
    "# try and else\n",
    "\n",
    "try:\n",
    "    print(5/1)\n",
    "except ZeroDivisionError:\n",
    "    print(\"Zero Division Error\")\n",
    "else:\n",
    "    print(\"Exception Raised\")"
   ]
  },
  {
   "cell_type": "code",
   "execution_count": 10,
   "id": "4e8fb6ca-9628-42cb-a952-97e60512d608",
   "metadata": {},
   "outputs": [
    {
     "name": "stdout",
     "output_type": "stream",
     "text": [
      "5.0\n",
      "Always Works\n"
     ]
    }
   ],
   "source": [
    "# Finally\n",
    "\n",
    "try:\n",
    "    print(5/1)\n",
    "except ZeroDivisionError:\n",
    "    print(\"Zero Division Error\")\n",
    "finally:\n",
    "    print(\"Always Works\")"
   ]
  },
  {
   "cell_type": "code",
   "execution_count": 11,
   "id": "8a7fbc28-d890-4900-a69d-28f521520997",
   "metadata": {},
   "outputs": [
    {
     "name": "stdout",
     "output_type": "stream",
     "text": [
      "Zero Division Error\n",
      "Always Works\n"
     ]
    }
   ],
   "source": [
    "# Finally\n",
    "\n",
    "try:\n",
    "    print(5/0)\n",
    "except ZeroDivisionError:\n",
    "    print(\"Zero Division Error\")\n",
    "finally:\n",
    "    print(\"Always Works\")"
   ]
  },
  {
   "cell_type": "code",
   "execution_count": 38,
   "id": "710ed04a-8b8e-4ee5-b439-967fcc7d9ef2",
   "metadata": {},
   "outputs": [],
   "source": [
    "# raise\n",
    "\n",
    "class RaiseExceptionOf1(Exception):\n",
    "    def __init__(self,message):\n",
    "        self.message = message\n",
    "    \n",
    "def RaiseExceptionZeroDivision(denominator):\n",
    "    if denominator == 1:\n",
    "        raise RaiseExceptionOf1(\"Provide Value Greater Than 1\")\n",
    "    else:\n",
    "        print(\"Passed\")"
   ]
  },
  {
   "cell_type": "code",
   "execution_count": 41,
   "id": "1e284b88-ab52-4325-9269-a20cf6d3fd93",
   "metadata": {},
   "outputs": [
    {
     "name": "stdin",
     "output_type": "stream",
     "text": [
      " 1\n"
     ]
    },
    {
     "name": "stdout",
     "output_type": "stream",
     "text": [
      "Provide Value Greater Than 1\n"
     ]
    }
   ],
   "source": [
    "try:\n",
    "    den = int(input())\n",
    "    RaiseExceptionZeroDivision(den)\n",
    "except RaiseExceptionOf1 as e:\n",
    "    print(e)"
   ]
  },
  {
   "cell_type": "markdown",
   "id": "9dad7525-5bcf-46c5-bc7d-8edad1bad57c",
   "metadata": {},
   "source": [
    "Answer 5\n",
    "\n",
    "In Python, custom exceptions are user-defined exceptions that allow us to create and raise exceptions with custom error messages or behavior. We can create our own exception classes by inheriting from the built-in Exception class or one of its subclasses.\n",
    "\n",
    "We may need custom exceptions in our code to better represent the specific errors that can occur in our program, and to handle them in a more specific and organized way. Custom exceptions can help make our code more readable, maintainable, and easier to debug.\n",
    "\n",
    "Here is an example of how to define and use a custom exception in Python:"
   ]
  },
  {
   "cell_type": "code",
   "execution_count": 42,
   "id": "5fc0dee6-c30e-43fc-b47c-af7d9cfbb25a",
   "metadata": {},
   "outputs": [
    {
     "name": "stdin",
     "output_type": "stream",
     "text": [
      "Enter a positive number:  2\n"
     ]
    },
    {
     "name": "stdout",
     "output_type": "stream",
     "text": [
      "2\n"
     ]
    }
   ],
   "source": [
    "class NegativeNumberError(Exception):\n",
    "    def __init__(self, number):\n",
    "        self.number = number\n",
    "        self.message = f\"Error: {number} is a negative number\"\n",
    "        super().__init__(self.message)\n",
    "\n",
    "try:\n",
    "    num = int(input(\"Enter a positive number: \"))\n",
    "    if num < 0:\n",
    "        raise NegativeNumberError(num)\n",
    "    print(num)\n",
    "except NegativeNumberError as e:\n",
    "    print(e.message)\n"
   ]
  },
  {
   "cell_type": "markdown",
   "id": "a2b03666-26c4-4087-9fbd-9f06c2f9ebc2",
   "metadata": {},
   "source": [
    "In the above code, we have defined a custom exception called NegativeNumberError that is raised when a user enters a negative number. The NegativeNumberError class inherits from the built-in Exception class, and its constructor takes a single argument, the negative number that caused the exception.\n",
    "\n",
    "We have then enclosed the input operation in a try block and checked if the number entered is negative. If it is, we raise a NegativeNumberError exception with the entered number as an argument.\n",
    "\n",
    "Finally, we have defined an except block that catches the NegativeNumberError exception and prints the error message associated with the exception to the console.\n",
    "\n",
    "By defining our own custom exception, we can handle negative numbers in a more specific and organized way. If we didn't use a custom exception, we would have to handle the ValueError exception that is raised when the input is not an integer and the if condition to check if the number is negative separately, making the code more cluttered and harder to read. With a custom exception, we can have a specific error message that is easy to understand and handle.\n",
    "\n",
    "\n",
    "\n"
   ]
  },
  {
   "cell_type": "markdown",
   "id": "f344b7d6-85ad-43b1-8c68-214ee04f27d4",
   "metadata": {},
   "source": [
    "Answer 6"
   ]
  },
  {
   "cell_type": "code",
   "execution_count": 43,
   "id": "401c909e-f5db-4f21-b2e9-6570803788db",
   "metadata": {},
   "outputs": [
    {
     "name": "stdin",
     "output_type": "stream",
     "text": [
      "Enter your password:  3rgg\n"
     ]
    },
    {
     "name": "stdout",
     "output_type": "stream",
     "text": [
      "Password must be at least 8 characters long\n"
     ]
    }
   ],
   "source": [
    "class InvalidPasswordError(Exception):\n",
    "    def __init__(self, message):\n",
    "        self.message = message\n",
    "        super().__init__(self.message)\n",
    "\n",
    "def check_password(password):\n",
    "    if len(password) < 8:\n",
    "        raise InvalidPasswordError(\"Password must be at least 8 characters long\")\n",
    "\n",
    "try:\n",
    "    password = input(\"Enter your password: \")\n",
    "    check_password(password)\n",
    "    print(\"Password accepted!\")\n",
    "except InvalidPasswordError as e:\n",
    "    print(e.message)\n"
   ]
  },
  {
   "cell_type": "markdown",
   "id": "85244442-1bb3-4d35-80e5-c54d076738a5",
   "metadata": {},
   "source": [
    "In the above code, we have defined a custom exception called InvalidPasswordError that is raised when a user enters a password that is less than 8 characters long. The InvalidPasswordError class inherits from the built-in Exception class, and its constructor takes a single argument, the error message that will be displayed when the exception is raised.\n",
    "\n",
    "We have then defined a check_password function that takes a password as an argument and checks if it is at least 8 characters long. If the password is too short, the function raises an InvalidPasswordError exception with an appropriate error message.\n",
    "\n",
    "Finally, we have enclosed the password input and validation operations in a try block, and defined an except block that catches the InvalidPasswordError exception and prints the error message associated with the exception to the console.\n",
    "\n",
    "If the user enters a password that is less than 8 characters long, the check_password function will raise an InvalidPasswordError exception, which will be caught by the except block and the error message \"Password must be at least 8 characters long\" will be printed to the console. Otherwise, the program will proceed normally and print the message \"Password accepted!\" to the console.\n",
    "\n",
    "By defining our own custom exception class, we can handle password validation errors in a more specific and organized way. If we didn't use a custom exception, we would have to handle the ValueError or TypeError exceptions that can be raised when checking the password length, making the code more cluttered and harder to read. With a custom exception, we can have a specific error message that is easy to understand and handle."
   ]
  },
  {
   "cell_type": "code",
   "execution_count": null,
   "id": "f186cbc1-eb52-4fd5-bf84-c8b4a90dc80b",
   "metadata": {},
   "outputs": [],
   "source": []
  }
 ],
 "metadata": {
  "kernelspec": {
   "display_name": "Python 3 (ipykernel)",
   "language": "python",
   "name": "python3"
  },
  "language_info": {
   "codemirror_mode": {
    "name": "ipython",
    "version": 3
   },
   "file_extension": ".py",
   "mimetype": "text/x-python",
   "name": "python",
   "nbconvert_exporter": "python",
   "pygments_lexer": "ipython3",
   "version": "3.10.8"
  }
 },
 "nbformat": 4,
 "nbformat_minor": 5
}
