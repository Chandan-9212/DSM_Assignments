{
 "cells": [
  {
   "cell_type": "markdown",
   "id": "c8e9e098-132b-4065-9b13-84ade0ba4467",
   "metadata": {},
   "source": [
    "**Q1. Is there any difference in the data type of variables list_ and array_list? If there is then write a code\n",
    "to print the data types of both the variables.**"
   ]
  },
  {
   "cell_type": "code",
   "execution_count": 1,
   "id": "119e12fe-277c-49c7-9f74-3322eae56895",
   "metadata": {},
   "outputs": [],
   "source": [
    "import numpy as np"
   ]
  },
  {
   "cell_type": "markdown",
   "id": "24863941-30bb-4d39-aca6-f0e1909fdeeb",
   "metadata": {},
   "source": [
    "In Python, there is a difference between the data types of lists and arrays.\n",
    "\n",
    "A list is a built-in data type in Python that represents a collection of ordered elements that can be of any data type. Lists are dynamic, which means their size can be changed during runtime.\n",
    "\n",
    "On the other hand, arrays in Python are not built-in data types, but can be created using third-party libraries such as NumPy. NumPy arrays are similar to lists in that they represent a collection of ordered elements. However, unlike lists, NumPy arrays have a fixed size and all the elements in the array must be of the same data type.\n",
    "\n",
    "In summary, in Python, a list is a built-in data type that can contain elements of different data types, while an array created using NumPy is a third-party data type that has a fixed size and all elements must be of the same data type."
   ]
  },
  {
   "cell_type": "code",
   "execution_count": 3,
   "id": "41afe1f1-b6ce-4f6d-b61d-39fb1d5f81d8",
   "metadata": {},
   "outputs": [
    {
     "name": "stdout",
     "output_type": "stream",
     "text": [
      "<class 'list'>\n",
      "<class 'numpy.ndarray'>\n"
     ]
    }
   ],
   "source": [
    "lists = [1,2,3,4]\n",
    "lists2 = np.array([1,2,3,4,5])\n",
    "print(type(lists))\n",
    "print(type(lists2))"
   ]
  },
  {
   "cell_type": "markdown",
   "id": "9ceb9368-7907-4db6-86f5-4132f0d45d87",
   "metadata": {},
   "source": [
    "**Q2. Write a code to print the data type of each and every element of both the variables list_ and\n",
    "arra_list.**"
   ]
  },
  {
   "cell_type": "code",
   "execution_count": 6,
   "id": "ac9e14a9-0c41-4286-b147-36916358bce5",
   "metadata": {},
   "outputs": [],
   "source": [
    "list_ = ['1' , '2' , '3' , '4' , '5' ]\n",
    "array_list = np.array(object = list_)"
   ]
  },
  {
   "cell_type": "code",
   "execution_count": 7,
   "id": "27d4991e-4b87-4878-a3cb-28fca80ffa5b",
   "metadata": {},
   "outputs": [
    {
     "name": "stdout",
     "output_type": "stream",
     "text": [
      "<class 'str'>\n",
      "<class 'str'>\n",
      "<class 'str'>\n",
      "<class 'str'>\n",
      "<class 'str'>\n"
     ]
    }
   ],
   "source": [
    "for i in list_:\n",
    "    print(type(i))"
   ]
  },
  {
   "cell_type": "code",
   "execution_count": 8,
   "id": "5ceb5250-38ef-4d0a-825e-85a6ae605d25",
   "metadata": {},
   "outputs": [
    {
     "name": "stdout",
     "output_type": "stream",
     "text": [
      "<class 'numpy.str_'>\n",
      "<class 'numpy.str_'>\n",
      "<class 'numpy.str_'>\n",
      "<class 'numpy.str_'>\n",
      "<class 'numpy.str_'>\n"
     ]
    }
   ],
   "source": [
    "for i in array_list:\n",
    "    print(type(i))"
   ]
  },
  {
   "cell_type": "markdown",
   "id": "03c248c7-ddec-464c-adf0-1249050fadfb",
   "metadata": {},
   "source": [
    "**Q3. Considering the following changes in the variable, array_list:**"
   ]
  },
  {
   "cell_type": "code",
   "execution_count": 10,
   "id": "307d5846-1f52-41c2-b7c0-8577195841c9",
   "metadata": {},
   "outputs": [],
   "source": [
    "array_list = np.array(object = list_, dtype = int)"
   ]
  },
  {
   "cell_type": "markdown",
   "id": "5d607a5a-bda5-4911-9357-2b696132deec",
   "metadata": {},
   "source": [
    "In Python, there is a difference between the data types of lists and arrays.\n",
    "\n",
    "A list is a built-in data type in Python that represents a collection of ordered elements that can be of any data type. Lists are dynamic, which means their size can be changed during runtime.\n",
    "\n",
    "On the other hand, arrays in Python are not built-in data types, but can be created using third-party libraries such as NumPy. NumPy arrays are similar to lists in that they represent a collection of ordered elements. However, unlike lists, NumPy arrays have a fixed size and all the elements in the array must be of the same data type.\n",
    "\n",
    "In summary, in Python, a list is a built-in data type that can contain elements of different data types, while an array created using NumPy is a third-party data type that has a fixed size and all elements must be of the same data type."
   ]
  },
  {
   "cell_type": "code",
   "execution_count": 11,
   "id": "091efe44-2d86-4709-9e22-b384ca3bd8a2",
   "metadata": {},
   "outputs": [
    {
     "name": "stdout",
     "output_type": "stream",
     "text": [
      "<class 'str'>\n",
      "<class 'str'>\n",
      "<class 'str'>\n",
      "<class 'str'>\n",
      "<class 'str'>\n"
     ]
    }
   ],
   "source": [
    "for i in list_:\n",
    "    print(type(i))"
   ]
  },
  {
   "cell_type": "code",
   "execution_count": 12,
   "id": "be573f8e-fbb7-41f7-84d1-31e7094b2d3c",
   "metadata": {},
   "outputs": [
    {
     "name": "stdout",
     "output_type": "stream",
     "text": [
      "<class 'numpy.int64'>\n",
      "<class 'numpy.int64'>\n",
      "<class 'numpy.int64'>\n",
      "<class 'numpy.int64'>\n",
      "<class 'numpy.int64'>\n"
     ]
    }
   ],
   "source": [
    "for i in array_list:\n",
    "    print(type(i))"
   ]
  },
  {
   "cell_type": "markdown",
   "id": "ba53688c-6a20-4984-b73f-e32336d18809",
   "metadata": {},
   "source": [
    "**Q4. Write a code to find the following characteristics of variable, num_array:\n",
    "(i) shape\n",
    "(ii) size**"
   ]
  },
  {
   "cell_type": "code",
   "execution_count": 13,
   "id": "824821ad-766b-4a81-987a-f593029cc779",
   "metadata": {},
   "outputs": [
    {
     "name": "stdout",
     "output_type": "stream",
     "text": [
      "Array shape:  (3, 3)\n",
      "Array size:  9\n"
     ]
    }
   ],
   "source": [
    "import numpy as np\n",
    "\n",
    "# create a sample NumPy array\n",
    "num_array = np.array([[1, 2, 3], [4, 5, 6], [7, 8, 9]])\n",
    "\n",
    "# find the shape of the array\n",
    "array_shape = num_array.shape\n",
    "\n",
    "# find the size of the array\n",
    "array_size = num_array.size\n",
    "\n",
    "# print the shape and size of the array\n",
    "print(\"Array shape: \", array_shape)\n",
    "print(\"Array size: \", array_size)\n"
   ]
  },
  {
   "cell_type": "markdown",
   "id": "70992d32-8af8-48c7-8e18-3c794ae11e98",
   "metadata": {},
   "source": [
    "**Q5. Write a code to create numpy array of 3*3 matrix containing zeros only, using a numpy array\n",
    "creation function.\n",
    "[Hint: The size of the array will be 9 and the shape will be (3,3).]**"
   ]
  },
  {
   "cell_type": "code",
   "execution_count": 18,
   "id": "c10f435b-3f9d-47f8-b5e3-7ca5c6adc07d",
   "metadata": {},
   "outputs": [],
   "source": [
    "arrays = np.array((np.zeros(3),np.zeros(3),np.zeros(3)))"
   ]
  },
  {
   "cell_type": "code",
   "execution_count": 19,
   "id": "05f4a2c8-7ce1-4711-ade7-5e1fb7a8d770",
   "metadata": {},
   "outputs": [
    {
     "data": {
      "text/plain": [
       "(3, 3)"
      ]
     },
     "execution_count": 19,
     "metadata": {},
     "output_type": "execute_result"
    }
   ],
   "source": [
    "arrays.shape"
   ]
  },
  {
   "cell_type": "code",
   "execution_count": 20,
   "id": "54140e39-95f6-4297-9815-40680bf32c51",
   "metadata": {},
   "outputs": [
    {
     "data": {
      "text/plain": [
       "9"
      ]
     },
     "execution_count": 20,
     "metadata": {},
     "output_type": "execute_result"
    }
   ],
   "source": [
    "arrays.size"
   ]
  },
  {
   "cell_type": "markdown",
   "id": "84c2ffda-ca90-4f2f-8d16-f2c4defd6b55",
   "metadata": {},
   "source": [
    "**Q6. Create an identity matrix of shape (5,5) using numpy functions?\n",
    "[Hint: An identity matrix is a matrix containing 1 diagonally and other elements will be 0.]**"
   ]
  },
  {
   "cell_type": "code",
   "execution_count": 23,
   "id": "fba854fd-14ee-4ddb-afb5-e3044caaae60",
   "metadata": {},
   "outputs": [
    {
     "name": "stdout",
     "output_type": "stream",
     "text": [
      "[[1. 0. 0. 0. 0.]\n",
      " [0. 1. 0. 0. 0.]\n",
      " [0. 0. 1. 0. 0.]\n",
      " [0. 0. 0. 1. 0.]\n",
      " [0. 0. 0. 0. 1.]]\n"
     ]
    }
   ],
   "source": [
    "import numpy as np\n",
    "\n",
    "# create identity matrix using numpy\n",
    "identity_matrix = np.identity(5)\n",
    "\n",
    "# print the identity matrix\n",
    "print(identity_matrix)\n"
   ]
  },
  {
   "cell_type": "code",
   "execution_count": null,
   "id": "5ad3592b-87a3-46dd-955c-e5845b952ad8",
   "metadata": {},
   "outputs": [],
   "source": []
  }
 ],
 "metadata": {
  "kernelspec": {
   "display_name": "Python 3 (ipykernel)",
   "language": "python",
   "name": "python3"
  },
  "language_info": {
   "codemirror_mode": {
    "name": "ipython",
    "version": 3
   },
   "file_extension": ".py",
   "mimetype": "text/x-python",
   "name": "python",
   "nbconvert_exporter": "python",
   "pygments_lexer": "ipython3",
   "version": "3.10.8"
  }
 },
 "nbformat": 4,
 "nbformat_minor": 5
}
