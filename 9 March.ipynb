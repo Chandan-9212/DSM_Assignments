{
 "cells": [
  {
   "cell_type": "markdown",
   "metadata": {},
   "source": [
    "**Q1: What are the Probability Mass Function (PMF) and Probability Density Function (PDF)? Explain with\n",
    "an example.**"
   ]
  },
  {
   "cell_type": "markdown",
   "metadata": {},
   "source": [
    "The Probability Mass Function (PMF) and Probability Density Function (PDF) are two fundamental concepts in probability theory used to describe the distribution of a random variable.\n",
    "\n",
    "The PMF is used to describe the probability distribution of a discrete random variable, which can only take on a finite or countably infinite set of values. The PMF assigns a probability to each possible outcome of the random variable, and the sum of all probabilities is equal to one. For example, consider a fair six-sided die. The PMF of the die can be defined as follows:\n",
    "\n",
    "PMF(x) = 1/6, for x = 1,2,3,4,5,6\n",
    "\n",
    "This means that the probability of getting any one of the six possible outcomes is 1/6.\n",
    "\n",
    "The PDF, on the other hand, is used to describe the probability distribution of a continuous random variable, which can take on any value in a certain interval. The PDF assigns a probability density to each value of the random variable, and the integral of the PDF over the entire interval is equal to one. For example, consider the height of people in a population. The PDF of the height can be defined as follows:\n",
    "\n",
    "PDF(x) = 1/(σ√2π) * e^(-(x-μ)^2/2σ^2)\n",
    "\n",
    "where μ is the mean height, σ is the standard deviation, and e is the base of the natural logarithm. This PDF represents a normal distribution, which is a commonly used distribution for continuous random variables.\n",
    "\n",
    "In summary, the PMF and PDF are two different ways of describing the probability distribution of a random variable. The PMF is used for discrete random variables, while the PDF is used for continuous random variables.\n",
    "\n",
    "\n",
    "\n",
    "\n",
    "\n"
   ]
  },
  {
   "cell_type": "markdown",
   "metadata": {},
   "source": [
    "**Q2: What is Cumulative Density Function (CDF)? Explain with an example. Why CDF is used?**"
   ]
  },
  {
   "cell_type": "markdown",
   "metadata": {},
   "source": [
    "The Cumulative Density Function (CDF) is a function that describes the probability that a random variable takes a value less than or equal to a given value. The CDF is defined for both discrete and continuous random variables.\n",
    "\n",
    "For a discrete random variable X, the CDF is defined as:\n",
    "\n",
    "F(x) = P(X <= x)\n",
    "\n",
    "where P is the probability function, X is the random variable, and x is a specific value.\n",
    "\n",
    "For a continuous random variable X, the CDF is defined as:\n",
    "\n",
    "F(x) = integral of f(t) dt, from minus infinity to x\n",
    "\n",
    "where f is the probability density function of X.\n",
    "\n",
    "To understand the CDF, consider the example of rolling a fair six-sided die. The CDF of the die can be defined as:\n",
    "\n",
    "F(x) = probability of rolling a number less than or equal to x\n",
    "\n",
    "The CDF for the die is shown in the following table:\n",
    "\n",
    "x\tF(x)\n",
    "1\t1/6\n",
    "2\t1/3\n",
    "3\t1/2\n",
    "4\t2/3\n",
    "5\t5/6\n",
    "6\t1\n",
    "The CDF can be used to answer questions such as \"What is the probability of rolling a number between 2 and 5?\" This can be calculated by subtracting the CDF at 1 from the CDF at 5, which gives (5/6 - 1/6) = 4/6 = 2/3.\n",
    "\n",
    "The CDF is used because it provides a complete description of the probability distribution of a random variable. It allows us to calculate the probability of any event by integrating the PDF (in the case of a continuous random variable) or summing the PMF (in the case of a discrete random variable) over the appropriate interval. Additionally, the CDF can be used to generate other useful quantities, such as the mean, variance, and standard deviation of the random variable.\n",
    "\n",
    "\n",
    "\n",
    "\n",
    "\n"
   ]
  },
  {
   "cell_type": "markdown",
   "metadata": {},
   "source": [
    "**Q3: What are some examples of situations where the normal distribution might be used as a model?\n",
    "Explain how the parameters of the normal distribution relate to the shape of the distribution.**"
   ]
  },
  {
   "cell_type": "markdown",
   "metadata": {},
   "source": [
    "The normal distribution, also known as the Gaussian distribution, is a commonly used probability distribution in many fields, including statistics, physics, finance, and engineering. It is a continuous distribution that is often used as a model for real-world phenomena due to its wide range of applicability and simple mathematical properties.\n",
    "\n",
    "Some examples of situations where the normal distribution might be used as a model include:\n",
    "\n",
    "Heights of a large population: The distribution of heights in a large population tends to follow a normal distribution, with the mean height being the central tendency of the distribution.\n",
    "\n",
    "Test scores: The distribution of test scores, such as the SAT or GRE, also tends to follow a normal distribution. This can be useful for setting cutoff scores or identifying outliers.\n",
    "\n",
    "Measurement errors: In experimental sciences, measurement errors often follow a normal distribution, with the mean representing the true value and the standard deviation representing the precision of the measurement.\n",
    "\n",
    "The normal distribution is characterized by two parameters: the mean (μ) and the standard deviation (σ). The mean represents the center of the distribution, while the standard deviation represents the spread of the distribution.\n",
    "\n",
    "The shape of the normal distribution is symmetrical around the mean, with the highest point of the curve occurring at the mean. The standard deviation determines the width of the curve, with larger values of σ resulting in a wider curve and smaller values of σ resulting in a narrower curve.\n",
    "\n",
    "Furthermore, the normal distribution has a special property known as the 68-95-99.7 rule, which states that approximately 68% of the data falls within one standard deviation of the mean, approximately 95% falls within two standard deviations of the mean, and approximately 99.7% falls within three standard deviations of the mean. This property makes the normal distribution a useful tool for understanding and analyzing data in many fields.\n",
    "\n",
    "\n",
    "\n",
    "\n",
    "\n"
   ]
  },
  {
   "cell_type": "markdown",
   "metadata": {},
   "source": [
    "**Q4: Explain the importance of Normal Distribution. Give a few real-life examples of Normal\n",
    "Distribution.**"
   ]
  },
  {
   "cell_type": "markdown",
   "metadata": {},
   "source": [
    "The normal distribution is important because it is a mathematical model that describes many natural phenomena in the real world. It is widely used in statistics, finance, physics, and other fields because of its simple mathematical properties and the fact that it is well-understood and well-studied.\n",
    "\n",
    "One of the most important properties of the normal distribution is the central limit theorem, which states that the sum or average of a large number of independent and identically distributed random variables will tend towards a normal distribution, regardless of the distribution of the original variables. This makes the normal distribution a useful tool for modeling and understanding many real-world phenomena.\n",
    "\n",
    "Here are some examples of real-life phenomena that can be modeled using the normal distribution:\n",
    "\n",
    "Heights of a large population: The distribution of heights in a large population tends to follow a normal distribution, with the mean height being the central tendency of the distribution.\n",
    "\n",
    "Test scores: The distribution of test scores, such as the SAT or GRE, also tends to follow a normal distribution. This can be useful for setting cutoff scores or identifying outliers.\n",
    "\n",
    "IQ scores: IQ scores are often modeled using a normal distribution, with a mean of 100 and a standard deviation of 15.\n",
    "\n",
    "Stock prices: The daily returns of stock prices are often modeled using a normal distribution, with the mean return being the expected return and the standard deviation representing the volatility of the stock.\n",
    "\n",
    "Errors in measurements: In experimental sciences, measurement errors often follow a normal distribution, with the mean representing the true value and the standard deviation representing the precision of the measurement.\n",
    "\n",
    "Overall, the normal distribution is an important tool for understanding and analyzing data in many fields. Its simplicity and well-understood properties make it a powerful mathematical model that has wide-ranging applications in both theoretical and practical settings.\n",
    "\n",
    "\n",
    "\n",
    "\n",
    "\n"
   ]
  },
  {
   "cell_type": "markdown",
   "metadata": {},
   "source": [
    "**Q5: What is Bernaulli Distribution? Give an Example. What is the difference between Bernoulli\n",
    "Distribution and Binomial Distribution?**"
   ]
  },
  {
   "cell_type": "markdown",
   "metadata": {},
   "source": [
    "The Bernoulli distribution is a discrete probability distribution that represents the outcome of a single binary event, where the event can have one of two outcomes, typically labeled as 1 (success) or 0 (failure). The Bernoulli distribution is named after Swiss mathematician Jacob Bernoulli.\n",
    "\n",
    "The probability mass function (PMF) of the Bernoulli distribution is:\n",
    "\n",
    "P(X = 1) = p\n",
    "\n",
    "P(X = 0) = 1 - p\n",
    "\n",
    "where p is the probability of success.\n",
    "\n",
    "An example of the Bernoulli distribution is flipping a coin, where the outcome can be heads (success) or tails (failure). If we define success as getting heads, then the probability of success is 0.5 and the probability of failure is also 0.5. Therefore, the PMF of the Bernoulli distribution in this case is:\n",
    "\n",
    "P(X = 1) = 0.5\n",
    "\n",
    "P(X = 0) = 0.5\n",
    "\n",
    "The Bernoulli distribution is a special case of the binomial distribution, which represents the probability of k successes in n independent and identical Bernoulli trials. The difference between the Bernoulli distribution and the binomial distribution is that the Bernoulli distribution represents the probability of a single event, while the binomial distribution represents the probability of multiple events.\n",
    "\n",
    "The probability mass function (PMF) of the binomial distribution is:\n",
    "\n",
    "P(X = k) = (n choose k) * p^k * (1-p)^(n-k)\n",
    "\n",
    "where n is the number of trials, k is the number of successes, p is the probability of success in each trial, and (n choose k) is the binomial coefficient, which represents the number of ways to choose k successes from n trials.\n",
    "\n",
    "For example, if we flip a fair coin 5 times and define success as getting heads, then the probability of success in each trial is 0.5 and the PMF of the binomial distribution is:\n",
    "\n",
    "P(X = 0) = 0.03125\n",
    "\n",
    "P(X = 1) = 0.15625\n",
    "\n",
    "P(X = 2) = 0.3125\n",
    "\n",
    "P(X = 3) = 0.3125\n",
    "\n",
    "P(X = 4) = 0.15625\n",
    "\n",
    "P(X = 5) = 0.03125\n",
    "\n",
    "In summary, the Bernoulli distribution represents the probability of a single binary event, while the binomial distribution represents the probability of multiple events. The Bernoulli distribution is a special case of the binomial distribution where n=1.\n",
    "\n",
    "\n",
    "\n",
    "\n",
    "\n"
   ]
  },
  {
   "cell_type": "markdown",
   "metadata": {},
   "source": [
    "**Q6. Consider a dataset with a mean of 50 and a standard deviation of 10. If we assume that the dataset\n",
    "is normally distributed, what is the probability that a randomly selected observation will be greater\n",
    "than 60? Use the appropriate formula and show your calculations.**"
   ]
  },
  {
   "cell_type": "markdown",
   "metadata": {},
   "source": [
    "To find the probability that a randomly selected observation from a normally distributed dataset with a mean of 50 and a standard deviation of 10 will be greater than 60, we need to calculate the z-score and then use the standard normal distribution table or calculator to find the probability.\n",
    "\n",
    "The formula for the z-score is:\n",
    "\n",
    "z = (x - μ) / σ\n",
    "\n",
    "where x is the value of the observation we want to find the probability for, μ is the mean of the dataset, and σ is the standard deviation of the dataset.\n",
    "\n",
    "Substituting the given values, we get:\n",
    "\n",
    "z = (60 - 50) / 10 = 1\n",
    "\n",
    "Now, using a standard normal distribution table or calculator, we can find that the probability of a z-score of 1 or greater is approximately 0.1587.\n",
    "\n",
    "Therefore, the probability that a randomly selected observation from a normally distributed dataset with a mean of 50 and a standard deviation of 10 will be greater than 60 is approximately 0.1587 or 15.87%.\n",
    "\n",
    "\n",
    "\n",
    "\n",
    "\n"
   ]
  },
  {
   "cell_type": "markdown",
   "metadata": {},
   "source": [
    "**Q7: Explain uniform Distribution with an example.**"
   ]
  },
  {
   "cell_type": "markdown",
   "metadata": {},
   "source": [
    "e uniform distribution is a continuous probability distribution where all values within a certain range have an equal probability of occurring. The uniform distribution is often used in statistics and probability theory to model situations where each outcome in a given range is equally likely.\n",
    "\n",
    "The probability density function (PDF) of the uniform distribution is given by:\n",
    "\n",
    "f(x) = 1 / (b-a) for a <= x <= b\n",
    "\n",
    "where a is the lower bound of the distribution, b is the upper bound of the distribution, and f(x) represents the probability density of the distribution at x.\n",
    "\n",
    "An example of the uniform distribution is the roll of a fair six-sided die. In this case, each outcome (1, 2, 3, 4, 5, or 6) has an equal probability of occurring, which is 1/6. Therefore, the uniform distribution for the roll of a die can be represented by:\n",
    "\n",
    "f(x) = 1 / 6 for x = 1, 2, 3, 4, 5, 6\n",
    "\n",
    "Another example of the uniform distribution is the time it takes for a traffic light to turn green. If the traffic light is programmed to have a fixed duration of 60 seconds, then each second within that time frame has an equal probability of being the exact moment when the light turns green. Therefore, the uniform distribution for the time it takes for the traffic light to turn green can be represented by:\n",
    "\n",
    "f(x) = 1 / 60 for 0 <= x <= 60\n",
    "\n",
    "In summary, the uniform distribution is a probability distribution where all values within a certain range have an equal probability of occurring. It is often used in situations where each outcome in a given range is equally likely, such as rolling a die or waiting for a traffic light to turn green.\n",
    "\n",
    "\n",
    "\n",
    "\n",
    "\n"
   ]
  },
  {
   "cell_type": "markdown",
   "metadata": {},
   "source": [
    "**Q8: What is the z score? State the importance of the z score.**"
   ]
  },
  {
   "cell_type": "markdown",
   "metadata": {},
   "source": [
    "The z-score, also known as the standard score, is a statistical measure that indicates how many standard deviations an observation or data point is from the mean of a population or sample. It is calculated by subtracting the mean from the observed value and then dividing the result by the standard deviation:\n",
    "\n",
    "z = (x - μ) / σ\n",
    "\n",
    "where z is the z-score, x is the observed value, μ is the mean of the population or sample, and σ is the standard deviation of the population or sample.\n",
    "\n",
    "The z-score is important because it standardizes data, making it easier to compare observations from different populations or samples. By transforming data into z-scores, we can compare observations that are measured on different scales or with different units. A z-score of zero represents the mean of the data, and positive or negative z-scores represent values above or below the mean, respectively.\n",
    "\n",
    "The z-score can also be used to calculate probabilities associated with a normal distribution. By using a standard normal distribution table or calculator, we can determine the probability of observing a value within a certain range of z-scores. For example, a z-score of 1.96 corresponds to the 97.5th percentile of a standard normal distribution, which means that there is a 97.5% probability of observing a value lower than that z-score.\n",
    "\n",
    "In summary, the z-score is a statistical measure that standardizes data by indicating how many standard deviations an observation or data point is from the mean of a population or sample. It is important because it allows for the comparison of observations from different populations or samples and can be used to calculate probabilities associated with a normal distribution.\n",
    "\n",
    "\n",
    "\n",
    "\n",
    "\n"
   ]
  },
  {
   "cell_type": "markdown",
   "metadata": {},
   "source": [
    "**Q9: What is Central Limit Theorem? State the significance of the Central Limit Theorem.**"
   ]
  },
  {
   "cell_type": "markdown",
   "metadata": {},
   "source": [
    "The Central Limit Theorem (CLT) is a fundamental concept in probability theory and statistics that states that, under certain conditions, the distribution of the sample means of a population will be approximately normally distributed, regardless of the underlying distribution of the population. Specifically, as the sample size increases, the sample mean will converge to a normal distribution with a mean equal to the population mean and a variance equal to the population variance divided by the sample size.\n",
    "\n",
    "The significance of the Central Limit Theorem is that it provides a powerful tool for statistical inference, allowing us to make conclusions about a population based on a sample of data. It also allows us to make assumptions about the behavior of sample means, even if we do not know the underlying distribution of the population.\n",
    "\n",
    "The Central Limit Theorem is widely used in many areas of science, including social sciences, engineering, and finance. For example, it is used in public opinion polling to estimate the proportion of a population that holds a particular opinion, and in quality control to test whether a manufacturing process is producing products that meet certain specifications. The CLT is also important in hypothesis testing, confidence interval estimation, and regression analysis.\n",
    "\n",
    "In summary, the Central Limit Theorem is a fundamental concept in probability theory and statistics that states that, under certain conditions, the distribution of the sample means of a population will be approximately normally distributed. Its significance lies in its ability to allow for statistical inference and make assumptions about sample means, even if we do not know the underlying distribution of the population.\n",
    "\n",
    "\n",
    "\n",
    "\n",
    "\n"
   ]
  },
  {
   "cell_type": "markdown",
   "metadata": {},
   "source": [
    "**Q10: State the assumptions of the Central Limit Theorem.**"
   ]
  },
  {
   "cell_type": "code",
   "execution_count": null,
   "metadata": {},
   "outputs": [],
   "source": []
  }
 ],
 "metadata": {
  "kernelspec": {
   "display_name": "Python 3",
   "language": "python",
   "name": "python3"
  },
  "language_info": {
   "codemirror_mode": {
    "name": "ipython",
    "version": 3
   },
   "file_extension": ".py",
   "mimetype": "text/x-python",
   "name": "python",
   "nbconvert_exporter": "python",
   "pygments_lexer": "ipython3",
   "version": "3.8.5"
  }
 },
 "nbformat": 4,
 "nbformat_minor": 4
}
