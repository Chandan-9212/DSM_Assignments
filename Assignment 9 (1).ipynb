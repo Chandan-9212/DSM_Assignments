{
 "cells": [
  {
   "cell_type": "markdown",
   "id": "2053a6dc-91c9-490f-843e-2eb6ff4423a8",
   "metadata": {},
   "source": [
    "# Assignment 9"
   ]
  },
  {
   "cell_type": "markdown",
   "id": "ff7e216a-35d4-429e-9f26-e8aba759bb19",
   "metadata": {},
   "source": [
    "**Q1. You are writing code for a company. The requirement of the company is that you create a python\n",
    "function that will check whether the password entered by the user is correct or not. The function should\n",
    "take the password as input and return the string “Valid Password” if the entered password follows the\n",
    "below-given password guidelines else it should return “Invalid Password”.**"
   ]
  },
  {
   "cell_type": "markdown",
   "id": "8b7add69-0354-4939-81f3-c354ad169510",
   "metadata": {},
   "source": [
    "**Note:**\n",
    "\n",
    "**1. The Password should contain at least two uppercase letters and at least two lowercase letters.**\n",
    "\n",
    "**2. The Password should contain at least a number and three special characters.**\n",
    "\n",
    "**3. The length of the password should be 10 characters long.**"
   ]
  },
  {
   "cell_type": "code",
   "execution_count": 8,
   "id": "739ea38b-f2e6-4c0f-87c6-61f4631f9b41",
   "metadata": {},
   "outputs": [],
   "source": [
    "def password_validation(password):\n",
    "    sc_list = \"@ _ ! # $ % ^ & * ( ) < > ? / \\ | } { ~ :\".split()\n",
    "    uppercase = 0\n",
    "    lowercase = 0\n",
    "    number = 0\n",
    "    special_char = 0\n",
    "    length = len(password)\n",
    "    for i in password:\n",
    "        if i.isupper():\n",
    "            uppercase += 1\n",
    "        elif i.islower():\n",
    "            lowercase += 1\n",
    "        elif i in sc_list:\n",
    "            special_char += 1\n",
    "        elif i.isdigit():\n",
    "            number += 1\n",
    "    if uppercase >= 2 and lowercase >= 2 and number > 0 and special_char >= 3 and length >= 10:\n",
    "            print(\"Valid Password\")\n",
    "    else:\n",
    "            print(\"Invalid Password\")\n",
    "        "
   ]
  },
  {
   "cell_type": "code",
   "execution_count": 15,
   "id": "82dc2bd3-d729-48f9-b412-b635696ca435",
   "metadata": {},
   "outputs": [
    {
     "name": "stdout",
     "output_type": "stream",
     "text": [
      "Valid Password\n"
     ]
    }
   ],
   "source": [
    "password_validation(\"SHivam@@@.9212\")"
   ]
  },
  {
   "cell_type": "markdown",
   "id": "3ee2d5de-b02f-49a5-bca6-5d95d8e5ec7e",
   "metadata": {},
   "source": [
    "**Q2. Solve the below-given questions using at least one of the following:**\n",
    "1. Lambda function\n",
    "2. Filter function\n",
    "3. Zap function\n",
    "4. List Comprehension\n",
    "\n",
    "Check if the string starts with a particular letter\n",
    "\n",
    "Check if the string is numeric\n",
    "\n",
    "Sort a list of tuples having fruit names and their quantity. [(\"mango\",99),(\"orange\",80), (\"grapes\", 1000)-\n",
    "\n",
    "Find the squares of numbers from 1 to 10\n",
    "\n",
    "Find the cube root of numbers from 1 to 10\n",
    "\n",
    "Check if a given number is even\n",
    "\n",
    "Filter odd numbers from the given list. [1,2,3,4,5,6,7,8,9,10-\n",
    "\n",
    "Sort a list of integers into positive and negative integers lists.\n",
    "[1,2,3,4,5,6,-1,-2,-3,-4,-5,0]"
   ]
  },
  {
   "cell_type": "code",
   "execution_count": 16,
   "id": "fa32d010-da19-4f9c-8e24-f06a639188cb",
   "metadata": {},
   "outputs": [],
   "source": [
    "# Check if the string starts with a particular letter\n",
    "def start_letter(string, a):\n",
    "    if string[0] == a:\n",
    "        return True\n",
    "    return False"
   ]
  },
  {
   "cell_type": "code",
   "execution_count": 18,
   "id": "0554cbea-6426-4d71-bf95-ce3fa62d86c0",
   "metadata": {},
   "outputs": [],
   "source": [
    "# Check if the string is numeric\n",
    "def check_num(string):\n",
    "    if string.isdigit():\n",
    "        return True\n",
    "    return False"
   ]
  },
  {
   "cell_type": "code",
   "execution_count": 22,
   "id": "f98f6109-73df-4711-bb69-1032296008eb",
   "metadata": {},
   "outputs": [],
   "source": [
    "# Sort a list of tuples having fruit names and their quantity. [(\"mango\",99),(\"orange\",80), (\"grapes\", 1000)-\n",
    "def sort_tuples(tuples):\n",
    "    fruits = [(\"mango\", 99), (\"orange\", 80), (\"grapes\", 1000)]\n",
    "    sorted_fruits = sorted(fruits, key=lambda x: x[1])\n",
    "    print(sorted_fruits)"
   ]
  },
  {
   "cell_type": "code",
   "execution_count": 40,
   "id": "3e3eabce-577f-4c20-9c47-9f766b2fffed",
   "metadata": {},
   "outputs": [
    {
     "name": "stdout",
     "output_type": "stream",
     "text": [
      "[1, 4, 9, 16, 25, 36, 49, 64, 81, 100]\n"
     ]
    }
   ],
   "source": [
    "# Find the squares of numbers from 1 to 10\n",
    "a = map(lambda x: x**2, range(1,11))\n",
    "print(list(a))"
   ]
  },
  {
   "cell_type": "code",
   "execution_count": 41,
   "id": "3c4dad36-fada-4335-b60e-d51198c99fc2",
   "metadata": {},
   "outputs": [
    {
     "name": "stdout",
     "output_type": "stream",
     "text": [
      "[1, 8, 27, 64, 125, 216, 343, 512, 729, 1000]\n"
     ]
    }
   ],
   "source": [
    "# Find the cube root of numbers from 1 to 10\n",
    "a = map(lambda x: x**3, range(1,11))\n",
    "print(list(a))"
   ]
  },
  {
   "cell_type": "code",
   "execution_count": 42,
   "id": "7b7e1903-7ea6-4204-935a-d7029881188c",
   "metadata": {},
   "outputs": [],
   "source": [
    "# Check if a given number is even\n",
    "def num_even_odd_check(num):\n",
    "    if num % 2 == 0:\n",
    "        print(\"Even\")\n",
    "    else:\n",
    "        print(\"Odd\")"
   ]
  },
  {
   "cell_type": "code",
   "execution_count": 52,
   "id": "1455117e-85cc-4fd9-9fb1-2697b3a5bab4",
   "metadata": {},
   "outputs": [
    {
     "data": {
      "text/plain": [
       "[1, 3, 5, 7, 9]"
      ]
     },
     "execution_count": 52,
     "metadata": {},
     "output_type": "execute_result"
    }
   ],
   "source": [
    "# Filter odd numbers from the given list. [1,2,3,4,5,6,7,8,9,10]\n",
    "list(filter(lambda x: x % 2 != 0, [1,2,3,4,5,6,7,8,9,10]))"
   ]
  },
  {
   "cell_type": "code",
   "execution_count": 53,
   "id": "daf59f9a-71a1-4c8e-8fa6-5ab2311a7888",
   "metadata": {},
   "outputs": [
    {
     "data": {
      "text/plain": [
       "[-5, -4, -3, -2, -1, 0, 1, 2, 3, 4, 5, 6]"
      ]
     },
     "execution_count": 53,
     "metadata": {},
     "output_type": "execute_result"
    }
   ],
   "source": [
    "# Sort a list of integers into positive and negative integers lists. [1,2,3,4,5,6,-1,-2,-3,-4,-5,0]\n",
    "sorted([1,2,3,4,5,6,-1,-2,-3,-4,-5,0])"
   ]
  }
 ],
 "metadata": {
  "kernelspec": {
   "display_name": "Python 3 (ipykernel)",
   "language": "python",
   "name": "python3"
  },
  "language_info": {
   "codemirror_mode": {
    "name": "ipython",
    "version": 3
   },
   "file_extension": ".py",
   "mimetype": "text/x-python",
   "name": "python",
   "nbconvert_exporter": "python",
   "pygments_lexer": "ipython3",
   "version": "3.10.8"
  }
 },
 "nbformat": 4,
 "nbformat_minor": 5
}
