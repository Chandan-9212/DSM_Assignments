{
 "cells": [
  {
   "cell_type": "markdown",
   "id": "7fec4272-7401-4b7c-8fd4-fd2f5b8e9868",
   "metadata": {},
   "source": [
    "# Assignment 4"
   ]
  },
  {
   "cell_type": "markdown",
   "id": "833dfe59-ac36-4255-bd65-89ac6a8aa0cc",
   "metadata": {},
   "source": [
    "**Q1. Explain Class and Object with respect to Object-Oriented Programming. Give a suitable example.**"
   ]
  },
  {
   "cell_type": "markdown",
   "id": "0f168da8-cbe4-4c28-a1c4-817ebaba51f1",
   "metadata": {},
   "source": [
    "Classes are the blueprints that specifies the behaviour and attributes of the objects or the instances. Objects are the instance of the class meaning that a class can have multiple copies of itself exhibitng common and personalised or distinct behaviour. Example: Car (Class) is the blueprint which means all the four wheelers (Objects) have 4 wheels 1 windshield but they may differ in design and engines."
   ]
  },
  {
   "cell_type": "markdown",
   "id": "1c4a2e5b-67c4-4f5a-a7fe-9fa0aff8c22d",
   "metadata": {},
   "source": [
    "**Q2. Name the four pillars of OOPs.**"
   ]
  },
  {
   "cell_type": "markdown",
   "id": "d57e91ec-0dcd-4055-8eac-d4a1ffae0b56",
   "metadata": {},
   "source": [
    "1. Inheritence\n",
    "2. Encapsulation\n",
    "3. Abstraction\n",
    "4. Polymorphism"
   ]
  },
  {
   "cell_type": "markdown",
   "id": "5ecc50a8-d315-42ad-af40-ba2c0072af88",
   "metadata": {},
   "source": [
    "**Q3. Explain why the __init__() function is used. Give a suitable example.**"
   ]
  },
  {
   "cell_type": "markdown",
   "id": "570e40b4-4bc2-48e2-bc84-135166d236e0",
   "metadata": {},
   "source": [
    "init() is used for passing arguments as a parameter to the class for specifying the attribute and behaviour of the instance. "
   ]
  },
  {
   "cell_type": "code",
   "execution_count": 13,
   "id": "66ef7691-fedb-4259-9d04-8fbdc3761036",
   "metadata": {},
   "outputs": [],
   "source": [
    "class Cars:\n",
    "    def __init__(self, car_name):\n",
    "        self.no_of_wheels = 4\n",
    "        self.car_name = car_name\n",
    "    def wheels(self):\n",
    "        print(f\"{self.car_name} has {self.no_of_wheels} wheels\")"
   ]
  },
  {
   "cell_type": "code",
   "execution_count": 14,
   "id": "36407b9f-05cb-4bf4-9811-c794a0015c6b",
   "metadata": {},
   "outputs": [
    {
     "name": "stdout",
     "output_type": "stream",
     "text": [
      "Maruti has 4 wheels\n"
     ]
    }
   ],
   "source": [
    "Maruti = Cars(\"Maruti\")\n",
    "Maruti.wheels()"
   ]
  },
  {
   "cell_type": "markdown",
   "id": "8add4c3d-7f97-4ba2-b06b-bb37de274692",
   "metadata": {},
   "source": [
    "**Q4. Why self is used in OOPs?**"
   ]
  },
  {
   "cell_type": "markdown",
   "id": "ec2ea0a5-d70f-45a5-94ca-8b0144fee40e",
   "metadata": {},
   "source": [
    "self keyword is use for referencing the the parameters to the class as a attribute."
   ]
  },
  {
   "cell_type": "markdown",
   "id": "5338b656-aeee-4fd8-9491-e9dc695fe2eb",
   "metadata": {},
   "source": [
    "**Q5. What is inheritance? Give an example for each type of inheritance.**"
   ]
  },
  {
   "cell_type": "markdown",
   "id": "9704f696-d468-4b7c-8fd4-9c45c440e814",
   "metadata": {},
   "source": [
    "It is one of the 4 pillars of OOPs and generally used for reusability of code throughout the program."
   ]
  },
  {
   "cell_type": "code",
   "execution_count": null,
   "id": "fed6fed1-824a-4e75-80a0-77b8f7d6c542",
   "metadata": {},
   "outputs": [],
   "source": []
  }
 ],
 "metadata": {
  "kernelspec": {
   "display_name": "Python 3 (ipykernel)",
   "language": "python",
   "name": "python3"
  },
  "language_info": {
   "codemirror_mode": {
    "name": "ipython",
    "version": 3
   },
   "file_extension": ".py",
   "mimetype": "text/x-python",
   "name": "python",
   "nbconvert_exporter": "python",
   "pygments_lexer": "ipython3",
   "version": "3.10.8"
  }
 },
 "nbformat": 4,
 "nbformat_minor": 5
}
