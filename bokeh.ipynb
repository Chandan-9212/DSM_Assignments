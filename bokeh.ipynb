{
  "nbformat": 4,
  "nbformat_minor": 0,
  "metadata": {
    "colab": {
      "provenance": []
    },
    "kernelspec": {
      "name": "python3",
      "display_name": "Python 3"
    },
    "language_info": {
      "name": "python"
    }
  },
  "cells": [
    {
      "cell_type": "code",
      "execution_count": null,
      "metadata": {
        "id": "9OzzzdiW-4av"
      },
      "outputs": [],
      "source": []
    },
    {
      "cell_type": "markdown",
      "source": [
        "**Q1. How can you create a Bokeh plot using Python code?**"
      ],
      "metadata": {
        "id": "QGKs3LlFAB-T"
      }
    },
    {
      "cell_type": "markdown",
      "source": [
        "Bokeh is a Python library that provides a simple and powerful way to create interactive plots and visualizations in web browsers. Here's how you can create a Bokeh plot using Python code:\n",
        "\n",
        "Install Bokeh: First, you need to install the Bokeh library. You can do this using pip, the Python package installer, by running the following command in your terminal or command prompt:"
      ],
      "metadata": {
        "id": "DM6j3iow_LAK"
      }
    },
    {
      "cell_type": "code",
      "source": [
        "pip install bokeh\n"
      ],
      "metadata": {
        "colab": {
          "base_uri": "https://localhost:8080/"
        },
        "id": "t-YZkHZh_ORc",
        "outputId": "0c1469a9-192a-477c-b7cd-e0f90650fdc7"
      },
      "execution_count": 8,
      "outputs": [
        {
          "output_type": "stream",
          "name": "stdout",
          "text": [
            "Looking in indexes: https://pypi.org/simple, https://us-python.pkg.dev/colab-wheels/public/simple/\n",
            "Requirement already satisfied: bokeh in /usr/local/lib/python3.8/dist-packages (2.4.3)\n",
            "Requirement already satisfied: typing-extensions>=3.10.0 in /usr/local/lib/python3.8/dist-packages (from bokeh) (4.5.0)\n",
            "Requirement already satisfied: packaging>=16.8 in /usr/local/lib/python3.8/dist-packages (from bokeh) (23.0)\n",
            "Requirement already satisfied: numpy>=1.11.3 in /usr/local/lib/python3.8/dist-packages (from bokeh) (1.22.4)\n",
            "Requirement already satisfied: Jinja2>=2.9 in /usr/local/lib/python3.8/dist-packages (from bokeh) (3.1.2)\n",
            "Requirement already satisfied: tornado>=5.1 in /usr/local/lib/python3.8/dist-packages (from bokeh) (6.2)\n",
            "Requirement already satisfied: pillow>=7.1.0 in /usr/local/lib/python3.8/dist-packages (from bokeh) (8.4.0)\n",
            "Requirement already satisfied: PyYAML>=3.10 in /usr/local/lib/python3.8/dist-packages (from bokeh) (6.0)\n",
            "Requirement already satisfied: MarkupSafe>=2.0 in /usr/local/lib/python3.8/dist-packages (from Jinja2>=2.9->bokeh) (2.1.2)\n"
          ]
        }
      ]
    },
    {
      "cell_type": "code",
      "source": [],
      "metadata": {
        "id": "yP_y3qYE_QUR"
      },
      "execution_count": null,
      "outputs": []
    },
    {
      "cell_type": "markdown",
      "source": [
        "Import Bokeh: Once you have installed Bokeh, you need to import it into your Python script. You can do this by adding the following line of code at the beginning of your script:\n",
        "python"
      ],
      "metadata": {
        "id": "sxowzJOn_Sdx"
      }
    },
    {
      "cell_type": "code",
      "source": [
        "from bokeh.plotting import figure, show\n"
      ],
      "metadata": {
        "id": "vjI97cQb_TLW"
      },
      "execution_count": 9,
      "outputs": []
    },
    {
      "cell_type": "code",
      "source": [],
      "metadata": {
        "id": "M84wzXzg_Wtq"
      },
      "execution_count": null,
      "outputs": []
    },
    {
      "cell_type": "markdown",
      "source": [
        "This imports the figure and show functions from the bokeh.plotting module.\n",
        "\n",
        "Create a plot: You can create a plot by calling the figure function and passing it various arguments that specify the dimensions, title, and other properties of the plot. Here's an example:"
      ],
      "metadata": {
        "id": "f0Y3ZMoG_cn0"
      }
    },
    {
      "cell_type": "code",
      "source": [
        "p = figure(title='My Bokeh Plot', width=600, height=400)\n"
      ],
      "metadata": {
        "id": "nnayP9c7_ddP"
      },
      "execution_count": 10,
      "outputs": []
    },
    {
      "cell_type": "code",
      "source": [],
      "metadata": {
        "id": "DxEE4ecE_fSj"
      },
      "execution_count": null,
      "outputs": []
    },
    {
      "cell_type": "markdown",
      "source": [
        "This creates a plot with a title of 'My Bokeh Plot' and dimensions of 600 by 400 pixels.\n",
        "\n",
        "Add data: Once you have created your plot, you can add data to it by calling various plotting functions, such as line, circle, or scatter. Here's an example:"
      ],
      "metadata": {
        "id": "vCUi4I-7_jC5"
      }
    },
    {
      "cell_type": "code",
      "source": [
        "x = [1, 2, 3, 4, 5]\n",
        "y = [6, 7, 2, 4, 5]\n",
        "p.line(x, y, legend_label='Line', line_width=2)\n"
      ],
      "metadata": {
        "colab": {
          "base_uri": "https://localhost:8080/",
          "height": 34
        },
        "id": "ZZeuPQRd_jqi",
        "outputId": "cc2c1df5-0b7a-49be-f0c0-4e042ee7d72e"
      },
      "execution_count": 11,
      "outputs": [
        {
          "output_type": "execute_result",
          "data": {
            "text/plain": [
              "GlyphRenderer(id='1344', ...)"
            ],
            "text/html": [
              "<div style=\"display: table;\"><div style=\"display: table-row;\"><div style=\"display: table-cell;\"><b title=\"bokeh.models.renderers.GlyphRenderer\">GlyphRenderer</b>(</div><div style=\"display: table-cell;\">id&nbsp;=&nbsp;'1344', <span id=\"1359\" style=\"cursor: pointer;\">&hellip;)</span></div></div><div class=\"1358\" style=\"display: none;\"><div style=\"display: table-cell;\"></div><div style=\"display: table-cell;\">coordinates&nbsp;=&nbsp;None,</div></div><div class=\"1358\" style=\"display: none;\"><div style=\"display: table-cell;\"></div><div style=\"display: table-cell;\">data_source&nbsp;=&nbsp;ColumnDataSource(id='1340', ...),</div></div><div class=\"1358\" style=\"display: none;\"><div style=\"display: table-cell;\"></div><div style=\"display: table-cell;\">glyph&nbsp;=&nbsp;Line(id='1341', ...),</div></div><div class=\"1358\" style=\"display: none;\"><div style=\"display: table-cell;\"></div><div style=\"display: table-cell;\">group&nbsp;=&nbsp;None,</div></div><div class=\"1358\" style=\"display: none;\"><div style=\"display: table-cell;\"></div><div style=\"display: table-cell;\">hover_glyph&nbsp;=&nbsp;None,</div></div><div class=\"1358\" style=\"display: none;\"><div style=\"display: table-cell;\"></div><div style=\"display: table-cell;\">js_event_callbacks&nbsp;=&nbsp;{},</div></div><div class=\"1358\" style=\"display: none;\"><div style=\"display: table-cell;\"></div><div style=\"display: table-cell;\">js_property_callbacks&nbsp;=&nbsp;{},</div></div><div class=\"1358\" style=\"display: none;\"><div style=\"display: table-cell;\"></div><div style=\"display: table-cell;\">level&nbsp;=&nbsp;'glyph',</div></div><div class=\"1358\" style=\"display: none;\"><div style=\"display: table-cell;\"></div><div style=\"display: table-cell;\">muted&nbsp;=&nbsp;False,</div></div><div class=\"1358\" style=\"display: none;\"><div style=\"display: table-cell;\"></div><div style=\"display: table-cell;\">muted_glyph&nbsp;=&nbsp;Line(id='1343', ...),</div></div><div class=\"1358\" style=\"display: none;\"><div style=\"display: table-cell;\"></div><div style=\"display: table-cell;\">name&nbsp;=&nbsp;None,</div></div><div class=\"1358\" style=\"display: none;\"><div style=\"display: table-cell;\"></div><div style=\"display: table-cell;\">nonselection_glyph&nbsp;=&nbsp;Line(id='1342', ...),</div></div><div class=\"1358\" style=\"display: none;\"><div style=\"display: table-cell;\"></div><div style=\"display: table-cell;\">selection_glyph&nbsp;=&nbsp;'auto',</div></div><div class=\"1358\" style=\"display: none;\"><div style=\"display: table-cell;\"></div><div style=\"display: table-cell;\">subscribed_events&nbsp;=&nbsp;[],</div></div><div class=\"1358\" style=\"display: none;\"><div style=\"display: table-cell;\"></div><div style=\"display: table-cell;\">syncable&nbsp;=&nbsp;True,</div></div><div class=\"1358\" style=\"display: none;\"><div style=\"display: table-cell;\"></div><div style=\"display: table-cell;\">tags&nbsp;=&nbsp;[],</div></div><div class=\"1358\" style=\"display: none;\"><div style=\"display: table-cell;\"></div><div style=\"display: table-cell;\">view&nbsp;=&nbsp;CDSView(id='1345', ...),</div></div><div class=\"1358\" style=\"display: none;\"><div style=\"display: table-cell;\"></div><div style=\"display: table-cell;\">visible&nbsp;=&nbsp;True,</div></div><div class=\"1358\" style=\"display: none;\"><div style=\"display: table-cell;\"></div><div style=\"display: table-cell;\">x_range_name&nbsp;=&nbsp;'default',</div></div><div class=\"1358\" style=\"display: none;\"><div style=\"display: table-cell;\"></div><div style=\"display: table-cell;\">y_range_name&nbsp;=&nbsp;'default')</div></div></div>\n",
              "<script>\n",
              "(function() {\n",
              "  let expanded = false;\n",
              "  const ellipsis = document.getElementById(\"1359\");\n",
              "  ellipsis.addEventListener(\"click\", function() {\n",
              "    const rows = document.getElementsByClassName(\"1358\");\n",
              "    for (let i = 0; i < rows.length; i++) {\n",
              "      const el = rows[i];\n",
              "      el.style.display = expanded ? \"none\" : \"table-row\";\n",
              "    }\n",
              "    ellipsis.innerHTML = expanded ? \"&hellip;)\" : \"&lsaquo;&lsaquo;&lsaquo;\";\n",
              "    expanded = !expanded;\n",
              "  });\n",
              "})();\n",
              "</script>\n"
            ]
          },
          "metadata": {},
          "execution_count": 11
        }
      ]
    },
    {
      "cell_type": "code",
      "source": [],
      "metadata": {
        "id": "aYdO89Q-_lWM"
      },
      "execution_count": null,
      "outputs": []
    },
    {
      "cell_type": "markdown",
      "source": [
        "This adds a line to the plot with x-values of [1, 2, 3, 4, 5] and y-values of [6, 7, 2, 4, 5], with a legend label of 'Line' and a line width of 2 pixels.\n",
        "\n",
        "Display the plot: Finally, you can display the plot in a web browser by calling the show function and passing it your plot object. Here's an example:\n"
      ],
      "metadata": {
        "id": "RYWAfJHM_pL9"
      }
    },
    {
      "cell_type": "code",
      "source": [
        "show(p)\n"
      ],
      "metadata": {
        "id": "-mMHe03W_p0c"
      },
      "execution_count": 12,
      "outputs": []
    },
    {
      "cell_type": "code",
      "source": [],
      "metadata": {
        "id": "dhitWIwn_roC"
      },
      "execution_count": 5,
      "outputs": []
    },
    {
      "cell_type": "markdown",
      "source": [
        "This opens a web browser and displays your plot.\n",
        "\n",
        "That's it! With just a few lines of code, you can create and display a Bokeh plot in Python. Of course, there are many more options and customization available in Bokeh, but this should give you a good starting point."
      ],
      "metadata": {
        "id": "0mIqybJt_uy7"
      }
    },
    {
      "cell_type": "code",
      "source": [],
      "metadata": {
        "id": "q6xYVDGx_tep"
      },
      "execution_count": null,
      "outputs": []
    },
    {
      "cell_type": "markdown",
      "source": [
        "**Q2. What are glyphs in Bokeh, and how can you add them to a Bokeh plot? Explain with an example.**"
      ],
      "metadata": {
        "id": "Aki5CkpwAFu1"
      }
    },
    {
      "cell_type": "code",
      "source": [],
      "metadata": {
        "id": "FABcLEQgAHGK"
      },
      "execution_count": null,
      "outputs": []
    },
    {
      "cell_type": "markdown",
      "source": [
        "Glyphs are visual shapes that can be added to a Bokeh plot to represent data. Bokeh provides a wide range of glyphs that can be used to display data in various ways, such as circles, squares, triangles, lines, and more.\n",
        "\n",
        "Here's an example of how to add glyphs to a Bokeh plot:\n",
        "\n"
      ],
      "metadata": {
        "id": "0dfjzX_lAJ6R"
      }
    },
    {
      "cell_type": "code",
      "source": [
        "from bokeh.plotting import figure, show\n",
        "from bokeh.models import ColumnDataSource\n",
        "\n",
        "# create data\n",
        "x = [1, 2, 3, 4, 5]\n",
        "y = [6, 7, 2, 4, 5]\n",
        "\n",
        "# create a ColumnDataSource object to hold the data\n",
        "source = ColumnDataSource(data=dict(x=x, y=y))\n",
        "\n",
        "# create a plot and add a circle glyph\n",
        "p = figure(title='My Bokeh Plot', width=600, height=400)\n",
        "p.circle('x', 'y', size=10, source=source)\n",
        "\n",
        "# display the plot\n",
        "show(p)\n"
      ],
      "metadata": {
        "id": "ZupvHT-dAKdO"
      },
      "execution_count": 13,
      "outputs": []
    },
    {
      "cell_type": "code",
      "source": [],
      "metadata": {
        "id": "maF40tlJAMdV"
      },
      "execution_count": null,
      "outputs": []
    },
    {
      "cell_type": "markdown",
      "source": [
        "In this example, we first create some data by defining two lists, x and y, that represent the x and y coordinates of some points.\n",
        "\n",
        "Next, we create a ColumnDataSource object to hold the data. This object is a special data structure provided by Bokeh that allows us to efficiently share data between multiple glyphs.\n",
        "\n",
        "Then, we create a plot using the figure function, and add a circle glyph to it using the circle method. The circle method takes several arguments, including the x and y data to use, the size of the circles, and the data source to use.\n",
        "\n",
        "Finally, we display the plot using the show function.\n",
        "\n",
        "This code will create a plot with five circles, one for each point in the data. Each circle will have an x-coordinate taken from the x list and a y-coordinate taken from the y list. The size of each circle will be 10 pixels. By default, the circles will be blue, but you can customize the color and other properties of the glyphs by passing additional arguments to the circle method."
      ],
      "metadata": {
        "id": "e8cdSO8dAPIc"
      }
    },
    {
      "cell_type": "code",
      "source": [],
      "metadata": {
        "id": "buDP25e0APtE"
      },
      "execution_count": null,
      "outputs": []
    },
    {
      "cell_type": "markdown",
      "source": [
        "**Q3. How can you customize the appearance of a Bokeh plot, including the axes, title, and legend?**"
      ],
      "metadata": {
        "id": "6yq4qdPsARsw"
      }
    },
    {
      "cell_type": "code",
      "source": [],
      "metadata": {
        "id": "2oXOCvDYAShw"
      },
      "execution_count": null,
      "outputs": []
    },
    {
      "cell_type": "markdown",
      "source": [
        "Bokeh provides many ways to customize the appearance of a plot, including the axes, title, legend, and various plot elements. Here are some examples of how to customize these elements:\n",
        "\n",
        "Customize the title:\n",
        "You can set the title of a plot using the title property of the figure object. Here's an example:"
      ],
      "metadata": {
        "id": "HusHKOo0AXAL"
      }
    },
    {
      "cell_type": "code",
      "source": [
        "p = figure(title='My Plot')\n"
      ],
      "metadata": {
        "id": "57KiWFeMAXkx"
      },
      "execution_count": 14,
      "outputs": []
    },
    {
      "cell_type": "code",
      "source": [
        "p.title.text_font_size = '16pt'\n",
        "p.title.text_color = 'red'\n"
      ],
      "metadata": {
        "id": "8b4X5Fp9AanP"
      },
      "execution_count": 15,
      "outputs": []
    },
    {
      "cell_type": "code",
      "source": [
        "p.xaxis.axis_label = 'X-axis Label'\n",
        "p.yaxis.axis_label = 'Y-axis Label'\n"
      ],
      "metadata": {
        "id": "eXC2qPHmAcKC"
      },
      "execution_count": 16,
      "outputs": []
    },
    {
      "cell_type": "code",
      "source": [
        "p.xaxis.major_tick_line_color = 'red'\n",
        "p.yaxis.minor_tick_line_color = 'green'\n",
        "p.xaxis.major_label_text_color = 'blue'\n"
      ],
      "metadata": {
        "id": "ZOEyu9tgAd48"
      },
      "execution_count": 17,
      "outputs": []
    },
    {
      "cell_type": "code",
      "source": [
        "p.legend.location = 'top_left'\n",
        "p.legend.label_text_font_size = '12pt'\n"
      ],
      "metadata": {
        "colab": {
          "base_uri": "https://localhost:8080/"
        },
        "id": "SN8CGG-9AgAi",
        "outputId": "1a3f99d9-580c-44ad-b1d9-8663c9b1f52a"
      },
      "execution_count": 18,
      "outputs": [
        {
          "output_type": "stream",
          "name": "stderr",
          "text": [
            "/usr/local/lib/python3.8/dist-packages/bokeh/models/plots.py:815: UserWarning: \n",
            "You are attempting to set `plot.legend.location` on a plot that has zero legends added, this will have no effect.\n",
            "\n",
            "Before legend properties can be set, you must add a Legend explicitly, or call a glyph method with a legend parameter set.\n",
            "\n",
            "  warnings.warn(_LEGEND_EMPTY_WARNING % attr)\n",
            "/usr/local/lib/python3.8/dist-packages/bokeh/models/plots.py:815: UserWarning: \n",
            "You are attempting to set `plot.legend.label_text_font_size` on a plot that has zero legends added, this will have no effect.\n",
            "\n",
            "Before legend properties can be set, you must add a Legend explicitly, or call a glyph method with a legend parameter set.\n",
            "\n",
            "  warnings.warn(_LEGEND_EMPTY_WARNING % attr)\n"
          ]
        }
      ]
    },
    {
      "cell_type": "code",
      "source": [],
      "metadata": {
        "id": "LCU1fzMbA8sW"
      },
      "execution_count": null,
      "outputs": []
    },
    {
      "cell_type": "markdown",
      "source": [
        "**Q4. What is a Bokeh server, and how can you use it to create interactive plots that can be updated in\n",
        "real time?**"
      ],
      "metadata": {
        "id": "mkJnOSVQA9g2"
      }
    },
    {
      "cell_type": "code",
      "source": [
        "from bokeh.io import curdoc\n",
        "from bokeh.models import ColumnDataSource\n",
        "from bokeh.plotting import figure\n",
        "from random import randrange\n",
        "\n",
        "# create a data source\n",
        "source = ColumnDataSource(data=dict(x=[], y=[]))\n",
        "\n",
        "# create a plot with a line glyph\n",
        "p = figure(x_range=(0, 10), y_range=(0, 10))\n",
        "line = p.line(x='x', y='y', source=source)\n",
        "\n",
        "# define a callback function to update the data\n",
        "def update_data():\n",
        "    new_data = dict(x=[randrange(1, 10)], y=[randrange(1, 10)])\n",
        "    source.stream(new_data, rollover=10)\n",
        "\n",
        "# add the callback function to the document\n",
        "curdoc().add_periodic_callback(update_data, 1000)\n",
        "\n",
        "# display the plot\n",
        "show(p)\n"
      ],
      "metadata": {
        "id": "GY50VeJ_Ahnj"
      },
      "execution_count": 19,
      "outputs": []
    },
    {
      "cell_type": "code",
      "source": [],
      "metadata": {
        "id": "ny71IcV4A4-Q"
      },
      "execution_count": null,
      "outputs": []
    },
    {
      "cell_type": "markdown",
      "source": [
        "**Q5. How can you embed a Bokeh plot into a web page or dashboard using Flask or Django?**"
      ],
      "metadata": {
        "id": "cInCot29BEXI"
      }
    },
    {
      "cell_type": "code",
      "source": [
        "from bokeh.plotting import figure\n",
        "from bokeh.resources import CDN\n",
        "from bokeh.embed import json_item\n",
        "\n",
        "# create a Bokeh plot\n",
        "plot = figure(title='My Plot', x_axis_label='X-axis', y_axis_label='Y-axis')\n",
        "plot.line([1, 2, 3, 4, 5], [2, 4, 6, 8, 10])\n"
      ],
      "metadata": {
        "colab": {
          "base_uri": "https://localhost:8080/",
          "height": 34
        },
        "id": "5i_o5y6DBFKK",
        "outputId": "056f7ea3-dba6-444f-f08a-ebf3e101de25"
      },
      "execution_count": 20,
      "outputs": [
        {
          "output_type": "execute_result",
          "data": {
            "text/plain": [
              "GlyphRenderer(id='1915', ...)"
            ],
            "text/html": [
              "<div style=\"display: table;\"><div style=\"display: table-row;\"><div style=\"display: table-cell;\"><b title=\"bokeh.models.renderers.GlyphRenderer\">GlyphRenderer</b>(</div><div style=\"display: table-cell;\">id&nbsp;=&nbsp;'1915', <span id=\"1918\" style=\"cursor: pointer;\">&hellip;)</span></div></div><div class=\"1917\" style=\"display: none;\"><div style=\"display: table-cell;\"></div><div style=\"display: table-cell;\">coordinates&nbsp;=&nbsp;None,</div></div><div class=\"1917\" style=\"display: none;\"><div style=\"display: table-cell;\"></div><div style=\"display: table-cell;\">data_source&nbsp;=&nbsp;ColumnDataSource(id='1911', ...),</div></div><div class=\"1917\" style=\"display: none;\"><div style=\"display: table-cell;\"></div><div style=\"display: table-cell;\">glyph&nbsp;=&nbsp;Line(id='1912', ...),</div></div><div class=\"1917\" style=\"display: none;\"><div style=\"display: table-cell;\"></div><div style=\"display: table-cell;\">group&nbsp;=&nbsp;None,</div></div><div class=\"1917\" style=\"display: none;\"><div style=\"display: table-cell;\"></div><div style=\"display: table-cell;\">hover_glyph&nbsp;=&nbsp;None,</div></div><div class=\"1917\" style=\"display: none;\"><div style=\"display: table-cell;\"></div><div style=\"display: table-cell;\">js_event_callbacks&nbsp;=&nbsp;{},</div></div><div class=\"1917\" style=\"display: none;\"><div style=\"display: table-cell;\"></div><div style=\"display: table-cell;\">js_property_callbacks&nbsp;=&nbsp;{},</div></div><div class=\"1917\" style=\"display: none;\"><div style=\"display: table-cell;\"></div><div style=\"display: table-cell;\">level&nbsp;=&nbsp;'glyph',</div></div><div class=\"1917\" style=\"display: none;\"><div style=\"display: table-cell;\"></div><div style=\"display: table-cell;\">muted&nbsp;=&nbsp;False,</div></div><div class=\"1917\" style=\"display: none;\"><div style=\"display: table-cell;\"></div><div style=\"display: table-cell;\">muted_glyph&nbsp;=&nbsp;Line(id='1914', ...),</div></div><div class=\"1917\" style=\"display: none;\"><div style=\"display: table-cell;\"></div><div style=\"display: table-cell;\">name&nbsp;=&nbsp;None,</div></div><div class=\"1917\" style=\"display: none;\"><div style=\"display: table-cell;\"></div><div style=\"display: table-cell;\">nonselection_glyph&nbsp;=&nbsp;Line(id='1913', ...),</div></div><div class=\"1917\" style=\"display: none;\"><div style=\"display: table-cell;\"></div><div style=\"display: table-cell;\">selection_glyph&nbsp;=&nbsp;'auto',</div></div><div class=\"1917\" style=\"display: none;\"><div style=\"display: table-cell;\"></div><div style=\"display: table-cell;\">subscribed_events&nbsp;=&nbsp;[],</div></div><div class=\"1917\" style=\"display: none;\"><div style=\"display: table-cell;\"></div><div style=\"display: table-cell;\">syncable&nbsp;=&nbsp;True,</div></div><div class=\"1917\" style=\"display: none;\"><div style=\"display: table-cell;\"></div><div style=\"display: table-cell;\">tags&nbsp;=&nbsp;[],</div></div><div class=\"1917\" style=\"display: none;\"><div style=\"display: table-cell;\"></div><div style=\"display: table-cell;\">view&nbsp;=&nbsp;CDSView(id='1916', ...),</div></div><div class=\"1917\" style=\"display: none;\"><div style=\"display: table-cell;\"></div><div style=\"display: table-cell;\">visible&nbsp;=&nbsp;True,</div></div><div class=\"1917\" style=\"display: none;\"><div style=\"display: table-cell;\"></div><div style=\"display: table-cell;\">x_range_name&nbsp;=&nbsp;'default',</div></div><div class=\"1917\" style=\"display: none;\"><div style=\"display: table-cell;\"></div><div style=\"display: table-cell;\">y_range_name&nbsp;=&nbsp;'default')</div></div></div>\n",
              "<script>\n",
              "(function() {\n",
              "  let expanded = false;\n",
              "  const ellipsis = document.getElementById(\"1918\");\n",
              "  ellipsis.addEventListener(\"click\", function() {\n",
              "    const rows = document.getElementsByClassName(\"1917\");\n",
              "    for (let i = 0; i < rows.length; i++) {\n",
              "      const el = rows[i];\n",
              "      el.style.display = expanded ? \"none\" : \"table-row\";\n",
              "    }\n",
              "    ellipsis.innerHTML = expanded ? \"&hellip;)\" : \"&lsaquo;&lsaquo;&lsaquo;\";\n",
              "    expanded = !expanded;\n",
              "  });\n",
              "})();\n",
              "</script>\n"
            ]
          },
          "metadata": {},
          "execution_count": 20
        }
      ]
    },
    {
      "cell_type": "code",
      "source": [
        "# generate JSON data for the plot\n",
        "plot_data = json_item(plot, 'my_plot')\n"
      ],
      "metadata": {
        "id": "PDkM5E_-BH5i"
      },
      "execution_count": 21,
      "outputs": []
    },
    {
      "cell_type": "code",
      "source": [
        "from flask import Flask, render_template\n",
        "\n",
        "app = Flask(__name__)\n",
        "\n",
        "@app.route('/')\n",
        "def index():\n",
        "    return render_template('index.html', plot_data=plot_data)\n"
      ],
      "metadata": {
        "id": "2qh4gvBcBJ6L"
      },
      "execution_count": 22,
      "outputs": []
    },
    {
      "cell_type": "code",
      "source": [
        "<!DOCTYPE html>\n",
        "<html>\n",
        "  <head>\n",
        "    <title>My Plot</title>\n",
        "    {{ plot_data }}\n",
        "    <script src=\"https://cdn.bokeh.org/bokeh/release/bokeh.min.js\"></script>\n",
        "    <script src=\"https://cdn.bokeh.org/bokeh/release/bokeh-widgets.min.js\"></script>\n",
        "    <link href=\"https://cdn.bokeh.org/bokeh/release/bokeh.min.css\" rel=\"stylesheet\" type=\"text/css\">\n",
        "    <link href=\"https://cdn.bokeh.org/bokeh/release/bokeh-widgets.min.css\" rel=\"stylesheet\" type=\"text/css\">\n",
        "  </head>\n",
        "  <body>\n",
        "    <div class=\"bk-root\">\n",
        "      {{ bokeh.embed.embed_item(plot_data) }}\n",
        "    </div>\n",
        "  </body>\n",
        "</html>\n"
      ],
      "metadata": {
        "colab": {
          "base_uri": "https://localhost:8080/",
          "height": 130
        },
        "id": "MGB2ZeQ4BLpi",
        "outputId": "913e333e-2fde-4e5f-f22e-2394ec9e70c8"
      },
      "execution_count": 23,
      "outputs": [
        {
          "output_type": "error",
          "ename": "SyntaxError",
          "evalue": "ignored",
          "traceback": [
            "\u001b[0;36m  File \u001b[0;32m\"<ipython-input-23-d358639db2d4>\"\u001b[0;36m, line \u001b[0;32m1\u001b[0m\n\u001b[0;31m    <!DOCTYPE html>\u001b[0m\n\u001b[0m    ^\u001b[0m\n\u001b[0;31mSyntaxError\u001b[0m\u001b[0;31m:\u001b[0m invalid syntax\n"
          ]
        }
      ]
    },
    {
      "cell_type": "code",
      "source": [
        "if __name__ == '__main__':\n",
        "    app.run()\n"
      ],
      "metadata": {
        "colab": {
          "base_uri": "https://localhost:8080/"
        },
        "id": "R1-i8B5iBNwv",
        "outputId": "7abc6a6f-c187-4500-c1cb-3a3bddf55723"
      },
      "execution_count": null,
      "outputs": [
        {
          "output_type": "stream",
          "name": "stdout",
          "text": [
            " * Serving Flask app '__main__'\n",
            " * Debug mode: off\n"
          ]
        },
        {
          "output_type": "stream",
          "name": "stderr",
          "text": [
            "INFO:werkzeug:\u001b[31m\u001b[1mWARNING: This is a development server. Do not use it in a production deployment. Use a production WSGI server instead.\u001b[0m\n",
            " * Running on http://127.0.0.1:5000\n",
            "INFO:werkzeug:\u001b[33mPress CTRL+C to quit\u001b[0m\n"
          ]
        }
      ]
    },
    {
      "cell_type": "code",
      "source": [],
      "metadata": {
        "id": "c58pweFLBQ2l"
      },
      "execution_count": null,
      "outputs": []
    }
  ]
}