{
 "cells": [
  {
   "cell_type": "markdown",
   "id": "dc4486d7-a2f2-4ae7-8e50-b30fc08efcec",
   "metadata": {},
   "source": [
    "# Assignment"
   ]
  },
  {
   "cell_type": "markdown",
   "id": "593a03d3-04e0-4d82-b9e1-d1f36497422e",
   "metadata": {},
   "source": [
    "**Q1. What is a database? Differentiate between SQL and NoSQL databases.**"
   ]
  },
  {
   "cell_type": "markdown",
   "id": "a6ec5ef1-2be7-4a18-afb5-fcc50d9b99ff",
   "metadata": {},
   "source": [
    "Database is a computer system storing multiple data of single/ multiple users remotely in a structured or unstructured format.\n",
    "\n",
    "SQL stands for structured query language where the data is structured meaning the data is divided into row and columns whereas\n",
    "\n",
    "In NoSQL the data is stored in hierarchial format and there's no relationship present between the tables."
   ]
  },
  {
   "cell_type": "markdown",
   "id": "ceec38a2-1dc0-4aab-9401-670fd71cfee6",
   "metadata": {},
   "source": [
    "**Q2. What is DDL? Explain why CREATE, DROP, ALTER, and TRUNCATE are used with an example.**"
   ]
  },
  {
   "cell_type": "markdown",
   "id": "2671d768-e42f-460b-8515-24725a47ae2f",
   "metadata": {},
   "source": [
    "DDL (Data Definition Language) is a database language which is used to creating the structure and data types of the datas.\n",
    "\n",
    "CREATE is used for creating the table.\n",
    "\n",
    "E.g., \n",
    "CREATE Employee(\n",
    "    id INT,\n",
    "    Name VARCHAR(10)\n",
    "    );\n",
    "    \n",
    "\n",
    "DROP is used for dropping the table.\n",
    "\n",
    "E.g.,\n",
    "DROP Employee;\n",
    "\n",
    "ALTER is used for changing the data types of the table columns.\n",
    "E.g.,\n",
    "ALTER TABLE Employee\n",
    "ALTER COLUMN id CHAR();\n",
    "\n",
    "TRUNCATE is used to delete all the datas inside the table.\n",
    "E.g.,\n",
    "TRUNCATE TABLE Employee;"
   ]
  },
  {
   "cell_type": "markdown",
   "id": "d0a42e0e-ccf8-42a5-a7c6-dc0453f9010a",
   "metadata": {},
   "source": [
    "**Q3. What is DML? Explain INSERT, UPDATE, and DELETE with an example.**"
   ]
  },
  {
   "cell_type": "markdown",
   "id": "95b4144e-99a0-4ddf-b314-b528218f078c",
   "metadata": {},
   "source": [
    "DML (Data Manipulation Language) is a database language used to manipulate the data inside the table.\n",
    "\n",
    "INSERT is used to insert the data into the column of the table.\n",
    "E.g.,\n",
    "\n",
    "INSERT INTO Employee VALUES (1, \"Shivam\");\n",
    "\n",
    "UPDATE is used to update the data of columns of the table.\n",
    "E.g.,\n",
    "\n",
    "UPDATE Employee\n",
    "SET id = 2\n",
    "WHERE id = 1;\n",
    "\n",
    "DELETE is used to delete the data in specific cell or column.\n",
    "E.g., \n",
    "DELETE FROM Employee WHERE id = 1;"
   ]
  },
  {
   "cell_type": "markdown",
   "id": "28ef7984-cf58-4078-a0c6-b7111d266d98",
   "metadata": {},
   "source": [
    "**Q4. What is DQL? Explain SELECT with an example.**"
   ]
  },
  {
   "cell_type": "markdown",
   "id": "2f6a40cc-262e-4103-8c87-ae5e0578c882",
   "metadata": {},
   "source": [
    "DQL (Data Query Language) is a database language used to perform queries on the table.\n",
    "\n",
    "SELECT is used to view the personalised data inside the table.\n",
    "E.g.,\n",
    "\n",
    "SELECT * FROM Employee"
   ]
  },
  {
   "cell_type": "markdown",
   "id": "46c0b0bf-f70b-4524-abc0-9460f99ffb83",
   "metadata": {},
   "source": [
    "**Q5. Explain Primary Key and Foreign Key.**"
   ]
  },
  {
   "cell_type": "markdown",
   "id": "a21cbade-c8ca-43c5-931f-a836ca97adda",
   "metadata": {},
   "source": [
    "The PRIMARY KEY constraint uniquely identifies each record in a table. Primary keys must contain UNIQUE values, and cannot contain NULL values. A table can have only ONE primary key; and in the table, this primary key can consist of single or multiple columns (fields)."
   ]
  },
  {
   "cell_type": "markdown",
   "id": "4f0d010d-19fb-445b-a526-17cee9eb416e",
   "metadata": {},
   "source": [
    "The FOREIGN KEY constraint is used to prevent actions that would destroy links between tables. A FOREIGN KEY is a field (or collection of fields) in one table, that refers to the PRIMARY KEY in another table. The table with the foreign key is called the child table, and the table with the primary key is called the referenced or parent table."
   ]
  },
  {
   "cell_type": "markdown",
   "id": "25e88b8b-1b6f-4469-b03a-812df0bc53f2",
   "metadata": {},
   "source": [
    "**Q6. Write a python code to connect MySQL to python. Explain the cursor() and execute() method.**"
   ]
  },
  {
   "cell_type": "code",
   "execution_count": null,
   "id": "c3900118-b7ab-47ab-af48-7078a1d04e8d",
   "metadata": {},
   "outputs": [],
   "source": [
    "import mysql.connector\n",
    "\n",
    "# connect to MySQL database\n",
    "mydb = mysql.connector.connect(\n",
    "  host=\"localhost\",\n",
    "  user=\"yourusername\",\n",
    "  password=\"yourpassword\",\n",
    "  database=\"yourdatabase\"\n",
    ")\n",
    "\n",
    "# create cursor object\n",
    "mycursor = mydb.cursor()\n",
    "\n",
    "# execute SQL query\n",
    "mycursor.execute(\"SELECT * FROM yourtable\")\n",
    "\n",
    "# fetch all the rows\n",
    "result = mycursor.fetchall()\n",
    "\n",
    "# print the rows\n",
    "for row in result:\n",
    "  print(row)\n"
   ]
  },
  {
   "cell_type": "markdown",
   "id": "f0bef8ec-0f3c-445a-a0ef-ec2e29a4f655",
   "metadata": {},
   "source": [
    "A cursor is an object that allows us to execute SQL statements and retrieve data from the database."
   ]
  },
  {
   "cell_type": "markdown",
   "id": "96bbfe09-fcaf-4443-b33c-8c891db32ac5",
   "metadata": {},
   "source": [
    "execute() method to execute a SQL query."
   ]
  },
  {
   "cell_type": "markdown",
   "id": "bce76590-7072-4a1a-995c-5de87ff77c19",
   "metadata": {},
   "source": [
    "**Q7. Give the order of execution of SQL clauses in an SQL query."
   ]
  }
 ],
 "metadata": {
  "kernelspec": {
   "display_name": "Python 3 (ipykernel)",
   "language": "python",
   "name": "python3"
  },
  "language_info": {
   "codemirror_mode": {
    "name": "ipython",
    "version": 3
   },
   "file_extension": ".py",
   "mimetype": "text/x-python",
   "name": "python",
   "nbconvert_exporter": "python",
   "pygments_lexer": "ipython3",
   "version": "3.10.8"
  }
 },
 "nbformat": 4,
 "nbformat_minor": 5
}
