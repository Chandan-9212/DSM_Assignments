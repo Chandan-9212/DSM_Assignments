{
 "cells": [
  {
   "cell_type": "markdown",
   "id": "a22cbd5a-7cda-49ca-87be-849f696741b0",
   "metadata": {},
   "source": [
    "# Assignment Flask"
   ]
  },
  {
   "cell_type": "markdown",
   "id": "e3f4fb22-c065-4f47-b892-40105800792e",
   "metadata": {},
   "source": [
    "There is no insert image feature in online jupyter notebook."
   ]
  },
  {
   "cell_type": "markdown",
   "id": "31742b39-df0f-4266-b94b-de128676ecfa",
   "metadata": {},
   "source": [
    "**Q1. What is Flask Framework? What are the advantages of Flask Framework?**"
   ]
  },
  {
   "cell_type": "markdown",
   "id": "582b5084-1eca-409c-be5a-c9512317f20b",
   "metadata": {},
   "source": [
    "Flask is a lightweight and popular Python web framework that provides a simple and flexible way to build web applications. It is designed to be easy to use and learn, and it has a minimalistic approach to web development.\n",
    "\n",
    "The advantages of Flask framework are:\n",
    "\n",
    "Lightweight: Flask is a lightweight framework that doesn't require particular tools or libraries to get started. It is easy to learn and simple to use.\n",
    "\n",
    "Flexible: Flask provides developers with a lot of flexibility. It allows you to use any database, templating engine, or other third-party libraries that you like.\n",
    "\n",
    "Easy to use: Flask has a simple and intuitive API that makes it easy to get started with web development. It provides an easy-to-use routing system, which allows developers to define URL patterns for their applications.\n",
    "\n",
    "Scalable: Flask is highly scalable, and it can handle a large number of requests without any performance issues.\n",
    "\n",
    "Modular: Flask is built using a modular design, which means that you can use only the parts of the framework that you need for your application.\n",
    "\n",
    "Flask is widely used: Flask is one of the most widely used web frameworks in the Python community, which means that there is a large community of developers who can provide support and share their knowledge.\n",
    "\n",
    "Easy to test: Flask makes it easy to test your applications, and it comes with a built-in testing framework that allows you to write unit tests for your code.\n",
    "\n",
    "Overall, Flask is a great choice for building web applications due to its simplicity, flexibility, and scalability.\n",
    "\n",
    "\n",
    "\n",
    "\n"
   ]
  },
  {
   "cell_type": "markdown",
   "id": "2db9c0ab-b8c4-4b96-8e1e-0370d82f963e",
   "metadata": {},
   "source": [
    "**Q2. Create a simple Flask application to display ‘Hello World!!’. Attach the screenshot of the output in\n",
    "Jupyter Notebook.**"
   ]
  },
  {
   "cell_type": "code",
   "execution_count": null,
   "id": "75604678-5813-423b-b70b-4e9482343446",
   "metadata": {},
   "outputs": [],
   "source": [
    "from flask import Flask\n",
    "from flask import request\n",
    "\n",
    "app = Flask(__name__)\n",
    "\n",
    "@app.route(\"/\")\n",
    "def hello_world():\n",
    "    return \"<h1>Hello, World!</h1>\"\n",
    "\n",
    "if __name__==\"__main__\":\n",
    "    app.run(host=\"0.0.0.0\")\n"
   ]
  },
  {
   "cell_type": "markdown",
   "id": "85a0103c-6bdd-4cb4-beae-fc6a1aa8c954",
   "metadata": {},
   "source": [
    "**Q3. What is App routing in Flask? Why do we use app routes?**"
   ]
  },
  {
   "cell_type": "markdown",
   "id": "9e7a6643-49e7-4a38-b258-1e3451c1678a",
   "metadata": {},
   "source": [
    "In Flask, app routing refers to the process of mapping URLs or HTTP requests to specific functions or views within a Flask application. Flask uses a concept called \"decorators\" to define routes, which allows developers to associate URL patterns with Python functions.\n",
    "\n",
    "For example, consider the following Flask code:"
   ]
  },
  {
   "cell_type": "code",
   "execution_count": null,
   "id": "5516c205-9cee-4e22-828f-8db0775dcafd",
   "metadata": {},
   "outputs": [],
   "source": [
    "from flask import Flask\n",
    "\n",
    "app = Flask(__name__)\n",
    "\n",
    "@app.route('/')\n",
    "def hello_world():\n",
    "    return 'Hello, World!'\n"
   ]
  },
  {
   "cell_type": "markdown",
   "id": "0a7d6826-e742-4e73-8c1f-c297c256f64a",
   "metadata": {},
   "source": [
    "In this code, the @app.route('/') decorator defines a route for the root URL (/) of the Flask application. The hello_world function is associated with this route, which means that whenever a user visits the root URL of the application, Flask will execute the hello_world function and return the string 'Hello, World!' as a response.\n",
    "\n",
    "App routing is essential in Flask because it allows developers to handle different HTTP requests and URL patterns in a clear and concise way. By using app routing, developers can map specific URLs to specific functions within their application, making it easier to organize and maintain their code.\n",
    "\n",
    "In addition, app routing in Flask allows developers to create dynamic and interactive web applications that can handle a variety of user interactions and inputs. By defining routes for different parts of an application, developers can create a seamless user experience that allows users to navigate through the application and interact with its various features.\n",
    "\n",
    "\n",
    "\n"
   ]
  },
  {
   "cell_type": "markdown",
   "id": "0eec93d9-688c-4955-82a6-03b5f588ca8e",
   "metadata": {},
   "source": [
    "**Q4. Create a “/welcome” route to display the welcome message “Welcome to ABC Corporation” and a “/”\n",
    "route to show the following details:**\n",
    "\n",
    "**Company Name: ABC Corporation**\n",
    "\n",
    "**Location: India**\n",
    "\n",
    "**Contact Detail: 999-999-9999**"
   ]
  },
  {
   "cell_type": "code",
   "execution_count": null,
   "id": "d561f32c-478b-4858-9fac-d8783c7869f6",
   "metadata": {},
   "outputs": [],
   "source": [
    "from flask import Flask\n",
    "\n",
    "app = Flask(__name__)\n",
    "\n",
    "@app.route('/')\n",
    "def hello_world():\n",
    "    return 'Company Name: ABC Corporation\\nLocation: India\\nContact Detail: 999-999-9999'\n",
    "\n",
    "@app.route('/welcome')\n",
    "def hello_world():\n",
    "    return 'Welcome to ABC Corporation'"
   ]
  },
  {
   "cell_type": "markdown",
   "id": "ddffef3f-a119-4e57-b28d-bf787d0c3d0c",
   "metadata": {},
   "source": [
    "**Q5. What function is used in Flask for URL Building? Write a Python code to demonstrate the working of the\n",
    "url_for() function.**"
   ]
  },
  {
   "cell_type": "markdown",
   "id": "e68835cc-d760-447a-9eef-2eb1948a943c",
   "metadata": {},
   "source": [
    "n Flask, the url_for() function is used for URL building. This function generates a URL for a given view function and takes the name of the view function as its first argument.\n",
    "\n",
    "Here's an example of how to use the url_for() function in Flask:"
   ]
  },
  {
   "cell_type": "code",
   "execution_count": null,
   "id": "07fad399-a385-4bb1-9b9a-7efa72af49c2",
   "metadata": {},
   "outputs": [],
   "source": [
    "from flask import Flask, url_for\n",
    "\n",
    "app = Flask(__name__)\n",
    "\n",
    "@app.route('/')\n",
    "def index():\n",
    "    return 'This is the home page.'\n",
    "\n",
    "@app.route('/about')\n",
    "def about():\n",
    "    return 'This is the about page.'\n",
    "\n",
    "@app.route('/user/<username>')\n",
    "def user_profile(username):\n",
    "    return f'This is the profile page for {username}.'\n",
    "\n",
    "with app.test_request_context():\n",
    "    print(url_for('index'))       # Output: '/'\n",
    "    print(url_for('about'))       # Output: '/about'\n",
    "    print(url_for('user_profile', username='john'))  # Output: '/user/john'\n"
   ]
  },
  {
   "cell_type": "markdown",
   "id": "5ce916b1-b69c-4c19-b304-0bd4b9be7fad",
   "metadata": {},
   "source": [
    "In this example, we define three view functions: index(), about(), and user_profile(). Each function is associated with a specific URL pattern using the @app.route() decorator.\n",
    "\n",
    "The url_for() function is used inside the with app.test_request_context(): block to generate URLs for each of these view functions. The url_for() function takes the name of the view function as its first argument and any additional arguments required by the view function as keyword arguments.\n",
    "\n",
    "When we run this code, the url_for() function generates URLs for each of the view functions, which are printed to the console. For example, url_for('index') generates the URL for the index() function, which is '/'. Similarly, url_for('user_profile', username='john') generates the URL for the user_profile() function with the username argument set to 'john', which is '/user/john'."
   ]
  },
  {
   "cell_type": "code",
   "execution_count": null,
   "id": "9577e6e7-6be9-442f-b634-c24599ee232b",
   "metadata": {},
   "outputs": [],
   "source": []
  }
 ],
 "metadata": {
  "kernelspec": {
   "display_name": "Python 3 (ipykernel)",
   "language": "python",
   "name": "python3"
  },
  "language_info": {
   "codemirror_mode": {
    "name": "ipython",
    "version": 3
   },
   "file_extension": ".py",
   "mimetype": "text/x-python",
   "name": "python",
   "nbconvert_exporter": "python",
   "pygments_lexer": "ipython3",
   "version": "3.10.8"
  }
 },
 "nbformat": 4,
 "nbformat_minor": 5
}
