{
 "cells": [
  {
   "cell_type": "markdown",
   "id": "c269bdc7-0756-47ed-8526-a07dcb417d25",
   "metadata": {},
   "source": [
    "# Assignment 7"
   ]
  },
  {
   "cell_type": "code",
   "execution_count": 2,
   "id": "fbd55629-3aa6-42a0-ad21-40b48ac4efb7",
   "metadata": {},
   "outputs": [
    {
     "name": "stdin",
     "output_type": "stream",
     "text": [
      " 74\n"
     ]
    },
    {
     "name": "stdout",
     "output_type": "stream",
     "text": [
      "C\n"
     ]
    }
   ],
   "source": [
    "grade = int(input())\n",
    "if grade > 90:\n",
    "    print(\"A\")\n",
    "elif grade > 80 and grade <=90:\n",
    "    print(\"B\")\n",
    "elif grade >= 60 and grade <=80:\n",
    "    print(\"C\")\n",
    "elif grade < 60:\n",
    "    print(\"D\")"
   ]
  },
  {
   "cell_type": "code",
   "execution_count": 3,
   "id": "243a4e48-1bb3-4dde-a79c-6933c2e7cca6",
   "metadata": {},
   "outputs": [
    {
     "name": "stdin",
     "output_type": "stream",
     "text": [
      " 53647\n"
     ]
    },
    {
     "name": "stdout",
     "output_type": "stream",
     "text": [
      "10%\n"
     ]
    }
   ],
   "source": [
    "cost = int(input())\n",
    "if cost > 100000:\n",
    "    print(\"15%\")\n",
    "elif cost > 50000 and cost <=100000:\n",
    "    print(\"10%\")\n",
    "elif grade <= 50000:\n",
    "    print(\"5%\")"
   ]
  },
  {
   "cell_type": "code",
   "execution_count": 4,
   "id": "7cd4dacc-d77d-4243-bf63-190884c82158",
   "metadata": {},
   "outputs": [
    {
     "name": "stdin",
     "output_type": "stream",
     "text": [
      " Delhi\n"
     ]
    },
    {
     "name": "stdout",
     "output_type": "stream",
     "text": [
      "Red Fort\n"
     ]
    }
   ],
   "source": [
    "city_mon = {\"Delhi\":\"Red Fort\", \"Agra\":\"Taj Mahala\",\"Jaipur\":\"Jal Mahal\"}\n",
    "city = input(\"\")\n",
    "print(city_mon.get(city))"
   ]
  },
  {
   "cell_type": "code",
   "execution_count": 7,
   "id": "3dc7e0d9-00d1-4e08-848a-38a687b65a42",
   "metadata": {},
   "outputs": [
    {
     "name": "stdin",
     "output_type": "stream",
     "text": [
      " 4\n"
     ]
    },
    {
     "name": "stdout",
     "output_type": "stream",
     "text": [
      "2\n"
     ]
    }
   ],
   "source": [
    "num = int(input())\n",
    "count = 0\n",
    "while num <= 10:\n",
    "    if num % 3 == 0:\n",
    "        count += 1\n",
    "    num += 1\n",
    "print(count)"
   ]
  },
  {
   "cell_type": "markdown",
   "id": "15d70972-4f33-42d9-b0cc-32281edb4a9c",
   "metadata": {},
   "source": [
    "When you have no idea how many times you've to iterate but you have the condition stating when to stop.\n",
    "In this particular scenario, You've to use while loop."
   ]
  },
  {
   "cell_type": "code",
   "execution_count": 9,
   "id": "e52c4116-5bbc-4fff-ae84-fc413de61965",
   "metadata": {},
   "outputs": [
    {
     "name": "stdin",
     "output_type": "stream",
     "text": [
      " 1\n"
     ]
    },
    {
     "name": "stdout",
     "output_type": "stream",
     "text": [
      "1\n",
      "2\n",
      "3\n",
      "4\n",
      "5\n",
      "6\n",
      "7\n",
      "8\n",
      "9\n",
      "10\n"
     ]
    }
   ],
   "source": [
    "i = int(input())\n",
    "while i <= 10:\n",
    "    print(i)\n",
    "    i+=1"
   ]
  },
  {
   "cell_type": "code",
   "execution_count": null,
   "id": "1672b4b6-8ddc-42e8-bf10-82d38d509135",
   "metadata": {},
   "outputs": [],
   "source": [
    "while("
   ]
  }
 ],
 "metadata": {
  "kernelspec": {
   "display_name": "Python 3 (ipykernel)",
   "language": "python",
   "name": "python3"
  },
  "language_info": {
   "codemirror_mode": {
    "name": "ipython",
    "version": 3
   },
   "file_extension": ".py",
   "mimetype": "text/x-python",
   "name": "python",
   "nbconvert_exporter": "python",
   "pygments_lexer": "ipython3",
   "version": "3.10.8"
  }
 },
 "nbformat": 4,
 "nbformat_minor": 5
}
