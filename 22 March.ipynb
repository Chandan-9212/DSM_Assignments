{
 "cells": [
  {
   "cell_type": "markdown",
   "metadata": {},
   "source": [
    "\n",
    "Q1. Pearson correlation coefficient is a measure of the linear relationship between two variables. Suppose\n",
    "you have collected data on the amount of time students spend studying for an exam and their final exam\n",
    "scores. Calculate the Pearson correlation coefficient between these two variables and interpret the result.\n",
    "\n",
    "Q2. Spearman's rank correlation is a measure of the monotonic relationship between two variables.\n",
    "Suppose you have collected data on the amount of sleep individuals get each night and their overall job\n",
    "satisfaction level on a scale of 1 to 10. Calculate the Spearman's rank correlation between these two\n",
    "variables and interpret the result.\n",
    "\n",
    "Q3. Suppose you are conducting a study to examine the relationship between the number of hours of\n",
    "exercise per week and body mass index (BMI) in a sample of adults. You collected data on both variables\n",
    "for 50 participants. Calculate the Pearson correlation coefficient and the Spearman's rank correlation\n",
    "between these two variables and compare the results.\n",
    "\n",
    "Q4. A researcher is interested in examining the relationship between the number of hours individuals\n",
    "spend watching television per day and their level of physical activity. The researcher collected data on\n",
    "both variables from a sample of 50 participants. Calculate the Pearson correlation coefficient between\n",
    "these two variables."
   ]
  },
  {
   "cell_type": "markdown",
   "metadata": {},
   "source": [
    "**1. To calculate the Pearson correlation coefficient between the amount of time students spend studying for an exam and their final exam scores, you first need to organize the data into a table with two columns. Then, you can use a statistical software program or a calculator to calculate the correlation coefficient. The Pearson correlation coefficient ranges from -1 to +1, where -1 indicates a perfect negative correlation, 0 indicates no correlation, and +1 indicates a perfect positive correlation.**\n",
    "\n",
    "**For example, if the Pearson correlation coefficient between the amount of time students spend studying for an exam and their final exam scores is 0.8, this would indicate a strong positive correlation between the two variables. In other words, as the amount of time spent studying increases, the final exam scores also tend to increase.**\n",
    "\n",
    "**2. To calculate the Spearman's rank correlation between the amount of sleep individuals get each night and their overall job satisfaction level on a scale of 1 to 10, you first need to assign ranks to the data. Then, you can use a statistical software program or a calculator to calculate the correlation coefficient. The Spearman's rank correlation coefficient ranges from -1 to +1, where -1 indicates a perfect negative correlation, 0 indicates no correlation, and +1 indicates a perfect positive correlation.**\n",
    "\n",
    "**For example, if the Spearman's rank correlation coefficient between the amount of sleep individuals get each night and their overall job satisfaction level on a scale of 1 to 10 is -0.6, this would indicate a moderate negative correlation between the two variables. In other words, as the amount of sleep decreases, the overall job satisfaction level tends to decrease as well.**\n",
    "\n",
    "**3. To calculate the Pearson correlation coefficient and the Spearman's rank correlation between the number of hours of exercise per week and body mass index (BMI) in a sample of adults, you can use the same methods as described in Q1 and Q2. However, it's important to note that the Pearson correlation coefficient measures the linear relationship between two variables, while the Spearman's rank correlation coefficient measures the monotonic relationship between two variables.**\n",
    "\n",
    "**If the Pearson correlation coefficient is high and positive, it would indicate a strong positive linear relationship between the two variables. On the other hand, if the Spearman's rank correlation coefficient is high and positive, it would indicate a strong monotonic relationship between the two variables, but not necessarily a linear relationship.**\n",
    "\n",
    "**4. To calculate the Pearson correlation coefficient between the number of hours individuals spend watching television per day and their level of physical activity, you can use the same method as described in Q1. The Pearson correlation coefficient would indicate the strength and direction of the linear relationship between the two variables.**\n",
    "\n",
    "**For example, if the Pearson correlation coefficient between the number of hours individuals spend watching television per day and their level of physical activity is -0.4, this would indicate a moderate negative correlation between the two variables. In other words, as the number of hours spent watching television increases, the level of physical activity tends to decrease.**\n",
    "\n",
    "\n",
    "\n",
    "\n",
    "\n",
    "\n"
   ]
  },
  {
   "cell_type": "code",
   "execution_count": 1,
   "metadata": {},
   "outputs": [],
   "source": [
    "import pandas as pd"
   ]
  },
  {
   "cell_type": "code",
   "execution_count": 13,
   "metadata": {},
   "outputs": [],
   "source": [
    "df = pd.DataFrame({'Age':[25,42,37,19,31,28], 'Soft Drink Preference':['Coke','Pepsi','Mountain Dew','Coke','Pepsi','Coke']})"
   ]
  },
  {
   "cell_type": "code",
   "execution_count": 14,
   "metadata": {},
   "outputs": [
    {
     "data": {
      "text/html": [
       "<div>\n",
       "<style scoped>\n",
       "    .dataframe tbody tr th:only-of-type {\n",
       "        vertical-align: middle;\n",
       "    }\n",
       "\n",
       "    .dataframe tbody tr th {\n",
       "        vertical-align: top;\n",
       "    }\n",
       "\n",
       "    .dataframe thead th {\n",
       "        text-align: right;\n",
       "    }\n",
       "</style>\n",
       "<table border=\"1\" class=\"dataframe\">\n",
       "  <thead>\n",
       "    <tr style=\"text-align: right;\">\n",
       "      <th></th>\n",
       "      <th>Age</th>\n",
       "      <th>Soft Drink Preference</th>\n",
       "    </tr>\n",
       "  </thead>\n",
       "  <tbody>\n",
       "    <tr>\n",
       "      <th>Age</th>\n",
       "      <td>1.000000</td>\n",
       "      <td>0.758704</td>\n",
       "    </tr>\n",
       "    <tr>\n",
       "      <th>Soft Drink Preference</th>\n",
       "      <td>0.758704</td>\n",
       "      <td>1.000000</td>\n",
       "    </tr>\n",
       "  </tbody>\n",
       "</table>\n",
       "</div>"
      ],
      "text/plain": [
       "                            Age  Soft Drink Preference\n",
       "Age                    1.000000               0.758704\n",
       "Soft Drink Preference  0.758704               1.000000"
      ]
     },
     "execution_count": 14,
     "metadata": {},
     "output_type": "execute_result"
    }
   ],
   "source": [
    "df.corr()"
   ]
  },
  {
   "cell_type": "code",
   "execution_count": 15,
   "metadata": {},
   "outputs": [
    {
     "name": "stdout",
     "output_type": "stream",
     "text": [
      "Pearson correlation coefficient:  1.0271872352192981\n"
     ]
    }
   ],
   "source": [
    "import numpy as np\n",
    "\n",
    "# Sample data\n",
    "sales_calls = [40, 35, 45, 50, 30, 25, 35, 40, 45, 50, 55, 60, 65, 70, 75, 80, 85, 90, 95, 100, 30, 35, 40, 45, 50, 55, 60, 65, 70, 75]\n",
    "sales_made = [3, 2, 4, 5, 2, 1, 2, 3, 4, 5, 6, 7, 8, 9, 10, 11, 12, 13, 14, 15, 2, 3, 4, 5, 6, 7, 8, 9, 10, 11]\n",
    "\n",
    "# Calculate covariance and standard deviation\n",
    "covariance = np.cov(sales_calls, sales_made)[0][1]\n",
    "std_sales_calls = np.std(sales_calls)\n",
    "std_sales_made = np.std(sales_made)\n",
    "\n",
    "# Calculate Pearson correlation coefficient\n",
    "corr_coef = covariance / (std_sales_calls * std_sales_made)\n",
    "\n",
    "print(\"Pearson correlation coefficient: \", corr_coef)\n"
   ]
  },
  {
   "cell_type": "code",
   "execution_count": null,
   "metadata": {},
   "outputs": [],
   "source": []
  }
 ],
 "metadata": {
  "kernelspec": {
   "display_name": "Python 3",
   "language": "python",
   "name": "python3"
  },
  "language_info": {
   "codemirror_mode": {
    "name": "ipython",
    "version": 3
   },
   "file_extension": ".py",
   "mimetype": "text/x-python",
   "name": "python",
   "nbconvert_exporter": "python",
   "pygments_lexer": "ipython3",
   "version": "3.8.5"
  }
 },
 "nbformat": 4,
 "nbformat_minor": 4
}
