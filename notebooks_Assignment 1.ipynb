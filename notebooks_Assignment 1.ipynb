{
  "metadata": {
    "language_info": {
      "codemirror_mode": {
        "name": "python",
        "version": 3
      },
      "file_extension": ".py",
      "mimetype": "text/x-python",
      "name": "python",
      "nbconvert_exporter": "python",
      "pygments_lexer": "ipython3",
      "version": "3.8"
    },
    "kernelspec": {
      "name": "python",
      "display_name": "Python (Pyodide)",
      "language": "python"
    }
  },
  "nbformat_minor": 4,
  "nbformat": 4,
  "cells": [
    {
      "cell_type": "markdown",
      "source": "# Assignment 1",
      "metadata": {}
    },
    {
      "cell_type": "markdown",
      "source": "**Q1. What are the characteristics of the tuples? Is tuple immutable?**",
      "metadata": {
        "tags": []
      }
    },
    {
      "cell_type": "markdown",
      "source": "Tuples is the data type in the python programming where it stores only hashable data types. Yes, it has the characterstic of immutability.",
      "metadata": {
        "tags": []
      }
    },
    {
      "cell_type": "markdown",
      "source": "**Q2. What are the two tuple methods in python? Give an example of each method. Give a reason why\ntuples have only two in-built methods as compared to Lists.**",
      "metadata": {}
    },
    {
      "cell_type": "markdown",
      "source": "Count() and index() are the two methods in the tuples.",
      "metadata": {
        "tags": []
      }
    },
    {
      "cell_type": "code",
      "source": "# Creating a tuple.\ntuple1 = (1,2,'a',True,1)\n# Finding the number of occurence of 1 using count method.\nprint(\"Total times 1 has occured is\", tuple1.count(1))\n# Finding the index of first occurence of 1 using index method.\nprint(\"1 is present at index\", tuple1.index(1))",
      "metadata": {
        "trusted": true
      },
      "execution_count": 3,
      "outputs": [
        {
          "name": "stdout",
          "text": "Total times 1 has occured is 3\n1 is present at index 0\n",
          "output_type": "stream"
        }
      ]
    },
    {
      "cell_type": "markdown",
      "source": "Tuples are only meant to store hashable type data and to assure it, it only provides fewer methods. They tend to be secure and reliable to avoid any changes even if the program faces some buds.",
      "metadata": {
        "tags": []
      }
    },
    {
      "cell_type": "markdown",
      "source": "**Q3. Which collection datatypes in python do not allow duplicate items? Write a code using a set to remove\nduplicates from the given list.**\n\n**List = [1, 1, 1, 2, 1, 3, 1, 4, 2, 1, 2, 2, 2, 3, 2, 4, 3, 1, 3, 2, 3, 3, 3, 4, 4, 1, 4, 2, 4, 3, 4, 4]**",
      "metadata": {}
    },
    {
      "cell_type": "markdown",
      "source": "Set data type do not allow any duplicates in it.",
      "metadata": {}
    },
    {
      "cell_type": "code",
      "source": "List = [1, 1, 1, 2, 1, 3, 1, 4, 2, 1, 2, 2, 2, 3, 2, 4, 3, 1, 3, 2, 3, 3, 3, 4, 4, 1, 4, 2, 4, 3, 4, 4]\n# Typecasting the List to Set\nprint(set(List))",
      "metadata": {
        "trusted": true
      },
      "execution_count": 5,
      "outputs": [
        {
          "name": "stdout",
          "text": "{1, 2, 3, 4}\n",
          "output_type": "stream"
        }
      ]
    },
    {
      "cell_type": "markdown",
      "source": "**Q4. Explain the difference between the union() and update() methods for a set. Give an example of\neach method.**",
      "metadata": {}
    },
    {
      "cell_type": "markdown",
      "source": "union() method return the set as data type.\nupdate() method return None as a data type.",
      "metadata": {}
    },
    {
      "cell_type": "code",
      "source": "set_test = {1,2,3,4}\nset_test2 = {5,6,7}\n# union() method\na = set_test.union(set_test2)\nprint(a)\n# update() method\nb = set_test.update(set_test2)\nprint(b)",
      "metadata": {
        "trusted": true
      },
      "execution_count": 13,
      "outputs": [
        {
          "name": "stdout",
          "text": "{1, 2, 3, 4, 5, 6, 7}\nNone\n",
          "output_type": "stream"
        }
      ]
    },
    {
      "cell_type": "markdown",
      "source": "**Q5. What is a dictionary? Give an example. Also, state whether a dictionary is ordered or unordered.**",
      "metadata": {}
    },
    {
      "cell_type": "markdown",
      "source": "Dictionary is the data type in python which has keys and values in it as a single element. Each key is mapped with it's values and keys are tend to be unique.\n\nDictionary is unordered data type as they don't follow numeric indexing.",
      "metadata": {}
    },
    {
      "cell_type": "markdown",
      "source": "**Q6. Can we create a nested dictionary? If so, please give an example by creating a simple one-level\nnested dictionary.**",
      "metadata": {}
    },
    {
      "cell_type": "markdown",
      "source": "Yes, we can.",
      "metadata": {}
    },
    {
      "cell_type": "code",
      "source": "# Creating nested dictionary.\ndict1 = {\"Nested1\":{\"Nested3\":3}, \"Nested2\":{\"Nested4\":4}}\n\nprint(dict1[\"Nested1\"]['Nested3'])",
      "metadata": {
        "trusted": true
      },
      "execution_count": 21,
      "outputs": [
        {
          "name": "stdout",
          "text": "3\n",
          "output_type": "stream"
        }
      ]
    },
    {
      "cell_type": "markdown",
      "source": "**Q7. Using setdefault() method, create key named topics in the given dictionary and also add the value of\nthe key as this list**\n\n**['Python', 'Machine Learning’, 'Deep Learning']**",
      "metadata": {}
    },
    {
      "cell_type": "code",
      "source": "keys = ['Python', 'Machine Learning', 'Deep Learning']\ndict1 = {'language' : 'Python', 'course': 'Data Science Masters'}",
      "metadata": {
        "trusted": true
      },
      "execution_count": 122,
      "outputs": []
    },
    {
      "cell_type": "code",
      "source": "for i in range(len(keys)):\n    dict1.setdefault(keys[i],i)\nprint(dict1)",
      "metadata": {
        "trusted": true
      },
      "execution_count": 132,
      "outputs": [
        {
          "name": "stdout",
          "text": "{'language': 'Python', 'course': 'Data Science Masters', 'Python': 0, 'Machine Learning': 1, 'Deep Learning': 2}\n",
          "output_type": "stream"
        }
      ]
    },
    {
      "cell_type": "markdown",
      "source": "**Q8. What are the three view objects in dictionaries? Use the three in-built methods in python to display\nthese three view objects for the given dictionary.**\n\n**dict1 = {'Sport': 'Cricket' , 'Teams': ['India', 'Australia', 'England', 'South Africa', 'Sri Lanka', 'New Zealand']}**",
      "metadata": {}
    },
    {
      "cell_type": "markdown",
      "source": "Keys, Values and Items are the three view objects in dictionaries.",
      "metadata": {}
    },
    {
      "cell_type": "code",
      "source": "dict1 = {'Sport': 'Cricket' , 'Teams': ['India', 'Australia', 'England', 'South Africa', 'Sri Lanka', 'New Zealand']}",
      "metadata": {
        "trusted": true
      },
      "execution_count": 133,
      "outputs": []
    },
    {
      "cell_type": "code",
      "source": "# Using keys()\ndict1.keys()",
      "metadata": {
        "trusted": true
      },
      "execution_count": 134,
      "outputs": [
        {
          "execution_count": 134,
          "output_type": "execute_result",
          "data": {
            "text/plain": "dict_keys(['Sport', 'Teams'])"
          },
          "metadata": {}
        }
      ]
    },
    {
      "cell_type": "code",
      "source": "# Using values()\ndict1.values()",
      "metadata": {
        "trusted": true
      },
      "execution_count": 135,
      "outputs": [
        {
          "execution_count": 135,
          "output_type": "execute_result",
          "data": {
            "text/plain": "dict_values(['Cricket', ['India', 'Australia', 'England', 'South Africa', 'Sri Lanka', 'New Zealand']])"
          },
          "metadata": {}
        }
      ]
    },
    {
      "cell_type": "code",
      "source": "# Using items()\ndict1.items()",
      "metadata": {
        "trusted": true
      },
      "execution_count": 137,
      "outputs": [
        {
          "execution_count": 137,
          "output_type": "execute_result",
          "data": {
            "text/plain": "dict_items([('Sport', 'Cricket'), ('Teams', ['India', 'Australia', 'England', 'South Africa', 'Sri Lanka', 'New Zealand'])])"
          },
          "metadata": {}
        }
      ]
    },
    {
      "cell_type": "code",
      "source": "",
      "metadata": {},
      "execution_count": null,
      "outputs": []
    }
  ]
}