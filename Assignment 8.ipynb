{
 "cells": [
  {
   "cell_type": "markdown",
   "id": "04e7d41f-d5d3-4b3c-847d-8716f254c193",
   "metadata": {},
   "source": [
    "# Assignment 8"
   ]
  },
  {
   "cell_type": "markdown",
   "id": "6b0a2ec9-dee5-482f-99e6-db9f89a948ac",
   "metadata": {},
   "source": [
    "**Q1. Create a function which will take a list as an argument and return the product of all the numbers\n",
    "after creating a flat list.\n",
    "Use the below-given list as an argument for your function.**"
   ]
  },
  {
   "cell_type": "code",
   "execution_count": 127,
   "id": "2623a5ff-fa5f-4ba2-9374-0bd8c0306e54",
   "metadata": {},
   "outputs": [],
   "source": [
    "list1 = [1,2,3,4, [44,55,66, True], False, (34,56,78,89,34), {1,2,3,3,2,1}, {1:34, \"key2\": [55, 67, 78, 89], 4: (45,\n",
    "22, 61, 34)}, [56, 'data science'], 'Machine Learning']"
   ]
  },
  {
   "cell_type": "code",
   "execution_count": 128,
   "id": "6944237f-6575-4535-b93e-d0c19e9aeaa2",
   "metadata": {},
   "outputs": [],
   "source": [
    "def itr_list(num, product):\n",
    "    for i in num:\n",
    "        if type(i) == type(1):\n",
    "            product *= i\n",
    "    return product\n",
    "def itr_tuple(num, product):\n",
    "    for i in num:\n",
    "        product *= i\n",
    "    return product\n",
    "def itr_set(num, product):\n",
    "    for i in num:\n",
    "        product *= i\n",
    "    return product\n",
    "def itr_dict(num, product):\n",
    "    for i in num.keys():\n",
    "        if type(i) == type(1):\n",
    "            product *= i\n",
    "    for i in num.values():\n",
    "        if type(i) == type(1):\n",
    "            product *= i\n",
    "        elif type(i) == type((1,2)):\n",
    "            product *= itr_tuple(i, product)\n",
    "        elif type(i) == type([1,2]):\n",
    "            product *= itr_list(i, product)\n",
    "    return product"
   ]
  },
  {
   "cell_type": "code",
   "execution_count": 130,
   "id": "aaaf3df9-bd97-4123-816c-77bbf4966bb6",
   "metadata": {},
   "outputs": [],
   "source": [
    "def product(nums):\n",
    "    product = 1\n",
    "    for i in nums:\n",
    "        if type(i) == type(1):\n",
    "            product *= i\n",
    "        elif type(i) == type([1,2]):\n",
    "            product = itr_list(i, product)\n",
    "        elif type(i) == type((1,2)):\n",
    "            product = itr_tuple(i, product)\n",
    "        elif type(i) == type({1,2}):\n",
    "            product = itr_set(i, product)\n",
    "        elif type(i) == type({1:1,2:2}):\n",
    "            product = itr_dict(i, product)\n",
    "    return product"
   ]
  },
  {
   "cell_type": "code",
   "execution_count": 131,
   "id": "7fe2156c-4674-4d46-88c8-9b8f09fd8549",
   "metadata": {},
   "outputs": [
    {
     "data": {
      "text/plain": [
       "293792609281086323361797855164190693448506499581572170251326502514805923337898368947978240000000"
      ]
     },
     "execution_count": 131,
     "metadata": {},
     "output_type": "execute_result"
    }
   ],
   "source": [
    "product(list1)"
   ]
  },
  {
   "cell_type": "markdown",
   "id": "28b21fd9-e479-4f7b-9bd6-948ffc215948",
   "metadata": {},
   "source": [
    "**Q2. Write a python program for encrypting a message sent to you by your friend. The logic of encryption\n",
    "should be such that, for a the output should be z. For b, the output should be y. For c, the output should\n",
    "be x respectively. Also, the whitespace should be replaced with a dollar sign. Keep the punctuation\n",
    "marks unchanged.**"
   ]
  },
  {
   "cell_type": "markdown",
   "id": "1d1e1136-579b-4d24-8f29-0f21ffaad026",
   "metadata": {},
   "source": [
    "**Input Sentence: I want to become a Data Scientist.**\n",
    "**Encrypt the above input sentence using the program you just created.**"
   ]
  },
  {
   "cell_type": "markdown",
   "id": "03d18b6b-988d-461f-9f5f-091dfabd41e2",
   "metadata": {},
   "source": [
    "**Note: Convert the given input sentence into lowercase before encrypting. The final output should be\n",
    "lowercase.**"
   ]
  },
  {
   "cell_type": "code",
   "execution_count": 134,
   "id": "97875877-e815-4261-98f6-2cb082cf9cb0",
   "metadata": {},
   "outputs": [],
   "source": [
    "cyphers = {' ':\"$\",'a':'z','b':'y','c':'x','d':'w','e':'v','f':'u','g':'t','h':'s','i':'r','j':'q','k':'p','l':'o','m':'n','n':'m','o':'l','p':'k','q':'j','r':'i','s':'h','t':'g','u':'f','v':'e','w':'d','x':'c','y':'b','z':'a'}"
   ]
  },
  {
   "cell_type": "code",
   "execution_count": 151,
   "id": "7cdd2976-3f06-4796-97a4-00119592c8ee",
   "metadata": {},
   "outputs": [],
   "source": [
    "def encrypt(message):\n",
    "    encrypted_message = ''\n",
    "    for i in message:\n",
    "        encrypted_message+=(cyphers.get(i.lower()))\n",
    "    return encrypted_message"
   ]
  },
  {
   "cell_type": "code",
   "execution_count": 152,
   "id": "ad1e0884-2e57-4239-827d-7999ede32e46",
   "metadata": {},
   "outputs": [
    {
     "data": {
      "text/plain": [
       "'svool$hsrezn'"
      ]
     },
     "execution_count": 152,
     "metadata": {},
     "output_type": "execute_result"
    }
   ],
   "source": [
    "encrypt(\"Hello Shivam\")"
   ]
  },
  {
   "cell_type": "code",
   "execution_count": null,
   "id": "c91d57c4-7cc5-4a2d-af59-d90f84b6ff88",
   "metadata": {},
   "outputs": [],
   "source": []
  }
 ],
 "metadata": {
  "kernelspec": {
   "display_name": "Python 3 (ipykernel)",
   "language": "python",
   "name": "python3"
  },
  "language_info": {
   "codemirror_mode": {
    "name": "ipython",
    "version": 3
   },
   "file_extension": ".py",
   "mimetype": "text/x-python",
   "name": "python",
   "nbconvert_exporter": "python",
   "pygments_lexer": "ipython3",
   "version": "3.10.8"
  }
 },
 "nbformat": 4,
 "nbformat_minor": 5
}
