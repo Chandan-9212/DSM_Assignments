{
 "cells": [
  {
   "cell_type": "markdown",
   "metadata": {},
   "source": [
    "**Q1. Explain the assumptions required to use ANOVA and provide examples of violations that could impact\n",
    "the validity of the results.**"
   ]
  },
  {
   "cell_type": "markdown",
   "metadata": {},
   "source": [
    "ANOVA (Analysis of Variance) is a statistical method used to compare means among two or more groups. It assumes that the samples are drawn from populations that have a normal distribution, homogeneity of variance, and independence of observations.\n",
    "\n",
    "Assumptions of ANOVA are:\n",
    "\n",
    "Normality: The populations from which the samples are drawn are normally distributed. Violation of this assumption can occur when the data are skewed, have outliers, or the sample size is small.\n",
    "\n",
    "Homogeneity of variance: The variance of the groups is equal. Violation of this assumption can lead to inflated Type I errors (false positives) and decreased power (ability to detect true effects).\n",
    "\n",
    "Independence of observations: The observations in each group are independent of each other. This assumption is violated when there is a correlation between the observations or the sampling method is not random."
   ]
  },
  {
   "cell_type": "markdown",
   "metadata": {},
   "source": [
    "**Q2. What are the three types of ANOVA, and in what situations would each be used?**"
   ]
  },
  {
   "cell_type": "markdown",
   "metadata": {},
   "source": [
    "There are three types of ANOVA:\n",
    "\n",
    "One-way ANOVA: One-way ANOVA is used when there is one independent variable with three or more levels or groups. It is used to determine if there is a significant difference in the means of the groups. For example, a one-way ANOVA could be used to compare the mean weight loss of three different diets.\n",
    "\n",
    "Two-way ANOVA: Two-way ANOVA is used when there are two independent variables or factors. It is used to determine if there is a significant interaction between the two factors and if there is a significant main effect of each factor. For example, a two-way ANOVA could be used to determine if there is a significant difference in test scores based on both gender and teaching method.\n",
    "\n",
    "Repeated measures ANOVA: Repeated measures ANOVA is used when the same group of participants is tested under multiple conditions or at multiple time points. It is used to determine if there is a significant difference between the conditions or time points. For example, a repeated measures ANOVA could be used to determine if there is a significant difference in anxiety levels before and after a mindfulness intervention."
   ]
  },
  {
   "cell_type": "markdown",
   "metadata": {},
   "source": [
    "**Q3. What is the partitioning of variance in ANOVA, and why is it important to understand this concept?**"
   ]
  },
  {
   "cell_type": "markdown",
   "metadata": {},
   "source": [
    "ANOVA (Analysis of Variance) is a statistical method used to analyze the differences between two or more groups of data. The partitioning of variance refers to the division of the total variance in a data set into its different sources of variation.\n",
    "\n",
    "The partitioning of variance in ANOVA involves dividing the total variance into two components: the variance between groups (also known as the \"treatment\" or \"explained\" variance) and the variance within groups (also known as the \"error\" or \"unexplained\" variance). The variance between groups measures the extent to which the means of the different groups differ from each other, while the variance within groups measures the variability of the data within each group.\n",
    "\n",
    "Understanding the partitioning of variance in ANOVA is important because it allows researchers to determine whether the differences between the means of the groups are statistically significant or due to chance. By comparing the explained variance (the variance between groups) to the unexplained variance (the variance within groups), researchers can determine whether the differences between the means of the groups are larger than would be expected by chance alone.\n",
    "\n",
    "This information is critical for researchers who are trying to understand the factors that influence a particular outcome. By identifying the sources of variation that are most important, researchers can focus their efforts on designing interventions or treatments that are most likely to be effective. Additionally, understanding the partitioning of variance can help researchers to avoid drawing false conclusions based on small or biased samples, which can lead to inaccurate or misleading results.\n",
    "\n",
    "\n",
    "\n",
    "\n",
    "\n"
   ]
  },
  {
   "cell_type": "markdown",
   "metadata": {},
   "source": [
    "**Q4. How would you calculate the total sum of squares (SST), explained sum of squares (SSE), and residual\n",
    "sum of squares (SSR) in a one-way ANOVA using Python?**"
   ]
  },
  {
   "cell_type": "code",
   "execution_count": null,
   "metadata": {},
   "outputs": [],
   "source": [
    "import pandas as pd\n",
    "import statsmodels.api as sm\n",
    "from statsmodels.formula.api import ols\n",
    "\n",
    "# Load data into a pandas DataFrame\n",
    "data = [1,2,3,4,5,6]\n",
    "\n",
    "# Fit the ANOVA model using the formula interface\n",
    "model = ols('response_variable ~ group_variable', data=data).fit()\n",
    "\n",
    "# Calculate the total sum of squares (SST)\n",
    "sst = sm.stats.anova_lm(model, typ=1)['sum_sq'][0]\n",
    "\n",
    "# Calculate the explained sum of squares (SSE)\n",
    "sse = sm.stats.anova_lm(model, typ=1)['sum_sq'][1]\n",
    "\n",
    "# Calculate the residual sum of squares (SSR)\n",
    "ssr = sst - sse\n",
    "\n",
    "# Print the results\n",
    "print('SST:', sst)\n",
    "print('SSE:', sse)\n",
    "print('SSR:', ssr)\n"
   ]
  },
  {
   "cell_type": "markdown",
   "metadata": {},
   "source": [
    "**Q5. In a two-way ANOVA, how would you calculate the main effects and interaction effects using Python?**"
   ]
  },
  {
   "cell_type": "code",
   "execution_count": null,
   "metadata": {},
   "outputs": [],
   "source": [
    "import pandas as pd\n",
    "import statsmodels.api as sm\n",
    "from statsmodels.formula.api import ols\n",
    "\n",
    "# Load data into a pandas DataFrame\n",
    "data = [[1,2,3],[4,5,6]]\n",
    "\n",
    "# Fit the ANOVA model using the formula interface\n",
    "model = ols('response_variable ~ factor(variable_1) + factor(variable_2) + factor(variable_1):factor(variable_2)', data=data).fit()\n",
    "\n",
    "# Calculate the main effect of variable_1\n",
    "me_1 = sm.stats.anova_lm(model, typ=1)['sum_sq'][0]\n",
    "\n",
    "# Calculate the main effect of variable_2\n",
    "me_2 = sm.stats.anova_lm(model, typ=1)['sum_sq'][1]\n",
    "\n",
    "# Calculate the interaction effect between variable_1 and variable_2\n",
    "ie = sm.stats.anova_lm(model, typ=1)['sum_sq'][2]\n",
    "\n",
    "# Print the results\n",
    "print('Main effect of variable 1:', me_1)\n",
    "print('Main effect of variable 2:', me_2)\n",
    "print('Interaction effect:', ie)\n"
   ]
  },
  {
   "cell_type": "markdown",
   "metadata": {},
   "source": [
    "**Q6. Suppose you conducted a one-way ANOVA and obtained an F-statistic of 5.23 and a p-value of 0.02.\n",
    "What can you conclude about the differences between the groups, and how would you interpret these\n",
    "results?**"
   ]
  },
  {
   "cell_type": "markdown",
   "metadata": {},
   "source": [
    "In this scenario, you have conducted a one-way ANOVA, which is a statistical test used to determine whether there are significant differences between the means of three or more groups. The F-statistic is a test statistic that is calculated as the ratio of the between-group variance to the within-group variance, and it is used to determine whether there is a significant difference between the means of the groups.\n",
    "\n",
    "In this case, the F-statistic is 5.23, and the p-value is 0.02. The p-value represents the probability of observing a test statistic as extreme as the one calculated if the null hypothesis were true. In other words, it represents the probability of observing the observed differences between the groups if there were actually no differences between them.\n",
    "\n",
    "A p-value of 0.02 indicates that there is a 2% chance of observing the observed differences between the groups if there were actually no differences between them. Since this p-value is less than the standard threshold of 0.05, we can reject the null hypothesis that there are no differences between the groups and conclude that there are significant differences between them.\n",
    "\n",
    "However, the ANOVA test only tells us that there are significant differences between the groups, but it does not tell us which groups are different from each other. To determine this, we need to conduct post-hoc tests, such as the Tukey HSD test or the Bonferroni correction.\n",
    "\n",
    "Therefore, in summary, we can conclude that there are significant differences between the groups, but we cannot determine which groups are different without conducting post-hoc tests.\n",
    "\n",
    "\n",
    "\n",
    "\n",
    "\n"
   ]
  },
  {
   "cell_type": "markdown",
   "metadata": {},
   "source": [
    "**Q7. In a repeated measures ANOVA, how would you handle missing data, and what are the potential\n",
    "consequences of using different methods to handle missing data?**"
   ]
  },
  {
   "cell_type": "markdown",
   "metadata": {},
   "source": [
    "In a repeated measures ANOVA, missing data can occur when a participant has missing values on one or more of the measures across time points. Handling missing data is important to ensure that the results are not biased and to maximize the statistical power of the analysis.\n",
    "\n",
    "There are several methods for handling missing data in a repeated measures ANOVA, including:\n",
    "\n",
    "Complete case analysis: This method involves only using data from participants who have complete data for all time points. The main advantage of this method is that it is straightforward and easy to implement. However, it may lead to a loss of power and potential bias if the missing data is not missing completely at random (MCAR), meaning that the missingness is not related to the outcome variable or any other covariates.\n",
    "\n",
    "Imputation methods: Imputation methods involve replacing missing values with estimated values based on the available data. There are several types of imputation methods, including mean imputation, hot deck imputation, and multiple imputation. Imputation methods can increase the power of the analysis and reduce the bias caused by missing data, especially when the missing data is missing at random (MAR), meaning that the missingness is related to other variables in the data set.\n",
    "\n",
    "Mixed-effects models: Mixed-effects models can handle missing data by including all available data in the analysis, using a maximum likelihood estimation method to estimate the missing values. This method can be particularly useful when the missing data is not MCAR, as it can account for individual differences in the missingness patterns.\n",
    "\n",
    "The potential consequences of using different methods to handle missing data can vary. Complete case analysis can lead to a loss of power and potential bias if the missing data is not MCAR, while imputation methods can result in biased estimates if the missing data is not MAR. Mixed-effects models can be computationally complex and may require a larger sample size to achieve adequate power.\n",
    "\n",
    "Therefore, it is important to carefully consider the missing data mechanism and choose a method for handling missing data that is appropriate for the data set and research question. It is also recommended to report the missing data patterns and the methods used to handle missing data in the analysis, to increase the transparency and replicability of the study.\n",
    "\n",
    "\n",
    "\n",
    "\n",
    "\n"
   ]
  },
  {
   "cell_type": "markdown",
   "metadata": {},
   "source": [
    "**Q8. What are some common post-hoc tests used after ANOVA, and when would you use each one? Provide\n",
    "an example of a situation where a post-hoc test might be necessary.**"
   ]
  },
  {
   "cell_type": "markdown",
   "metadata": {},
   "source": [
    "Post-hoc tests are used after conducting an ANOVA to determine which specific groups differ significantly from each other. The choice of a specific post-hoc test depends on the research question, the number of groups being compared, and the assumptions of the data.\n",
    "\n",
    "Here are some common post-hoc tests used after ANOVA:\n",
    "\n",
    "Tukey's Honestly Significant Difference (HSD): This post-hoc test is used when the number of groups is equal and the variances are homogenous. It is considered to be the most conservative post-hoc test and controls the overall Type I error rate.\n",
    "\n",
    "Bonferroni correction: This post-hoc test is used when the number of pairwise comparisons is large, and it is known for its strict control of the familywise error rate.\n",
    "\n",
    "Scheffé's method: This post-hoc test is used when the number of groups is unequal, and the variances are not homogenous. It is known for its ability to handle complex data sets with unequal group sizes and variances.\n",
    "\n",
    "Games-Howell test: This post-hoc test is used when the assumptions of equal variances and normality are not met. It is known for its robustness to violations of normality and homogeneity of variances assumptions.\n",
    "\n",
    "Dunnett's test: This post-hoc test is used when one group is compared to all other groups. It is known for its ability to control the familywise error rate.\n",
    "\n",
    "An example of a situation where a post-hoc test might be necessary is when a researcher is interested in comparing the mean scores of three or more groups on a variable. For instance, let's say that a researcher wants to investigate whether there are any differences in the average weight loss among three different diet programs. After conducting an ANOVA, the researcher finds that there is a significant difference in the mean weight loss among the three groups. However, to determine which specific groups differ significantly from each other, a post-hoc test, such as Tukey's HSD or Scheffé's method, would be necessary. This would enable the researcher to determine which diet programs lead to significantly different weight loss outcomes.\n",
    "\n",
    "\n",
    "\n",
    "\n",
    "\n"
   ]
  },
  {
   "cell_type": "markdown",
   "metadata": {},
   "source": [
    "**Q9. A researcher wants to compare the mean weight loss of three diets: A, B, and C. They collect data from\n",
    "50 participants who were randomly assigned to one of the diets. Conduct a one-way ANOVA using Python\n",
    "to determine if there are any significant differences between the mean weight loss of the three diets.\n",
    "Report the F-statistic and p-value, and interpret the results.**"
   ]
  },
  {
   "cell_type": "code",
   "execution_count": 2,
   "metadata": {},
   "outputs": [
    {
     "name": "stdout",
     "output_type": "stream",
     "text": [
      "F-statistic: 95.11301918095292\n",
      "p-value: 6.189286329579846e-21\n"
     ]
    }
   ],
   "source": [
    "import numpy as np\n",
    "from scipy.stats import f_oneway\n",
    "\n",
    "# Sample weight loss data for diets A, B, and C\n",
    "diet_a = np.array([5.2, 7.1, 3.5, 6.2, 4.7, 3.9, 5.8, 6.1, 4.2, 7.8,\n",
    "                   6.7, 5.5, 4.8, 5.6, 6.4, 5.9, 4.4, 7.2, 4.1, 5.0,\n",
    "                   5.3, 6.9, 5.7, 7.0, 5.1])\n",
    "diet_b = np.array([4.5, 3.8, 2.9, 4.1, 5.4, 3.1, 2.5, 3.6, 4.9, 3.3,\n",
    "                   4.2, 5.6, 3.7, 5.0, 3.9, 4.6, 3.2, 5.3, 4.8, 3.4,\n",
    "                   2.8, 4.0, 5.1, 3.0, 4.7])\n",
    "diet_c = np.array([2.1, 1.9, 1.8, 2.6, 2.3, 3.0, 1.7, 1.6, 2.2, 2.9,\n",
    "                   2.5, 2.8, 2.0, 1.5, 1.8, 2.4, 2.7, 2.1, 2.6, 2.2,\n",
    "                   1.9, 1.6, 2.3, 2.0, 2.5])\n",
    "\n",
    "# Perform one-way ANOVA\n",
    "f_stat, p_val = f_oneway(diet_a, diet_b, diet_c)\n",
    "\n",
    "# Print results\n",
    "print(\"F-statistic:\", f_stat)\n",
    "print(\"p-value:\", p_val)\n"
   ]
  },
  {
   "cell_type": "markdown",
   "metadata": {},
   "source": [
    "**Q10. A company wants to know if there are any significant differences in the average time it takes to\n",
    "complete a task using three different software programs: Program A, Program B, and Program C. They\n",
    "randomly assign 30 employees to one of the programs and record the time it takes each employee to\n",
    "complete the task. Conduct a two-way ANOVA using Python to determine if there are any main effects or\n",
    "interaction effects between the software programs and employee experience level (novice vs.\n",
    "experienced). Report the F-statistics and p-values, and interpret the results.**"
   ]
  },
  {
   "cell_type": "code",
   "execution_count": 4,
   "metadata": {},
   "outputs": [
    {
     "ename": "ValueError",
     "evalue": "arrays must all be same length",
     "output_type": "error",
     "traceback": [
      "\u001b[1;31m---------------------------------------------------------------------------\u001b[0m",
      "\u001b[1;31mValueError\u001b[0m                                Traceback (most recent call last)",
      "\u001b[1;32m<ipython-input-4-0aea5676582b>\u001b[0m in \u001b[0;36m<module>\u001b[1;34m\u001b[0m\n\u001b[0;32m      4\u001b[0m \u001b[1;33m\u001b[0m\u001b[0m\n\u001b[0;32m      5\u001b[0m \u001b[1;31m# Create a dataframe of the data\u001b[0m\u001b[1;33m\u001b[0m\u001b[1;33m\u001b[0m\u001b[1;33m\u001b[0m\u001b[0m\n\u001b[1;32m----> 6\u001b[1;33m data = pd.DataFrame({'program': ['A', 'A', 'A', 'B', 'B', 'B', 'C', 'C', 'C'] * 2,\n\u001b[0m\u001b[0;32m      7\u001b[0m                      \u001b[1;34m'experience'\u001b[0m\u001b[1;33m:\u001b[0m \u001b[1;33m[\u001b[0m\u001b[1;34m'novice'\u001b[0m\u001b[1;33m]\u001b[0m \u001b[1;33m*\u001b[0m \u001b[1;36m9\u001b[0m \u001b[1;33m+\u001b[0m \u001b[1;33m[\u001b[0m\u001b[1;34m'experienced'\u001b[0m\u001b[1;33m]\u001b[0m \u001b[1;33m*\u001b[0m \u001b[1;36m9\u001b[0m \u001b[1;33m+\u001b[0m \u001b[1;33m[\u001b[0m\u001b[1;34m'novice'\u001b[0m\u001b[1;33m]\u001b[0m \u001b[1;33m*\u001b[0m \u001b[1;36m9\u001b[0m \u001b[1;33m+\u001b[0m \u001b[1;33m[\u001b[0m\u001b[1;34m'experienced'\u001b[0m\u001b[1;33m]\u001b[0m \u001b[1;33m*\u001b[0m \u001b[1;36m9\u001b[0m\u001b[1;33m,\u001b[0m\u001b[1;33m\u001b[0m\u001b[1;33m\u001b[0m\u001b[0m\n\u001b[0;32m      8\u001b[0m                      'time': [17, 19, 20, 21, 22, 24, 15, 18, 19, 24, 26, 27, 12, 14, 16, 18, 19, 21,16, 18, 19, 20, 22, 23, 14, 15, 16, 21, 23, 25]})\n",
      "\u001b[1;32m~\\anaconda3\\lib\\site-packages\\pandas\\core\\frame.py\u001b[0m in \u001b[0;36m__init__\u001b[1;34m(self, data, index, columns, dtype, copy)\u001b[0m\n\u001b[0;32m    466\u001b[0m \u001b[1;33m\u001b[0m\u001b[0m\n\u001b[0;32m    467\u001b[0m         \u001b[1;32melif\u001b[0m \u001b[0misinstance\u001b[0m\u001b[1;33m(\u001b[0m\u001b[0mdata\u001b[0m\u001b[1;33m,\u001b[0m \u001b[0mdict\u001b[0m\u001b[1;33m)\u001b[0m\u001b[1;33m:\u001b[0m\u001b[1;33m\u001b[0m\u001b[1;33m\u001b[0m\u001b[0m\n\u001b[1;32m--> 468\u001b[1;33m             \u001b[0mmgr\u001b[0m \u001b[1;33m=\u001b[0m \u001b[0minit_dict\u001b[0m\u001b[1;33m(\u001b[0m\u001b[0mdata\u001b[0m\u001b[1;33m,\u001b[0m \u001b[0mindex\u001b[0m\u001b[1;33m,\u001b[0m \u001b[0mcolumns\u001b[0m\u001b[1;33m,\u001b[0m \u001b[0mdtype\u001b[0m\u001b[1;33m=\u001b[0m\u001b[0mdtype\u001b[0m\u001b[1;33m)\u001b[0m\u001b[1;33m\u001b[0m\u001b[1;33m\u001b[0m\u001b[0m\n\u001b[0m\u001b[0;32m    469\u001b[0m         \u001b[1;32melif\u001b[0m \u001b[0misinstance\u001b[0m\u001b[1;33m(\u001b[0m\u001b[0mdata\u001b[0m\u001b[1;33m,\u001b[0m \u001b[0mma\u001b[0m\u001b[1;33m.\u001b[0m\u001b[0mMaskedArray\u001b[0m\u001b[1;33m)\u001b[0m\u001b[1;33m:\u001b[0m\u001b[1;33m\u001b[0m\u001b[1;33m\u001b[0m\u001b[0m\n\u001b[0;32m    470\u001b[0m             \u001b[1;32mimport\u001b[0m \u001b[0mnumpy\u001b[0m\u001b[1;33m.\u001b[0m\u001b[0mma\u001b[0m\u001b[1;33m.\u001b[0m\u001b[0mmrecords\u001b[0m \u001b[1;32mas\u001b[0m \u001b[0mmrecords\u001b[0m\u001b[1;33m\u001b[0m\u001b[1;33m\u001b[0m\u001b[0m\n",
      "\u001b[1;32m~\\anaconda3\\lib\\site-packages\\pandas\\core\\internals\\construction.py\u001b[0m in \u001b[0;36minit_dict\u001b[1;34m(data, index, columns, dtype)\u001b[0m\n\u001b[0;32m    281\u001b[0m             \u001b[0marr\u001b[0m \u001b[1;32mif\u001b[0m \u001b[1;32mnot\u001b[0m \u001b[0mis_datetime64tz_dtype\u001b[0m\u001b[1;33m(\u001b[0m\u001b[0marr\u001b[0m\u001b[1;33m)\u001b[0m \u001b[1;32melse\u001b[0m \u001b[0marr\u001b[0m\u001b[1;33m.\u001b[0m\u001b[0mcopy\u001b[0m\u001b[1;33m(\u001b[0m\u001b[1;33m)\u001b[0m \u001b[1;32mfor\u001b[0m \u001b[0marr\u001b[0m \u001b[1;32min\u001b[0m \u001b[0marrays\u001b[0m\u001b[1;33m\u001b[0m\u001b[1;33m\u001b[0m\u001b[0m\n\u001b[0;32m    282\u001b[0m         ]\n\u001b[1;32m--> 283\u001b[1;33m     \u001b[1;32mreturn\u001b[0m \u001b[0marrays_to_mgr\u001b[0m\u001b[1;33m(\u001b[0m\u001b[0marrays\u001b[0m\u001b[1;33m,\u001b[0m \u001b[0mdata_names\u001b[0m\u001b[1;33m,\u001b[0m \u001b[0mindex\u001b[0m\u001b[1;33m,\u001b[0m \u001b[0mcolumns\u001b[0m\u001b[1;33m,\u001b[0m \u001b[0mdtype\u001b[0m\u001b[1;33m=\u001b[0m\u001b[0mdtype\u001b[0m\u001b[1;33m)\u001b[0m\u001b[1;33m\u001b[0m\u001b[1;33m\u001b[0m\u001b[0m\n\u001b[0m\u001b[0;32m    284\u001b[0m \u001b[1;33m\u001b[0m\u001b[0m\n\u001b[0;32m    285\u001b[0m \u001b[1;33m\u001b[0m\u001b[0m\n",
      "\u001b[1;32m~\\anaconda3\\lib\\site-packages\\pandas\\core\\internals\\construction.py\u001b[0m in \u001b[0;36marrays_to_mgr\u001b[1;34m(arrays, arr_names, index, columns, dtype, verify_integrity)\u001b[0m\n\u001b[0;32m     76\u001b[0m         \u001b[1;31m# figure out the index, if necessary\u001b[0m\u001b[1;33m\u001b[0m\u001b[1;33m\u001b[0m\u001b[1;33m\u001b[0m\u001b[0m\n\u001b[0;32m     77\u001b[0m         \u001b[1;32mif\u001b[0m \u001b[0mindex\u001b[0m \u001b[1;32mis\u001b[0m \u001b[1;32mNone\u001b[0m\u001b[1;33m:\u001b[0m\u001b[1;33m\u001b[0m\u001b[1;33m\u001b[0m\u001b[0m\n\u001b[1;32m---> 78\u001b[1;33m             \u001b[0mindex\u001b[0m \u001b[1;33m=\u001b[0m \u001b[0mextract_index\u001b[0m\u001b[1;33m(\u001b[0m\u001b[0marrays\u001b[0m\u001b[1;33m)\u001b[0m\u001b[1;33m\u001b[0m\u001b[1;33m\u001b[0m\u001b[0m\n\u001b[0m\u001b[0;32m     79\u001b[0m         \u001b[1;32melse\u001b[0m\u001b[1;33m:\u001b[0m\u001b[1;33m\u001b[0m\u001b[1;33m\u001b[0m\u001b[0m\n\u001b[0;32m     80\u001b[0m             \u001b[0mindex\u001b[0m \u001b[1;33m=\u001b[0m \u001b[0mensure_index\u001b[0m\u001b[1;33m(\u001b[0m\u001b[0mindex\u001b[0m\u001b[1;33m)\u001b[0m\u001b[1;33m\u001b[0m\u001b[1;33m\u001b[0m\u001b[0m\n",
      "\u001b[1;32m~\\anaconda3\\lib\\site-packages\\pandas\\core\\internals\\construction.py\u001b[0m in \u001b[0;36mextract_index\u001b[1;34m(data)\u001b[0m\n\u001b[0;32m    395\u001b[0m             \u001b[0mlengths\u001b[0m \u001b[1;33m=\u001b[0m \u001b[0mlist\u001b[0m\u001b[1;33m(\u001b[0m\u001b[0mset\u001b[0m\u001b[1;33m(\u001b[0m\u001b[0mraw_lengths\u001b[0m\u001b[1;33m)\u001b[0m\u001b[1;33m)\u001b[0m\u001b[1;33m\u001b[0m\u001b[1;33m\u001b[0m\u001b[0m\n\u001b[0;32m    396\u001b[0m             \u001b[1;32mif\u001b[0m \u001b[0mlen\u001b[0m\u001b[1;33m(\u001b[0m\u001b[0mlengths\u001b[0m\u001b[1;33m)\u001b[0m \u001b[1;33m>\u001b[0m \u001b[1;36m1\u001b[0m\u001b[1;33m:\u001b[0m\u001b[1;33m\u001b[0m\u001b[1;33m\u001b[0m\u001b[0m\n\u001b[1;32m--> 397\u001b[1;33m                 \u001b[1;32mraise\u001b[0m \u001b[0mValueError\u001b[0m\u001b[1;33m(\u001b[0m\u001b[1;34m\"arrays must all be same length\"\u001b[0m\u001b[1;33m)\u001b[0m\u001b[1;33m\u001b[0m\u001b[1;33m\u001b[0m\u001b[0m\n\u001b[0m\u001b[0;32m    398\u001b[0m \u001b[1;33m\u001b[0m\u001b[0m\n\u001b[0;32m    399\u001b[0m             \u001b[1;32mif\u001b[0m \u001b[0mhave_dicts\u001b[0m\u001b[1;33m:\u001b[0m\u001b[1;33m\u001b[0m\u001b[1;33m\u001b[0m\u001b[0m\n",
      "\u001b[1;31mValueError\u001b[0m: arrays must all be same length"
     ]
    }
   ],
   "source": [
    "import pandas as pd\n",
    "import statsmodels.api as sm\n",
    "from statsmodels.formula.api import ols\n",
    "\n",
    "# Create a dataframe of the data\n",
    "data = pd.DataFrame({'program': ['A', 'A', 'A', 'B', 'B', 'B', 'C', 'C', 'C'] * 2,\n",
    "                     'experience': ['novice'] * 9 + ['experienced'] * 9 + ['novice'] * 9 + ['experienced'] * 9,\n",
    "                     'time': [17, 19, 20, 21, 22, 24, 15, 18, 19, 24, 26, 27, 12, 14, 16, 18, 19, 21,16, 18, 19, 20, 22, 23, 14, 15, 16, 21, 23, 25]})\n",
    "\n",
    "# Conduct two-way ANOVA\n",
    "model = ols('time ~ C(program) + C(experience) + C(program):C(experience)', data=data).fit()\n",
    "sm.stats.anova_lm(model, typ=2)\n",
    "\n"
   ]
  },
  {
   "cell_type": "markdown",
   "metadata": {},
   "source": [
    "**Q11. An educational researcher is interested in whether a new teaching method improves student test\n",
    "scores. They randomly assign 100 students to either the control group (traditional teaching method) or the\n",
    "experimental group (new teaching method) and administer a test at the end of the semester. Conduct a\n",
    "two-sample t-test using Python to determine if there are any significant differences in test scores\n",
    "between the two groups. If the results are significant, follow up with a post-hoc test to determine which\n",
    "group(s) differ significantly from each other.**"
   ]
  },
  {
   "cell_type": "code",
   "execution_count": 5,
   "metadata": {},
   "outputs": [
    {
     "ename": "ImportError",
     "evalue": "cannot import name 'posthoc_tukey' from 'scipy.stats' (C:\\Users\\ps450\\anaconda3\\lib\\site-packages\\scipy\\stats\\__init__.py)",
     "output_type": "error",
     "traceback": [
      "\u001b[1;31m---------------------------------------------------------------------------\u001b[0m",
      "\u001b[1;31mImportError\u001b[0m                               Traceback (most recent call last)",
      "\u001b[1;32m<ipython-input-5-bdf628174261>\u001b[0m in \u001b[0;36m<module>\u001b[1;34m\u001b[0m\n\u001b[0;32m      1\u001b[0m \u001b[1;32mimport\u001b[0m \u001b[0mpandas\u001b[0m \u001b[1;32mas\u001b[0m \u001b[0mpd\u001b[0m\u001b[1;33m\u001b[0m\u001b[1;33m\u001b[0m\u001b[0m\n\u001b[1;32m----> 2\u001b[1;33m \u001b[1;32mfrom\u001b[0m \u001b[0mscipy\u001b[0m\u001b[1;33m.\u001b[0m\u001b[0mstats\u001b[0m \u001b[1;32mimport\u001b[0m \u001b[0mttest_ind\u001b[0m\u001b[1;33m,\u001b[0m \u001b[0mf_oneway\u001b[0m\u001b[1;33m,\u001b[0m \u001b[0mposthoc_tukey\u001b[0m\u001b[1;33m\u001b[0m\u001b[1;33m\u001b[0m\u001b[0m\n\u001b[0m\u001b[0;32m      3\u001b[0m \u001b[1;33m\u001b[0m\u001b[0m\n\u001b[0;32m      4\u001b[0m \u001b[1;31m# Create a dataframe of the data\u001b[0m\u001b[1;33m\u001b[0m\u001b[1;33m\u001b[0m\u001b[1;33m\u001b[0m\u001b[0m\n\u001b[0;32m      5\u001b[0m data = pd.DataFrame({'group': ['control'] * 50 + ['experimental'] * 50,\n",
      "\u001b[1;31mImportError\u001b[0m: cannot import name 'posthoc_tukey' from 'scipy.stats' (C:\\Users\\ps450\\anaconda3\\lib\\site-packages\\scipy\\stats\\__init__.py)"
     ]
    }
   ],
   "source": [
    "import pandas as pd\n",
    "from scipy.stats import ttest_ind, f_oneway, posthoc_tukey\n",
    "\n",
    "# Create a dataframe of the data\n",
    "data = pd.DataFrame({'group': ['control'] * 50 + ['experimental'] * 50,\n",
    "                     'score': [78, 81, 74, 85, 69, 82, 73, 80, 76, 77, 78, 83, 79, 84, 75, 72, 77, 83, 70, 81,\n",
    "                               85, 71, 72, 76, 81, 77, 75, 73, 74, 79, 72, 75, 78, 79, 76, 71, 82, 85, 73, 77,\n",
    "                               72, 81, 78, 79, 84, 77, 75, 82, 83, 80, 81, 78, 75, 82, 83, 86, 90, 88, 85, 91,\n",
    "                               87, 88, 90, 89, 91, 92, 85, 87, 89, 93, 92, 90, 86, 87, 91, 92, 88, 90, 91, 93,\n",
    "                               89, 87, 92, 91, 93, 94, 92, 91, 88, 90, 93, 95, 94, 90, 92, 93, 95, 94, 93, 92]})\n",
    "\n",
    "# Conduct two-sample t-test\n",
    "control_scores = data[data['group'] == 'control']['score']\n",
    "experimental_scores = data[data['group'] == 'experimental']['score']\n",
    "t, p = ttest_ind(control_scores, experimental_scores)\n",
    "\n",
    "# Report results\n",
    "print('Two-sample t-test:')\n",
    "print('t-statistic:', t)\n",
    "print('p-value:', p)\n",
    "\n",
    "# Conduct post-hoc test (Tukey's HSD test)\n",
    "f, p = f_oneway(control_scores, experimental_scores)\n",
    "tukey_results = posthoc_tukey([control_scores, experimental_scores])\n",
    "print('\\nPost-hoc test (Tukey\\'s HSD test):')\n",
    "print(tukey_results)\n"
   ]
  },
  {
   "cell_type": "markdown",
   "metadata": {},
   "source": [
    "**Q12. A researcher wants to know if there are any significant differences in the average daily sales of three\n",
    "retail stores: Store A, Store B, and Store C. They randomly select 30 days and record the sales for each store\n",
    "on those days. Conduct a repeated measures ANOVA using Python to determine if there are any significant differences in sales between the three stores. If the results are significant, follow up with a post-\n",
    "hoc test to determine which store(s) differ significantly from each other.**"
   ]
  },
  {
   "cell_type": "code",
   "execution_count": 6,
   "metadata": {},
   "outputs": [],
   "source": [
    "import numpy as np\n",
    "import pandas as pd\n",
    "from scipy.stats import f_oneway\n",
    "from statsmodels.stats.multicomp import pairwise_tukeyhsd\n",
    "\n",
    "# create the data\n",
    "store_a_sales = np.random.normal(50, 10, 30)\n",
    "store_b_sales = np.random.normal(60, 15, 30)\n",
    "store_c_sales = np.random.normal(55, 12, 30)\n",
    "\n",
    "sales_data = pd.DataFrame({'Store A': store_a_sales,\n",
    "                           'Store B': store_b_sales,\n",
    "                           'Store C': store_c_sales})\n"
   ]
  },
  {
   "cell_type": "code",
   "execution_count": 7,
   "metadata": {},
   "outputs": [
    {
     "name": "stdout",
     "output_type": "stream",
     "text": [
      "F-statistic: 14.211026617872603\n",
      "p-value: 4.56588403349219e-06\n"
     ]
    }
   ],
   "source": [
    "f_stat, p_val = f_oneway(sales_data['Store A'], sales_data['Store B'], sales_data['Store C'])\n",
    "print('F-statistic:', f_stat)\n",
    "print('p-value:', p_val)\n"
   ]
  },
  {
   "cell_type": "code",
   "execution_count": null,
   "metadata": {},
   "outputs": [],
   "source": []
  }
 ],
 "metadata": {
  "kernelspec": {
   "display_name": "Python 3",
   "language": "python",
   "name": "python3"
  },
  "language_info": {
   "codemirror_mode": {
    "name": "ipython",
    "version": 3
   },
   "file_extension": ".py",
   "mimetype": "text/x-python",
   "name": "python",
   "nbconvert_exporter": "python",
   "pygments_lexer": "ipython3",
   "version": "3.8.5"
  }
 },
 "nbformat": 4,
 "nbformat_minor": 4
}
