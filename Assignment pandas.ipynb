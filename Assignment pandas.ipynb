{
 "cells": [
  {
   "cell_type": "markdown",
   "id": "a230721b-228c-4d8b-b327-e2f63fa00766",
   "metadata": {},
   "source": [
    "**Q1. Create a Pandas Series that contains the following data: 4, 8, 15, 16, 23, and 42. Then, print the series.**"
   ]
  },
  {
   "cell_type": "code",
   "execution_count": 1,
   "id": "3dcc8212-ed52-4a2c-b9fa-4549187c32dd",
   "metadata": {},
   "outputs": [],
   "source": [
    "import pandas as pd"
   ]
  },
  {
   "cell_type": "code",
   "execution_count": 2,
   "id": "6e990ce8-f12b-4642-ac8f-18668d81aff8",
   "metadata": {},
   "outputs": [
    {
     "name": "stdout",
     "output_type": "stream",
     "text": [
      "0     4\n",
      "1     8\n",
      "2    15\n",
      "3    16\n",
      "4    23\n",
      "5    43\n",
      "dtype: int64\n"
     ]
    }
   ],
   "source": [
    "print(pd.Series([4,8,15,16,23,43]))"
   ]
  },
  {
   "cell_type": "markdown",
   "id": "8b423018-c70f-49e0-b4c2-8da87b6a830b",
   "metadata": {},
   "source": [
    "**Q2. Create a variable of list type containing 10 elements in it, and apply pandas.Series function on the\n",
    "variable print it.**"
   ]
  },
  {
   "cell_type": "code",
   "execution_count": 4,
   "id": "c85ba57a-e96e-4f66-b5b3-8cdc09897eac",
   "metadata": {},
   "outputs": [
    {
     "name": "stdout",
     "output_type": "stream",
     "text": [
      "0     1\n",
      "1     2\n",
      "2     3\n",
      "3     4\n",
      "4     5\n",
      "5     6\n",
      "6     7\n",
      "7     8\n",
      "8     9\n",
      "9    10\n",
      "dtype: int64\n"
     ]
    }
   ],
   "source": [
    "lists = [1,2,3,4,5,6,7,8,9,10]\n",
    "print(pd.Series(lists))"
   ]
  },
  {
   "cell_type": "markdown",
   "id": "cc3b9e0c-2870-4f5e-9b22-0f5ce162da51",
   "metadata": {},
   "source": [
    "**Q3. Create a Pandas DataFrame that contains the following data:**"
   ]
  },
  {
   "cell_type": "code",
   "execution_count": 17,
   "id": "2d6cc541-c298-4dfa-86a1-b150a2524ffb",
   "metadata": {},
   "outputs": [],
   "source": [
    "data = {\"Name\":['Alice', 'Bob', 'Claire'], 'Age':[25,30,27],'Gender':['Female','Male','Female']}"
   ]
  },
  {
   "cell_type": "code",
   "execution_count": 18,
   "id": "d1bee69a-04c6-4aac-a84d-a0cbe54b1cd2",
   "metadata": {},
   "outputs": [
    {
     "data": {
      "text/html": [
       "<div>\n",
       "<style scoped>\n",
       "    .dataframe tbody tr th:only-of-type {\n",
       "        vertical-align: middle;\n",
       "    }\n",
       "\n",
       "    .dataframe tbody tr th {\n",
       "        vertical-align: top;\n",
       "    }\n",
       "\n",
       "    .dataframe thead th {\n",
       "        text-align: right;\n",
       "    }\n",
       "</style>\n",
       "<table border=\"1\" class=\"dataframe\">\n",
       "  <thead>\n",
       "    <tr style=\"text-align: right;\">\n",
       "      <th></th>\n",
       "      <th>Name</th>\n",
       "      <th>Age</th>\n",
       "      <th>Gender</th>\n",
       "    </tr>\n",
       "  </thead>\n",
       "  <tbody>\n",
       "    <tr>\n",
       "      <th>0</th>\n",
       "      <td>Alice</td>\n",
       "      <td>25</td>\n",
       "      <td>Female</td>\n",
       "    </tr>\n",
       "    <tr>\n",
       "      <th>1</th>\n",
       "      <td>Bob</td>\n",
       "      <td>30</td>\n",
       "      <td>Male</td>\n",
       "    </tr>\n",
       "    <tr>\n",
       "      <th>2</th>\n",
       "      <td>Claire</td>\n",
       "      <td>27</td>\n",
       "      <td>Female</td>\n",
       "    </tr>\n",
       "  </tbody>\n",
       "</table>\n",
       "</div>"
      ],
      "text/plain": [
       "     Name  Age  Gender\n",
       "0   Alice   25  Female\n",
       "1     Bob   30    Male\n",
       "2  Claire   27  Female"
      ]
     },
     "execution_count": 18,
     "metadata": {},
     "output_type": "execute_result"
    }
   ],
   "source": [
    "pd.DataFrame(data)"
   ]
  },
  {
   "cell_type": "markdown",
   "id": "107da7e2-d611-4ff1-8305-fc97db8bea46",
   "metadata": {},
   "source": [
    "**Q4. What is ‘DataFrame’ in pandas and how is it different from pandas.series? Explain with an example.**"
   ]
  },
  {
   "cell_type": "markdown",
   "id": "8c94b43b-9776-482d-9fa9-9138c4a5e12b",
   "metadata": {},
   "source": [
    "In pandas, a DataFrame is a 2-dimensional labeled data structure with columns of potentially different types. It is similar to a spreadsheet or SQL table, where data is organized in rows and columns. Each column in a DataFrame is a pandas Series object, which is a one-dimensional labeled array capable of holding any data type."
   ]
  },
  {
   "cell_type": "code",
   "execution_count": null,
   "id": "41e0a470-0819-4708-9527-6f6d8f48867a",
   "metadata": {},
   "outputs": [],
   "source": [
    "import pandas as pd\n",
    "\n",
    "data = {\n",
    "    'Name': ['John', 'Alice', 'Bob', 'Emily'],\n",
    "    'Age': [25, 32, 18, 27],\n",
    "    'Country': ['USA', 'Canada', 'UK', 'Australia']\n",
    "}\n",
    "\n",
    "df = pd.DataFrame(data)\n",
    "print(df)\n"
   ]
  },
  {
   "cell_type": "markdown",
   "id": "7e99e758-2fa3-42d6-a45d-99f1d9003848",
   "metadata": {},
   "source": [
    "In the above example, we created a DataFrame named df using a dictionary with three columns: 'Name', 'Age', and 'Country'. Each column is a pandas Series object.\n",
    "\n",
    "On the other hand, a pandas Series is a one-dimensional labeled array that can hold any data type, such as integers, floats, strings, and objects. A Series has only one column, whereas a DataFrame can have multiple columns.\n",
    "\n",
    "Here is an example of creating a pandas Series:"
   ]
  },
  {
   "cell_type": "code",
   "execution_count": null,
   "id": "3474b705-643a-4eb1-a364-2f736cf52d57",
   "metadata": {},
   "outputs": [],
   "source": [
    "import pandas as pd\n",
    "\n",
    "data = [10, 20, 30, 40, 50]\n",
    "\n",
    "s = pd.Series(data)\n",
    "print(s)\n"
   ]
  },
  {
   "cell_type": "markdown",
   "id": "ede941df-d94a-4beb-9877-fbcda9ffd9da",
   "metadata": {},
   "source": [
    "**Q5. What are some common functions you can use to manipulate data in a Pandas DataFrame? Can\n",
    "you give an example of when you might use one of these functions?**"
   ]
  },
  {
   "cell_type": "markdown",
   "id": "70caaa50-dd1e-4db0-b45d-e60e6a4d4580",
   "metadata": {},
   "source": [
    "Pandas is a popular data manipulation and analysis library in Python, which provides a wide range of functions for manipulating data in DataFrames. Here are some common functions that can be used to manipulate data in a Pandas DataFrame:\n",
    "\n",
    "Filtering: df[df['column_name'] == value] is used to filter rows based on a specific value in a column. For example, df[df['age'] > 30] can be used to filter all rows where the age is greater than 30.\n",
    "\n",
    "Sorting: df.sort_values(by='column_name', ascending=True/False) is used to sort the DataFrame by a specific column. For example, df.sort_values(by='age', ascending=False) can be used to sort the DataFrame by age in descending order.\n",
    "\n",
    "Grouping: df.groupby('column_name').function_name() is used to group the DataFrame by a specific column and apply a function to each group. For example, df.groupby('gender').mean() can be used to group the DataFrame by gender and calculate the mean of all numeric columns for each group.\n",
    "\n",
    "Aggregation: df['column_name'].function_name() is used to perform aggregation functions on a specific column. For example, df['salary'].mean() can be used to calculate the mean salary of all employees in the DataFrame."
   ]
  },
  {
   "cell_type": "code",
   "execution_count": null,
   "id": "ac8599ca-38e1-4d74-b0fd-c51b7848f9b5",
   "metadata": {},
   "outputs": [],
   "source": [
    "**Q6. Which of the following is mutable in nature Series, DataFrame, Panel?**"
   ]
  },
  {
   "cell_type": "markdown",
   "id": "558dabb8-6935-4511-b0f2-8e03c2a0f4a9",
   "metadata": {},
   "source": [
    "A Series is a one-dimensional labeled array that can hold any data type. The elements in a Series can be modified after it is created using indexing or slicing.\n",
    "\n",
    "A DataFrame is a two-dimensional labeled data structure with columns of potentially different data types. The contents of a DataFrame can be modified by updating, adding, or deleting rows and columns.\n",
    "\n",
    "On the other hand, a Panel is a three-dimensional data structure that can hold data of different types. However, it is not mutable in nature, which means the contents of a Panel cannot be modified once it is created. Instead, you can create a new Panel by manipulating the existing Panel data.\n",
    "\n",
    "It is worth noting that while Series and DataFrame are mutable, it is generally recommended to use Pandas' built-in functions to modify them, rather than directly modifying their contents, to avoid potential data consistency issues."
   ]
  },
  {
   "cell_type": "code",
   "execution_count": null,
   "id": "35a51eb5-d195-4885-bc50-f7d50e288408",
   "metadata": {},
   "outputs": [],
   "source": []
  }
 ],
 "metadata": {
  "kernelspec": {
   "display_name": "Python 3 (ipykernel)",
   "language": "python",
   "name": "python3"
  },
  "language_info": {
   "codemirror_mode": {
    "name": "ipython",
    "version": 3
   },
   "file_extension": ".py",
   "mimetype": "text/x-python",
   "name": "python",
   "nbconvert_exporter": "python",
   "pygments_lexer": "ipython3",
   "version": "3.10.8"
  }
 },
 "nbformat": 4,
 "nbformat_minor": 5
}
