{
 "cells": [
  {
   "cell_type": "markdown",
   "metadata": {},
   "source": [
    "**Q1: What is Estimation Statistics? Explain point estimate and interval estimate.**"
   ]
  },
  {
   "cell_type": "markdown",
   "metadata": {},
   "source": [
    "Estimation statistics is a branch of statistics that deals with estimating unknown population parameters based on sample data.\n",
    "\n",
    "Point estimate is a single value estimate of a population parameter based on a sample statistic. For example, the sample mean can be used as a point estimate for the population mean. The point estimate is typically calculated using a formula that is based on the sample data, and it provides an estimate of the true value of the population parameter. However, the point estimate may not be accurate, and it is subject to sampling error."
   ]
  },
  {
   "cell_type": "markdown",
   "metadata": {},
   "source": [
    "**Q2. Write a Python function to estimate the population mean using a sample mean and standard\n",
    "deviation.**"
   ]
  },
  {
   "cell_type": "code",
   "execution_count": 1,
   "metadata": {},
   "outputs": [],
   "source": [
    "def estimate_population_mean(sample_mean, sample_std, sample_size):\n",
    "    \"\"\"\n",
    "    This function estimates the population mean using a sample mean and standard deviation.\n",
    "\n",
    "    Arguments:\n",
    "    sample_mean -- the sample mean\n",
    "    sample_std -- the sample standard deviation\n",
    "    sample_size -- the sample size\n",
    "\n",
    "    Returns:\n",
    "    population_mean -- the estimated population mean\n",
    "    \"\"\"\n",
    "    standard_error = sample_std / (sample_size ** 0.5)\n",
    "    population_mean = sample_mean + 1.96 * standard_error  # assuming 95% confidence interval\n",
    "    return population_mean\n"
   ]
  },
  {
   "cell_type": "markdown",
   "metadata": {},
   "source": [
    "**Q3: What is Hypothesis testing? Why is it used? State the importance of Hypothesis testing.**"
   ]
  },
  {
   "cell_type": "markdown",
   "metadata": {},
   "source": [
    "Hypothesis testing is a statistical method used to test a hypothesis or claim about a population parameter based on sample data. It involves setting up two competing hypotheses, the null hypothesis and the alternative hypothesis, and using statistical methods to determine the likelihood of obtaining the observed sample results if the null hypothesis is true. The goal of hypothesis testing is to either reject or fail to reject the null hypothesis, based on the evidence provided by the sample data."
   ]
  },
  {
   "cell_type": "markdown",
   "metadata": {},
   "source": [
    "**Q4. Create a hypothesis that states whether the average weight of male college students is greater than\n",
    "the average weight of female college students.**"
   ]
  },
  {
   "cell_type": "markdown",
   "metadata": {},
   "source": [
    "**Q5. Write a Python script to conduct a hypothesis test on the difference between two population means**"
   ]
  },
  {
   "cell_type": "code",
   "execution_count": 2,
   "metadata": {},
   "outputs": [
    {
     "name": "stdout",
     "output_type": "stream",
     "text": [
      "t-statistic:  -3.8092588284321613\n",
      "p-value:  0.000504756989558452\n"
     ]
    }
   ],
   "source": [
    "import numpy as np\n",
    "from scipy.stats import ttest_ind\n",
    "\n",
    "# generate two random samples of size 30 from normal distributions\n",
    "sample1 = np.random.normal(10, 2, 30)\n",
    "sample2 = np.random.normal(12, 3, 30)\n",
    "\n",
    "# perform two-sample t-test assuming unequal variances\n",
    "t_stat, p_value = ttest_ind(sample1, sample2, equal_var=False)\n",
    "\n",
    "# print the results\n",
    "print(\"t-statistic: \", t_stat)\n",
    "print(\"p-value: \", p_value)\n"
   ]
  },
  {
   "cell_type": "markdown",
   "metadata": {},
   "source": [
    "**Q6: What is a null and alternative hypothesis? Give some examples.**"
   ]
  },
  {
   "cell_type": "markdown",
   "metadata": {},
   "source": [
    "In hypothesis testing, the null hypothesis (H0) is a statement that represents the status quo or the absence of an effect, while the alternative hypothesis (Ha) is a statement that represents the possibility of an effect or a difference. Examples of null and alternative hypotheses are:\n",
    "\n",
    "Null hypothesis: The mean weight of the population is 150 pounds.\n",
    "Alternative hypothesis: The mean weight of the population is not 150 pounds.\n",
    "\n",
    "Null hypothesis: The proportion of customers who prefer product A is 0.5.\n",
    "Alternative hypothesis: The proportion of customers who prefer product A is greater than 0.5.\n",
    "\n",
    "Null hypothesis: The mean salary of male employees is equal to the mean salary of female employees.\n",
    "Alternative hypothesis: The mean salary of male employees is greater than the mean salary of female employees."
   ]
  },
  {
   "cell_type": "markdown",
   "metadata": {},
   "source": [
    "**Q7: Write down the steps involved in hypothesis testing.**"
   ]
  },
  {
   "cell_type": "markdown",
   "metadata": {},
   "source": [
    "The steps involved in hypothesis testing are:\n",
    "\n",
    "State the null and alternative hypotheses.\n",
    "\n",
    "Choose a level of significance (alpha) and determine the appropriate test statistic and critical values for the chosen test.\n",
    "\n",
    "Collect and analyze the sample data.\n",
    "\n",
    "Calculate the test statistic and the p-value.\n",
    "\n",
    "Compare the test statistic to the critical value and make a decision to reject or fail to reject the null hypothesis.\n",
    "\n",
    "Interpret the results and draw conclusions based on the decision made."
   ]
  },
  {
   "cell_type": "markdown",
   "metadata": {},
   "source": [
    "**Q8. Define p-value and explain its significance in hypothesis testing.**"
   ]
  },
  {
   "cell_type": "markdown",
   "metadata": {},
   "source": [
    "In hypothesis testing, the p-value is the probability of obtaining a test statistic at least as extreme as the one observed in the sample data, assuming that the null hypothesis is true.\n",
    "\n",
    "The p-value is used to make a decision about whether to reject or fail to reject the null hypothesis. If the p-value is less than or equal to the chosen level of significance (alpha), then the null hypothesis is rejected, and the alternative hypothesis is accepted as the likely explanation for the observed sample data. Conversely, if the p-value is greater than the chosen alpha level, then the null hypothesis is not rejected, and there is insufficient evidence to support the alternative hypothesis.\n",
    "\n",
    "The significance of the p-value lies in its ability to provide a measure of the strength of evidence against the null hypothesis provided by the sample data. A small p-value indicates strong evidence against the null hypothesis, while a large p-value indicates weak evidence against the null hypothesis. The p-value also takes into account the chosen level of significance, allowing the researcher to control the risk of making a Type I error (rejecting the null hypothesis when it is actually true)."
   ]
  },
  {
   "cell_type": "markdown",
   "metadata": {},
   "source": [
    "**Q9. Generate a Student's t-distribution plot using Python's matplotlib library, with the degrees of freedom\n",
    "parameter set to 10.**"
   ]
  },
  {
   "cell_type": "code",
   "execution_count": 3,
   "metadata": {},
   "outputs": [
    {
     "data": {
      "image/png": "[encoded data removed]",
      "text/plain": [
       "<Figure size 432x288 with 1 Axes>"
      ]
     },
     "metadata": {
      "needs_background": "light"
     },
     "output_type": "display_data"
    }
   ],
   "source": [
    "import numpy as np\n",
    "import matplotlib.pyplot as plt\n",
    "from scipy.stats import t\n",
    "\n",
    "# Set the degrees of freedom\n",
    "df = 10\n",
    "\n",
    "# Define the x-axis range\n",
    "x = np.linspace(t.ppf(0.01, df), t.ppf(0.99, df), 100)\n",
    "\n",
    "# Create the t-distribution plot\n",
    "plt.plot(x, t.pdf(x, df), 'r-', lw=5, alpha=0.6, label='t pdf')\n",
    "\n",
    "# Add a legend and title\n",
    "plt.legend()\n",
    "plt.title(\"Student's t-Distribution with 10 Degrees of Freedom\")\n",
    "\n",
    "# Display the plot\n",
    "plt.show()\n"
   ]
  },
  {
   "cell_type": "markdown",
   "metadata": {},
   "source": [
    "**Q10. Write a Python program to calculate the two-sample t-test for independent samples, given two\n",
    "random samples of equal size and a null hypothesis that the population means are equal.**"
   ]
  },
  {
   "cell_type": "code",
   "execution_count": 4,
   "metadata": {
    "scrolled": true
   },
   "outputs": [
    {
     "name": "stdout",
     "output_type": "stream",
     "text": [
      "Null hypothesis: The population means are equal\n",
      "Sample 1 mean: 5.201884422165227\n",
      "Sample 2 mean: 5.088076929428804\n",
      "T-statistic: 0.4114236824873665\n",
      "P-value: 0.681206876593013\n"
     ]
    }
   ],
   "source": [
    "import numpy as np\n",
    "from scipy.stats import ttest_ind\n",
    "\n",
    "# Generate two random samples of equal size\n",
    "sample1 = np.random.normal(5, 2, 100)\n",
    "sample2 = np.random.normal(5, 2, 100)\n",
    "\n",
    "# Define the null hypothesis that the population means are equal\n",
    "null_hypothesis = 'The population means are equal'\n",
    "\n",
    "# Calculate the two-sample t-test for independent samples\n",
    "t_statistic, p_value = ttest_ind(sample1, sample2)\n",
    "\n",
    "# Print the results\n",
    "print('Null hypothesis:', null_hypothesis)\n",
    "print('Sample 1 mean:', np.mean(sample1))\n",
    "print('Sample 2 mean:', np.mean(sample2))\n",
    "print('T-statistic:', t_statistic)\n",
    "print('P-value:', p_value)\n"
   ]
  },
  {
   "cell_type": "markdown",
   "metadata": {},
   "source": [
    "**Q11: What is Student’s t distribution? When to use the t-Distribution.**"
   ]
  },
  {
   "cell_type": "markdown",
   "metadata": {},
   "source": [
    "The Student's t-distribution is a probability distribution that is used to model the distribution of sample means when the sample size is small and the population standard deviation is unknown. It is named after William Sealy Gosset, who published under the pseudonym \"Student\" in 1908.\n",
    "\n",
    "The t-distribution is similar to the standard normal distribution, but it has thicker tails, meaning that extreme values are more likely to occur. As the sample size increases, the t-distribution approaches the standard normal distribution. The shape of the t-distribution depends on the degrees of freedom, which is determined by the sample size."
   ]
  },
  {
   "cell_type": "markdown",
   "metadata": {},
   "source": [
    "**Q12: What is t-statistic? State the formula for t-statistic.**"
   ]
  },
  {
   "cell_type": "markdown",
   "metadata": {},
   "source": [
    "The t-statistic is a measure of how many standard errors the sample mean is away from the hypothesized population mean, in units of the standard error. It is used in hypothesis testing to determine whether the sample mean is significantly different from the hypothesized population mean.\n",
    "\n",
    "The formula for the t-statistic is:\n",
    "\n",
    "t = (x̄ - μ) / (s / √n)\n",
    "\n",
    "where:\n",
    "\n",
    "x̄ is the sample mean\n",
    "μ is the hypothesized population mean\n",
    "s is the sample standard deviation\n",
    "n is the sample size\n",
    "√n is the square root of the sample size\n",
    "The t-statistic compares the difference between the sample mean and the hypothesized population mean to the variation in the sample, as measured by the standard error. The standard error is the standard deviation of the sampling distribution of the mean, which is equal to the standard deviation of the population divided by the square root of the sample size.\n",
    "\n",
    "The t-statistic follows a t-distribution with n-1 degrees of freedom, where n is the sample size. This distribution is used to calculate the p-value, which is the probability of observing a t-statistic as extreme as the one calculated, assuming the null hypothesis is true. If the p-value is less than the significance level (usually 0.05), the null hypothesis is rejected and it is concluded that the sample mean is significantly different from the hypothesized population mean.\n",
    "\n",
    "\n",
    "\n",
    "\n",
    "\n"
   ]
  },
  {
   "cell_type": "markdown",
   "metadata": {},
   "source": [
    "**Q13. A coffee shop owner wants to estimate the average daily revenue for their shop. They take a random\n",
    "sample of 50 days and find the sample mean revenue to be $500 with a standard deviation of $50.\n",
    "Estimate the population mean revenue with a 95% confidence interval.**"
   ]
  },
  {
   "cell_type": "markdown",
   "metadata": {},
   "source": [
    "To estimate the population mean revenue with a 95% confidence interval, we can use the following formula:\n",
    "\n",
    "CI = x̄ ± z* (s / sqrt(n))\n",
    "\n",
    "where:\n",
    "x̄ = sample mean revenue = $500\n",
    "s = sample standard deviation = $50\n",
    "n = sample size = 50\n",
    "z* = z-score for a 95% confidence level, which can be found using a standard normal distribution table or calculator. For a two-tailed test, the z-score is 1.96.\n",
    "\n",
    "Substituting the given values, we get:\n",
    "\n",
    "CI = $500 ± 1.96 * ($50 / sqrt(50))\n",
    "= $500 ± $13.10\n",
    "= ($486.90, $513.10)\n",
    "\n",
    "Therefore, we can say with 95% confidence that the true population mean revenue for the coffee shop is between $486.90 and $513.10 per day.\n",
    "\n",
    "\n",
    "\n",
    "\n",
    "\n"
   ]
  },
  {
   "cell_type": "markdown",
   "metadata": {},
   "source": [
    "**Q14. A researcher hypothesizes that a new drug will decrease blood pressure by 10 mmHg. They conduct a\n",
    "clinical trial with 100 patients and find that the sample mean decrease in blood pressure is 8 mmHg with a\n",
    "standard deviation of 3 mmHg. Test the hypothesis with a significance level of 0.05.**"
   ]
  },
  {
   "cell_type": "markdown",
   "metadata": {},
   "source": [
    "To test the hypothesis that the new drug decreases blood pressure by 10 mmHg, we can use a one-sample t-test.\n",
    "\n",
    "The null hypothesis is that the mean decrease in blood pressure is equal to 10 mmHg, while the alternative hypothesis is that it is less than 10 mmHg:\n",
    "\n",
    "H0: μ = 10\n",
    "Ha: μ < 10\n",
    "\n",
    "The significance level is 0.05, which means that we will reject the null hypothesis if the p-value is less than 0.05.\n",
    "\n",
    "The t statistic for the sample can be calculated as:\n",
    "\n",
    "t = (x̄ - μ) / (s / sqrt(n)) = (8 - 10) / (3 / sqrt(100)) = -6.67\n",
    "\n",
    "Using a t-distribution table or calculator with 99 degrees of freedom (since we have a sample size of 100), we can find the one-tailed p-value for the test to be very close to 0 (i.e., p < 0.0001).\n",
    "\n",
    "Since the p-value is less than the significance level of 0.05, we reject the null hypothesis. Therefore, we have sufficient evidence to conclude that the new drug decreases blood pressure by less than 10 mmHg at a 0.05 level of significance.\n",
    "\n",
    "\n",
    "\n",
    "\n",
    "\n"
   ]
  },
  {
   "cell_type": "markdown",
   "metadata": {},
   "source": [
    "**Q15. An electronics company produces a certain type of product with a mean weight of 5 pounds and a\n",
    "standard deviation of 0.5 pounds. A random sample of 25 products is taken, and the sample mean weight\n",
    "is found to be 4.8 pounds. Test the hypothesis that the true mean weight of the products is less than 5\n",
    "pounds with a significance level of 0.01.**"
   ]
  },
  {
   "cell_type": "markdown",
   "metadata": {},
   "source": [
    "To test the hypothesis that the true mean weight of the products is less than 5 pounds, we can use a one-sample t-test.\n",
    "\n",
    "The null hypothesis is that the mean weight of the products is equal to 5 pounds, while the alternative hypothesis is that it is less than 5 pounds:\n",
    "\n",
    "H0: μ = 5\n",
    "Ha: μ < 5\n",
    "\n",
    "The significance level is 0.01, which means that we will reject the null hypothesis if the p-value is less than 0.01.\n",
    "\n",
    "The t statistic for the sample can be calculated as:\n",
    "\n",
    "t = (x̄ - μ) / (s / sqrt(n)) = (4.8 - 5) / (0.5 / sqrt(25)) = -2\n",
    "\n",
    "Using a t-distribution table or calculator with 24 degrees of freedom (since we have a sample size of 25), we can find the one-tailed p-value for the test to be approximately 0.03.\n",
    "\n",
    "Since the p-value is greater than the significance level of 0.01, we fail to reject the null hypothesis. Therefore, we do not have sufficient evidence to conclude that the true mean weight of the products is less than 5 pounds at a 0.01 level of significance."
   ]
  },
  {
   "cell_type": "markdown",
   "metadata": {},
   "source": [
    "**Q16. Two groups of students are given different study materials to prepare for a test. The first group (n1 =\n",
    "30) has a mean score of 80 with a standard deviation of 10, and the second group (n2 = 40) has a mean\n",
    "score of 75 with a standard deviation of 8. Test the hypothesis that the population means for the two\n",
    "groups are equal with a significance level of 0.01.**"
   ]
  },
  {
   "cell_type": "markdown",
   "metadata": {},
   "source": [
    "To test the hypothesis that the population means for the two groups are equal, we can use a two-sample t-test assuming equal variances.\n",
    "\n",
    "The null hypothesis is that the population means for the two groups are equal, while the alternative hypothesis is that they are not equal:\n",
    "\n",
    "H0: μ1 = μ2\n",
    "Ha: μ1 ≠ μ2\n",
    "\n",
    "The significance level is 0.01, which means that we will reject the null hypothesis if the p-value is less than 0.01.\n",
    "\n",
    "The test statistic for the two-sample t-test is:\n",
    "\n",
    "t = (x̄1 - x̄2) / (s_p * sqrt(1/n1 + 1/n2))\n",
    "\n",
    "where x̄1 and x̄2 are the sample means, n1 and n2 are the sample sizes, and s_p is the pooled standard deviation, calculated as:\n",
    "\n",
    "s_p = sqrt(((n1 - 1)*s1^2 + (n2 - 1)*s2^2) / (n1 + n2 - 2))\n",
    "\n",
    "where s1 and s2 are the sample standard deviations for the two groups.\n",
    "\n",
    "Substituting the given values, we have:\n",
    "\n",
    "t = (80 - 75) / (sqrt(((30 - 1)*10^2 + (40 - 1)*8^2) / (30 + 40 - 2)) * sqrt(1/30 + 1/40)) = 3.065\n",
    "\n",
    "Using a t-distribution table or calculator with 68 degrees of freedom (calculated using the formula: df = n1 + n2 - 2), we can find the two-tailed p-value for the test to be approximately 0.003.\n",
    "\n",
    "Since the p-value is less than the significance level of 0.01, we reject the null hypothesis. Therefore, we have sufficient evidence to conclude that the population means for the two groups are not equal at a 0.01 level of significance."
   ]
  },
  {
   "cell_type": "markdown",
   "metadata": {},
   "source": [
    "**Q17. A marketing company wants to estimate the average number of ads watched by viewers during a TV\n",
    "program. They take a random sample of 50 viewers and find that the sample mean is 4 with a standard\n",
    "deviation of 1.5. Estimate the population mean with a 99% confidence interval.**"
   ]
  },
  {
   "cell_type": "markdown",
   "metadata": {},
   "source": [
    "To estimate the population mean with a 99% confidence interval, we can use the following formula:\n",
    "\n",
    "CI = x̄ ± tα/2 * (s / sqrt(n))\n",
    "\n",
    "where x̄ is the sample mean, s is the sample standard deviation, n is the sample size, tα/2 is the t-critical value with α/2 level of significance and (n-1) degrees of freedom.\n",
    "\n",
    "Substituting the given values, we have:\n",
    "\n",
    "x̄ = 4\n",
    "s = 1.5\n",
    "n = 50\n",
    "α = 0.01 (since we want a 99% confidence interval)\n",
    "\n",
    "The degrees of freedom for the t-distribution is (n-1) = 49. Using a t-distribution table or calculator, we find the t-critical value with α/2 = 0.005 and 49 degrees of freedom to be approximately 2.68.\n",
    "\n",
    "Substituting the values into the formula, we have:\n",
    "\n",
    "CI = 4 ± 2.68 * (1.5 / sqrt(50)) = (3.58, 4.42)\n",
    "\n",
    "Therefore, we can say with 99% confidence that the true average number of ads watched by viewers during a TV program falls between 3.58 and 4.42.\n",
    "\n",
    "\n",
    "\n"
   ]
  },
  {
   "cell_type": "code",
   "execution_count": null,
   "metadata": {},
   "outputs": [],
   "source": []
  }
 ],
 "metadata": {
  "kernelspec": {
   "display_name": "Python 3",
   "language": "python",
   "name": "python3"
  },
  "language_info": {
   "codemirror_mode": {
    "name": "ipython",
    "version": 3
   },
   "file_extension": ".py",
   "mimetype": "text/x-python",
   "name": "python",
   "nbconvert_exporter": "python",
   "pygments_lexer": "ipython3",
   "version": "3.8.5"
  }
 },
 "nbformat": 4,
 "nbformat_minor": 4
}
