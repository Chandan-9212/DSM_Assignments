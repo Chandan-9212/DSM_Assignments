{
  "metadata": {
    "language_info": {
      "codemirror_mode": {
        "name": "python",
        "version": 3
      },
      "file_extension": ".py",
      "mimetype": "text/x-python",
      "name": "python",
      "nbconvert_exporter": "python",
      "pygments_lexer": "ipython3",
      "version": "3.8"
    },
    "kernelspec": {
      "name": "python",
      "display_name": "Python (Pyodide)",
      "language": "python"
    }
  },
  "nbformat_minor": 4,
  "nbformat": 4,
  "cells": [
    {
      "cell_type": "markdown",
      "source": "# Assignment 2",
      "metadata": {}
    },
    {
      "cell_type": "markdown",
      "source": "**Q1. Which keyword is used to create a function? Create a function to return a list of odd numbers in the\nrange of 1 to 25.**",
      "metadata": {}
    },
    {
      "cell_type": "markdown",
      "source": "'def' keyword is used to create the functions in python programming.",
      "metadata": {}
    },
    {
      "cell_type": "code",
      "source": "def list_odd():\n    num = []\n    for i in range(1,26,2):\n        num.append(i)\n    return num",
      "metadata": {
        "trusted": true
      },
      "execution_count": 2,
      "outputs": []
    },
    {
      "cell_type": "code",
      "source": "print(list_odd())",
      "metadata": {
        "trusted": true
      },
      "execution_count": 3,
      "outputs": [
        {
          "name": "stdout",
          "text": "[1, 3, 5, 7, 9, 11, 13, 15, 17, 19, 21, 23, 25]\n",
          "output_type": "stream"
        }
      ]
    },
    {
      "cell_type": "markdown",
      "source": "**Q2. Why args and kwargs is used in some functions? Create a function each for args and kwargs to\ndemonstrate their use.**",
      "metadata": {}
    },
    {
      "cell_type": "markdown",
      "source": "**args is used when there's no idea of how many number of arguments will be passed to a function. whereas kwargs is used when there there's n number of arguments along with keys and values.**",
      "metadata": {}
    },
    {
      "cell_type": "code",
      "source": "# Use of *args\ndef args_test(*argv):\n    for i in argv:\n        print(i)\n\nprint(args_test([x for x in range(random.randrange(5, 30,3))]))",
      "metadata": {
        "trusted": true
      },
      "execution_count": 55,
      "outputs": [
        {
          "name": "stdout",
          "text": "[0, 1, 2, 3, 4, 5, 6, 7]\nNone\n",
          "output_type": "stream"
        }
      ]
    },
    {
      "cell_type": "code",
      "source": "# Use of **kwargs\ndef kwargs_test(**kwargs):\n    for i,j in kwargs.items():\n        print(i,j)\n\nkwargs_test(name='2', user='3')",
      "metadata": {
        "trusted": true
      },
      "execution_count": 62,
      "outputs": [
        {
          "name": "stdout",
          "text": "name 2\nuser 3\n",
          "output_type": "stream"
        }
      ]
    },
    {
      "cell_type": "markdown",
      "source": "**Q3. What is an iterator in python? Name the method used to initialise the iterator object and the method\nused for iteration. Use these methods to print the first five elements of the given list [2, 4, 6, 8, 10, 12, 14, 16,\n18, 20].**",
      "metadata": {}
    },
    {
      "cell_type": "markdown",
      "source": "Iterator in the pointer used to visit the elements in certain data types. __iter__() and __next__() are the two methods used for iterations.",
      "metadata": {}
    },
    {
      "cell_type": "code",
      "source": "lists = [1,2,3,4,5,6]\na = iter(lists)\nfor i in range(len(lists)):\n    print(next(a))",
      "metadata": {
        "trusted": true
      },
      "execution_count": 70,
      "outputs": [
        {
          "name": "stdout",
          "text": "1\n2\n3\n4\n5\n6\n",
          "output_type": "stream"
        }
      ]
    },
    {
      "cell_type": "markdown",
      "source": "**Q4. What is a generator function in python? Why yield keyword is used? Give an example of a generator\nfunction.**",
      "metadata": {}
    },
    {
      "cell_type": "markdown",
      "source": "Generator functions implicitly provides iterators and yield returns the value as iterator.",
      "metadata": {}
    },
    {
      "cell_type": "code",
      "source": "def gen(n):\n    for i in range(1,n):\n        yield i**i\n\nsq = gen(10)\nfor i in sq:\n    print(i)",
      "metadata": {
        "trusted": true
      },
      "execution_count": 86,
      "outputs": [
        {
          "name": "stdout",
          "text": "1\n4\n27\n256\n3125\n46656\n823543\n16777216\n387420489\n",
          "output_type": "stream"
        }
      ]
    },
    {
      "cell_type": "markdown",
      "source": "**Q5. Create a generator function for prime numbers less than 1000. Use the next() method to print the\nfirst 20 prime numbers.**",
      "metadata": {}
    },
    {
      "cell_type": "code",
      "source": "def prime():\n    for i in range(1,1000+1):\n        if i > 1:\n            for j in range(2, i):\n                if i % j == 0:\n                    break\n            yield (i)\n\nprimes = prime()\na = 0\nfor i in primes:\n    if a < 20:\n        print(primes.__next__())",
      "metadata": {
        "trusted": true
      },
      "execution_count": 3,
      "outputs": [
        {
          "name": "stdout",
          "text": "3\n5\n7\n9\n11\n13\n15\n17\n19\n21\n23\n25\n27\n29\n31\n33\n35\n37\n39\n41\n",
          "output_type": "stream"
        }
      ]
    },
    {
      "cell_type": "code",
      "source": "",
      "metadata": {},
      "execution_count": null,
      "outputs": []
    }
  ]
}