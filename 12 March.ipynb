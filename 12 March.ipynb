{
 "cells": [
  {
   "cell_type": "markdown",
   "metadata": {},
   "source": [
    "**Q1. Calculate the 95% confidence interval for a sample of data with a mean of 50 and a standard deviation\n",
    "of 5 using Python. Interpret the results.**"
   ]
  },
  {
   "cell_type": "code",
   "execution_count": 25,
   "metadata": {},
   "outputs": [
    {
     "data": {
      "text/plain": [
       "(49.02001800772997, 50.97998199227003)"
      ]
     },
     "execution_count": 25,
     "metadata": {},
     "output_type": "execute_result"
    }
   ],
   "source": [
    "from scipy.stats import norm\n",
    "import numpy as np\n",
    "\n",
    "# Sample data\n",
    "sample_mean = 50\n",
    "sample_std = 5\n",
    "sample_size = 100\n",
    "\n",
    "# Calculate standard error of the mean\n",
    "sem = sample_std / np.sqrt(sample_size)\n",
    "\n",
    "# Calculate the confidence interval\n",
    "confidence_level = 0.95\n",
    "interval = norm.interval(confidence_level, loc=sample_mean, scale=sem)\n",
    "\n",
    "interval\n"
   ]
  },
  {
   "cell_type": "markdown",
   "metadata": {},
   "source": [
    "**Q2. Conduct a chi-square goodness of fit test to determine if the distribution of colors of M&Ms in a bag\n",
    "matches the expected distribution of 20% blue, 20% orange, 20% green, 10% yellow, 10% red, and 20%\n",
    "brown. Use Python to perform the test with a significance level of 0.05.**"
   ]
  },
  {
   "cell_type": "code",
   "execution_count": 27,
   "metadata": {},
   "outputs": [
    {
     "name": "stdout",
     "output_type": "stream",
     "text": [
      "Test statistic: 1.0\n",
      "p-value: 0.9625657732472964\n",
      "The distribution of colors of M&Ms in the bag matches the expected distribution.\n"
     ]
    }
   ],
   "source": [
    "from scipy.stats import chisquare\n",
    "\n",
    "# Observed values (from a sample of M&Ms)\n",
    "observed = np.array([18, 22, 20, 10, 12, 18]) # the observed frequency of each color of M&Ms in the sample\n",
    "\n",
    "# Expected values (based on the expected distribution)\n",
    "expected = np.array([0.2, 0.2, 0.2, 0.1, 0.1, 0.2]) * sum(observed) # expected frequency of each color of M&Ms in the sample\n",
    "\n",
    "# Conduct the chi-square goodness of fit test\n",
    "test_statistic, p_value = chisquare(observed, expected)\n",
    "\n",
    "# Print the results\n",
    "print(\"Test statistic:\", test_statistic)\n",
    "print(\"p-value:\", p_value)\n",
    "if p_value < 0.05:\n",
    "    print(\"The distribution of colors of M&Ms in the bag does not match the expected distribution.\")\n",
    "else:\n",
    "    print(\"The distribution of colors of M&Ms in the bag matches the expected distribution.\")\n"
   ]
  },
  {
   "cell_type": "markdown",
   "metadata": {},
   "source": [
    "**Q3. Use Python to calculate the chi-square statistic and p-value for a contingency table with the following\n",
    "data:**"
   ]
  },
  {
   "cell_type": "code",
   "execution_count": 28,
   "metadata": {},
   "outputs": [
    {
     "name": "stdout",
     "output_type": "stream",
     "text": [
      "Chi-square statistic: 4.496527777777778\n",
      "p-value: 0.10558236825963216\n",
      "There is no significant association between the outcomes and the groups.\n"
     ]
    }
   ],
   "source": [
    "from scipy.stats import chi2_contingency\n",
    "\n",
    "# Contingency table\n",
    "observed = [[20, 15], [10, 20], [15, 25]]\n",
    "\n",
    "# Calculate the chi-square statistic and p-value\n",
    "chi2_stat, p_value, dof, expected = chi2_contingency(observed)\n",
    "\n",
    "# Print the results\n",
    "print(\"Chi-square statistic:\", chi2_stat)\n",
    "print(\"p-value:\", p_value)\n",
    "\n",
    "if p_value < 0.05:\n",
    "    print(\"There is a significant association between the outcomes and the groups.\")\n",
    "else:\n",
    "    print(\"There is no significant association between the outcomes and the groups.\")\n"
   ]
  },
  {
   "cell_type": "markdown",
   "metadata": {},
   "source": [
    "**Q4. A study of the prevalence of smoking in a population of 500 individuals found that 60 individuals\n",
    "smoked. Use Python to calculate the 95% confidence interval for the true proportion of individuals in the\n",
    "population who smoke.**"
   ]
  },
  {
   "cell_type": "code",
   "execution_count": 29,
   "metadata": {},
   "outputs": [
    {
     "name": "stderr",
     "output_type": "stream",
     "text": [
      "<frozen importlib._bootstrap>:219: RuntimeWarning: numpy.ufunc size changed, may indicate binary incompatibility. Expected 216 from C header, got 232 from PyObject\n",
      "<frozen importlib._bootstrap>:219: RuntimeWarning: numpy.ufunc size changed, may indicate binary incompatibility. Expected 216 from C header, got 232 from PyObject\n"
     ]
    },
    {
     "name": "stdout",
     "output_type": "stream",
     "text": [
      "Proportion of individuals who smoke: 0.12\n",
      "Standard error of the proportion: 0.014532721699667961\n",
      "95% confidence interval: (0.09151638887130706, 0.14848361112869293)\n"
     ]
    }
   ],
   "source": [
    "import statsmodels.api as sm\n",
    "\n",
    "# Sample size and number of individuals who smoke\n",
    "n = 500\n",
    "n_smokers = 60\n",
    "\n",
    "# Calculate the proportion of smokers\n",
    "p_hat = n_smokers / n\n",
    "\n",
    "# Calculate the standard error of the proportion\n",
    "se = np.sqrt(p_hat * (1 - p_hat) / n)\n",
    "\n",
    "# Calculate the 95% confidence interval\n",
    "ci = sm.stats.proportion_confint(n_smokers, n, alpha=0.05, method='normal')\n",
    "\n",
    "# Print the results\n",
    "print(\"Proportion of individuals who smoke:\", p_hat)\n",
    "print(\"Standard error of the proportion:\", se)\n",
    "print(\"95% confidence interval:\", ci)\n"
   ]
  },
  {
   "cell_type": "markdown",
   "metadata": {},
   "source": [
    "**Q5. Calculate the 90% confidence interval for a sample of data with a mean of 75 and a standard deviation\n",
    "of 12 using Python. Interpret the results.**"
   ]
  },
  {
   "cell_type": "code",
   "execution_count": 33,
   "metadata": {},
   "outputs": [],
   "source": [
    "mean = 75\n",
    "std = 12\n",
    "\n",
    "sem = std/np.sqrt(100)\n",
    "confidence_level = 0.90\n",
    "\n",
    "interval = stats.norm.interval(confidence_level, mean, sem)"
   ]
  },
  {
   "cell_type": "code",
   "execution_count": 34,
   "metadata": {},
   "outputs": [
    {
     "data": {
      "text/plain": [
       "(73.02617564765823, 76.97382435234177)"
      ]
     },
     "execution_count": 34,
     "metadata": {},
     "output_type": "execute_result"
    }
   ],
   "source": [
    "interval"
   ]
  },
  {
   "cell_type": "markdown",
   "metadata": {},
   "source": [
    "**Q6. Use Python to plot the chi-square distribution with 10 degrees of freedom. Label the axes and shade the\n",
    "area corresponding to a chi-square statistic of 15.**"
   ]
  },
  {
   "cell_type": "code",
   "execution_count": 47,
   "metadata": {},
   "outputs": [
    {
     "data": {
      "image/png": "[encoded data removed]",
      "text/plain": [
       "<Figure size 432x288 with 1 Axes>"
      ]
     },
     "metadata": {
      "needs_background": "light"
     },
     "output_type": "display_data"
    }
   ],
   "source": [
    "import numpy as np\n",
    "import matplotlib.pyplot as plt\n",
    "from scipy.stats import chi2\n",
    "\n",
    "# Set the degrees of freedom\n",
    "df = 10\n",
    "\n",
    "# Set the x-axis range\n",
    "x = np.linspace(0, 30, 200)\n",
    "\n",
    "# Plot the chi-square distribution\n",
    "plt.plot(x, chi2.pdf(x, df), label=\"Chi-square PDF\")\n",
    "\n",
    "# Shade the area corresponding to a chi-square statistic of 15\n",
    "x_fill = np.linspace(15, 30, 200)\n",
    "plt.fill_between(x_fill, chi2.pdf(x_fill, df), 0, alpha=0.5)\n",
    "\n",
    "# Add labels and legend\n",
    "plt.xlabel(\"Chi-square statistic\")\n",
    "plt.ylabel(\"Probability density\")\n",
    "plt.title(\"Chi-square distribution with 10 degrees of freedom\")\n",
    "plt.legend()\n",
    "\n",
    "# Display the plot\n",
    "plt.show()"
   ]
  },
  {
   "cell_type": "markdown",
   "metadata": {},
   "source": [
    "**Q7. A random sample of 1000 people was asked if they preferred Coke or Pepsi. Of the sample, 520\n",
    "preferred Coke. Calculate a 99% confidence interval for the true proportion of people in the population who\n",
    "prefer Coke.**"
   ]
  },
  {
   "cell_type": "code",
   "execution_count": 50,
   "metadata": {},
   "outputs": [
    {
     "name": "stdout",
     "output_type": "stream",
     "text": [
      "Proportion of individuals who smoke: 0.52\n",
      "Standard error of the proportion: 0.022342784070030305\n",
      "95% confidence interval: (0.4793051576779699, 0.5606948423220302)\n"
     ]
    }
   ],
   "source": [
    "size = 1000\n",
    "prefers = 520\n",
    "\n",
    "p_hat = prefers / size\n",
    "\n",
    "se = np.sqrt(p_hat * (1 - p_hat) / n)\n",
    "\n",
    "# Calculate the 95% confidence interval\n",
    "ci = sm.stats.proportion_confint(prefers, size, alpha=0.01, method='normal')\n",
    "\n",
    "# Print the results\n",
    "print(\"Proportion of individuals who smoke:\", p_hat)\n",
    "print(\"Standard error of the proportion:\", se)\n",
    "print(\"95% confidence interval:\", ci)"
   ]
  },
  {
   "cell_type": "markdown",
   "metadata": {},
   "source": [
    "**Q8. A researcher hypothesizes that a coin is biased towards tails. They flip the coin 100 times and observe\n",
    "45 tails. Conduct a chi-square goodness of fit test to determine if the observed frequencies match the\n",
    "expected frequencies of a fair coin. Use a significance level of 0.05.**"
   ]
  },
  {
   "cell_type": "code",
   "execution_count": 54,
   "metadata": {},
   "outputs": [
    {
     "name": "stdout",
     "output_type": "stream",
     "text": [
      "We reject null hypo that coin is fair\n"
     ]
    }
   ],
   "source": [
    "n = 100\n",
    "obs = [45,55]\n",
    "exp = [50,50]\n",
    "\n",
    "chisquare_stats, p_value = stats.chisquare(obs, exp)\n",
    "\n",
    "if chisquare_stats > significance:\n",
    "    print(\"We reject null hypo that coin is fair\")\n",
    "else:\n",
    "    print(\"We accept null hypo\")"
   ]
  },
  {
   "cell_type": "markdown",
   "metadata": {},
   "source": [
    "**Q9. A study was conducted to determine if there is an association between smoking status (smoker or\n",
    "non-smoker) and lung cancer diagnosis (yes or no). The results are shown in the contingency table below.\n",
    "Conduct a chi-square test for independence to determine if there is a significant association between\n",
    "smoking status and lung cancer diagnosis.**"
   ]
  },
  {
   "cell_type": "code",
   "execution_count": 67,
   "metadata": {},
   "outputs": [
    {
     "name": "stdout",
     "output_type": "stream",
     "text": [
      "Chi-square statistic: 12.057347670250895\n",
      "p-value: 0.0005158863863703744\n",
      "We reject null hypo that smoking and lung cancer are independent\n"
     ]
    }
   ],
   "source": [
    "from scipy.stats import chi2_contingency\n",
    "\n",
    "# Contingency table\n",
    "observed = np.array([[60, 140], [30, 170]])\n",
    "# Calculate the chi-square statistic and p-value\n",
    "chi2_stat, p_value, dof, expected = chi2_contingency(observed)\n",
    "\n",
    "# Print the results\n",
    "print(\"Chi-square statistic:\", chi2_stat)\n",
    "print(\"p-value:\", p_value)\n",
    "\n",
    "if p_value < 0.05:\n",
    "    print(\"We reject null hypo that smoking and lung cancer are independent\")\n",
    "else:\n",
    "    print(\"We accept null hypo that smoking and lung cancer are independent\")\n"
   ]
  },
  {
   "cell_type": "markdown",
   "metadata": {},
   "source": [
    "**Q10. A study was conducted to determine if the proportion of people who prefer milk chocolate, dark\n",
    "chocolate, or white chocolate is different in the U.S. versus the U.K. A random sample of 500 people from\n",
    "the U.S. and a random sample of 500 people from the U.K. were surveyed. The results are shown in the\n",
    "contingency table below. Conduct a chi-square test for independence to determine if there is a significant\n",
    "association between chocolate preference and country of origin. Use a significance level of 0.01.**"
   ]
  },
  {
   "cell_type": "code",
   "execution_count": 68,
   "metadata": {},
   "outputs": [],
   "source": [
    "obs = [[200,150,150],[225,175,100]]"
   ]
  },
  {
   "cell_type": "code",
   "execution_count": 73,
   "metadata": {},
   "outputs": [
    {
     "name": "stdout",
     "output_type": "stream",
     "text": [
      "Chi-square statistic: 13.393665158371041\n",
      "p-value: 0.0012348168997745918\n",
      "We reject null hypo that there's an association between choclate and country orign\n"
     ]
    }
   ],
   "source": [
    "from scipy.stats import chi2_contingency\n",
    "\n",
    "# Calculate the chi-square statistic and p-value\n",
    "chi2_stat, p_value, dof, expected = chi2_contingency(obs)\n",
    "\n",
    "# Print the results\n",
    "print(\"Chi-square statistic:\", chi2_stat)\n",
    "print(\"p-value:\", p_value)\n",
    "\n",
    "if p_value < 0.01:\n",
    "    print(\"We reject null hypo that there's an association between choclate and country orign\")\n",
    "else:\n",
    "    print(\"We reject null hypo that there's not an association between choclate and country orign\")\n"
   ]
  },
  {
   "cell_type": "markdown",
   "metadata": {},
   "source": [
    "**Q11. A random sample of 30 people was selected from a population with an unknown mean and standard\n",
    "deviation. The sample mean was found to be 72 and the sample standard deviation was found to be 10.\n",
    "Conduct a hypothesis test to determine if the population mean is significantly different from 70. Use a\n",
    "significance level of 0.05.**"
   ]
  },
  {
   "cell_type": "markdown",
   "metadata": {},
   "source": [
    "To conduct a hypothesis test for the population mean, we need to perform a one-sample t-test.\n",
    "\n",
    "The null hypothesis is that the population mean is equal to 70 (μ = 70). The alternative hypothesis is that the population mean is not equal to 70 (μ ≠ 70).\n",
    "\n",
    "We will use a significance level of 0.05, which means we need to calculate the t-statistic and compare it to the critical t-value with degrees of freedom (df) equal to n-1 (where n is the sample size).\n",
    "\n",
    "The t-statistic can be calculated as:\n",
    "\n",
    "t = (sample_mean - hypothesized_mean) / (sample_standard_deviation / sqrt(sample_size))\n",
    "\n",
    "Substituting the values we get:\n",
    "\n",
    "t = (72 - 70) / (10 / sqrt(30))\n",
    "t = 1.3856\n",
    "\n",
    "To find the critical t-value, we can use a t-distribution table or a calculator. With df=29 and a two-tailed test at a significance level of 0.05, the critical t-value is approximately ±2.0452.\n",
    "\n",
    "Since the absolute value of the t-statistic (1.3856) is less than the critical t-value (2.0452), we fail to reject the null hypothesis. This means that we do not have sufficient evidence to conclude that the population mean is significantly different from 70 at a significance level of 0.05.\n",
    "\n",
    "Therefore, we cannot conclude that the population mean is different from 70 based on the given sample.\n",
    "\n",
    "\n",
    "\n",
    "\n",
    "\n"
   ]
  },
  {
   "cell_type": "code",
   "execution_count": null,
   "metadata": {},
   "outputs": [],
   "source": []
  }
 ],
 "metadata": {
  "kernelspec": {
   "display_name": "Python 3",
   "language": "python",
   "name": "python3"
  },
  "language_info": {
   "codemirror_mode": {
    "name": "ipython",
    "version": 3
   },
   "file_extension": ".py",
   "mimetype": "text/x-python",
   "name": "python",
   "nbconvert_exporter": "python",
   "pygments_lexer": "ipython3",
   "version": "3.8.5"
  }
 },
 "nbformat": 4,
 "nbformat_minor": 4
}
