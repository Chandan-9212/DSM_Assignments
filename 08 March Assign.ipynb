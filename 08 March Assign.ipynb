{
 "cells": [
  {
   "cell_type": "markdown",
   "metadata": {},
   "source": [
    "**Q1. What is the Probability density function**\n",
    "\n",
    "The probability density function (PDF) is a mathematical function that describes the relative likelihood or probability of a continuous random variable taking on a particular value. It is typically used in probability and statistics to model and analyze continuous distributions, such as the normal distribution or the exponential distribution.\n",
    "\n",
    "The PDF represents the area under the curve of the probability distribution, and the height of the curve at a particular point represents the probability density at that point. The total area under the curve is always equal to 1, which means that the probability of the variable taking on any possible value is equal to 1.\n",
    "\n",
    "The PDF can be used to calculate various statistical measures, such as the mean, median, and mode of the distribution, as well as the variance and standard deviation. It is an important tool for analyzing and understanding continuous random variables and their associated probability distributions."
   ]
  },
  {
   "cell_type": "markdown",
   "metadata": {},
   "source": [
    "**Q2. What are the types of Probability distribution.**\n",
    "\n",
    "There are several types of probability distributions, including:\n",
    "\n",
    "Normal distribution: The normal distribution is a continuous distribution that is often used to model real-world phenomena, such as height or weight. It is also known as the Gaussian distribution and has a bell-shaped curve.\n",
    "\n",
    "Binomial distribution: The binomial distribution is a discrete distribution that is used to model events that have only two possible outcomes, such as coin flips or pass/fail situations.\n",
    "\n",
    "Poisson distribution: The Poisson distribution is a discrete distribution that is used to model events that occur randomly over a fixed interval of time or space, such as the number of customers arriving at a store in a given hour.\n",
    "\n",
    "Exponential distribution: The exponential distribution is a continuous distribution that is used to model the time between events in a Poisson process, such as the time between arrivals of customers at a store.\n",
    "\n",
    "Uniform distribution: The uniform distribution is a continuous distribution that is used to model events that have a constant probability of occurring over a fixed interval, such as the roll of a fair die.\n",
    "\n",
    "Gamma distribution: The gamma distribution is a continuous distribution that is used to model the time until a specified number of events occur in a Poisson process.\n",
    "\n",
    "Beta distribution: The beta distribution is a continuous distribution that is used to model events that have a limited range of possible outcomes, such as the probability of success in a Bernoulli trial.\n",
    "\n",
    "\n",
    "\n",
    "\n",
    "\n"
   ]
  },
  {
   "cell_type": "markdown",
   "metadata": {},
   "source": [
    "**Q3. Write a Python function to calculate the probability density function of a normal distribution with \n",
    "given mean and standard deviation at a given point.**"
   ]
  },
  {
   "cell_type": "code",
   "execution_count": 29,
   "metadata": {},
   "outputs": [],
   "source": [
    "import scipy.stats"
   ]
  },
  {
   "cell_type": "code",
   "execution_count": 30,
   "metadata": {},
   "outputs": [],
   "source": [
    "def pdf(mean, std, data):\n",
    "    pdf = scipy.stats.norm.pdf(data, mean, std)\n",
    "    return pdf"
   ]
  },
  {
   "cell_type": "code",
   "execution_count": 54,
   "metadata": {},
   "outputs": [],
   "source": [
    "num = [1,2,2,2,2,2,2,2,2,2,2,2,2,22,22,2,2,22,2,2,2,2,2,2,2,3,3,3,3,3,3,3,3,3,3,4,5]"
   ]
  },
  {
   "cell_type": "code",
   "execution_count": 55,
   "metadata": {},
   "outputs": [],
   "source": [
    "import numpy as np"
   ]
  },
  {
   "cell_type": "code",
   "execution_count": 56,
   "metadata": {},
   "outputs": [],
   "source": [
    "x=pdf(np.mean(num), np.std(num), num)"
   ]
  },
  {
   "cell_type": "code",
   "execution_count": 57,
   "metadata": {},
   "outputs": [],
   "source": [
    "import seaborn as sns"
   ]
  },
  {
   "cell_type": "code",
   "execution_count": 58,
   "metadata": {},
   "outputs": [
    {
     "data": {
      "text/plain": [
       "<AxesSubplot:ylabel='Density'>"
      ]
     },
     "execution_count": 58,
     "metadata": {},
     "output_type": "execute_result"
    },
    {
     "data": {
      "image/png": "[encoded data removed]",
      "text/plain": [
       "<Figure size 432x288 with 1 Axes>"
      ]
     },
     "metadata": {
      "needs_background": "light"
     },
     "output_type": "display_data"
    }
   ],
   "source": [
    "sns.kdeplot(x)"
   ]
  },
  {
   "cell_type": "code",
   "execution_count": 35,
   "metadata": {},
   "outputs": [
    {
     "data": {
      "text/plain": [
       "<AxesSubplot:ylabel='Count'>"
      ]
     },
     "execution_count": 35,
     "metadata": {},
     "output_type": "execute_result"
    },
    {
     "data": {
      "image/png": "[encoded data removed]",
      "text/plain": [
       "<Figure size 432x288 with 1 Axes>"
      ]
     },
     "metadata": {
      "needs_background": "light"
     },
     "output_type": "display_data"
    }
   ],
   "source": [
    "sns.histplot(x)"
   ]
  },
  {
   "cell_type": "markdown",
   "metadata": {},
   "source": [
    "**Q4. What are the properties of Binomial distribution? Give two examples of events where binomial \n",
    "distribution can be applied.**"
   ]
  },
  {
   "cell_type": "markdown",
   "metadata": {},
   "source": [
    "The binomial distribution has the following properties:\n",
    "\n",
    "The events are independent: Each trial is independent of the others.\n",
    "\n",
    "There are only two possible outcomes: The events can only result in a success or a failure.\n",
    "\n",
    "The probability of success is constant: The probability of success (p) remains constant across all trials.\n",
    "\n",
    "The number of trials is fixed: We know the number of trials (n) in advance.\n",
    "\n",
    "Each trial is identical: The trials are identical in terms of their probability of success (p).\n",
    "\n",
    "Two examples of events where the binomial distribution can be applied are:\n",
    "\n",
    "Tossing a coin: When we toss a coin, there are only two possible outcomes - heads or tails. The probability of getting heads or tails is constant across all tosses, and each toss is independent of the others. The number of tosses is fixed and each toss is identical in terms of its probability of success.\n",
    "\n",
    "Quality control: In a manufacturing process, a product may either pass or fail a quality control test. The probability of passing or failing the test is constant across all products, and each product is independent of the others. The number of products being tested is fixed, and each product is identical in terms of its probability of passing the test. The binomial distribution can be used to determine the probability of a certain number of products passing or failing the test, given the probability of passing or failing and the number of products being tested."
   ]
  },
  {
   "cell_type": "markdown",
   "metadata": {},
   "source": [
    "**Q5. Generate a random sample of size 1000 from a binomial distribution with probability of success 0.4 \n",
    "and plot a histogram of the results using matplotlib.**"
   ]
  },
  {
   "cell_type": "code",
   "execution_count": 41,
   "metadata": {},
   "outputs": [],
   "source": [
    "sample = np.random.binomial(n=100, p=0.4, size=1000)"
   ]
  },
  {
   "cell_type": "code",
   "execution_count": 43,
   "metadata": {},
   "outputs": [
    {
     "data": {
      "text/plain": [
       "<AxesSubplot:ylabel='Count'>"
      ]
     },
     "execution_count": 43,
     "metadata": {},
     "output_type": "execute_result"
    },
    {
     "data": {
      "image/png": "[encoded data removed]",
      "text/plain": [
       "<Figure size 432x288 with 1 Axes>"
      ]
     },
     "metadata": {
      "needs_background": "light"
     },
     "output_type": "display_data"
    }
   ],
   "source": [
    "sns.histplot(sample)"
   ]
  },
  {
   "cell_type": "markdown",
   "metadata": {},
   "source": [
    "**Q6. Write a Python function to calculate the cumulative distribution function of a Poisson distribution \n",
    "with given mean at a given point**"
   ]
  },
  {
   "cell_type": "code",
   "execution_count": 59,
   "metadata": {},
   "outputs": [],
   "source": [
    "import math\n",
    "\n",
    "def poisson_cdf(mean, k):\n",
    "    cdf = 0.0\n",
    "    for i in range(k+1):\n",
    "        cdf += math.exp(-mean) * (mean ** i) / math.factorial(i)\n",
    "    return cdf\n"
   ]
  },
  {
   "cell_type": "markdown",
   "metadata": {},
   "source": [
    "**Q7. How Binomial distribution different from Poisson distribution?**"
   ]
  },
  {
   "cell_type": "markdown",
   "metadata": {},
   "source": [
    "Binomial distribution and Poisson distribution are both used to model the number of occurrences of an event. However, there are some key differences between these distributions.\n",
    "\n",
    "Definition: Binomial distribution is a discrete probability distribution that describes the number of successes in a fixed number of independent trials, given a constant probability of success for each trial. Poisson distribution, on the other hand, is a discrete probability distribution that describes the number of events occurring in a fixed interval of time or space, given that the events occur independently and at a constant rate.\n",
    "\n",
    "Parameters: Binomial distribution depends on two parameters: the probability of success in each trial (p) and the number of trials (n). Poisson distribution depends on one parameter: the average number of events that occur in the fixed interval (λ).\n",
    "\n",
    "Continuity: Binomial distribution is a discrete distribution, which means that the number of successes can only take on integer values. Poisson distribution is also a discrete distribution, but it can take on any non-negative integer value.\n",
    "\n",
    "Relationship: Binomial distribution can be approximated by Poisson distribution when the number of trials is very large and the probability of success in each trial is very small. In other words, when np is large and p is small, the Binomial distribution approaches a Poisson distribution with mean λ = np.\n",
    "\n",
    "Shape: The shape of the probability distribution of Binomial distribution is bell-shaped and symmetric, while the shape of the probability distribution of Poisson distribution is skewed to the right.\n",
    "\n",
    "In summary, Binomial distribution models the number of successes in a fixed number of independent trials, while Poisson distribution models the number of events occurring in a fixed interval of time or space. Binomial distribution is a discrete distribution with two parameters, while Poisson distribution is also a discrete distribution with one parameter. The two distributions have different shapes and relationships, but Binomial distribution can be approximated by Poisson distribution under certain conditions.\n",
    "\n",
    "\n",
    "\n",
    "\n",
    "\n"
   ]
  },
  {
   "cell_type": "markdown",
   "metadata": {},
   "source": [
    "**Q8. Generate a random sample of size 1000 from a Poisson distribution with mean 5 and calculate the \n",
    "sample mean and variance.**"
   ]
  },
  {
   "cell_type": "code",
   "execution_count": 62,
   "metadata": {},
   "outputs": [
    {
     "name": "stdout",
     "output_type": "stream",
     "text": [
      "Sample mean: 4.92\n",
      "Sample variance: 4.9556000000000004\n"
     ]
    }
   ],
   "source": [
    "import numpy as np\n",
    "\n",
    "# Generate random sample\n",
    "sample = np.random.poisson(5, 1000)\n",
    "\n",
    "# Calculate sample mean\n",
    "sample_mean = np.mean(sample)\n",
    "\n",
    "# Calculate sample variance\n",
    "sample_variance = np.var(sample)\n",
    "\n",
    "print(\"Sample mean:\", sample_mean)\n",
    "print(\"Sample variance:\", sample_variance)\n"
   ]
  },
  {
   "cell_type": "markdown",
   "metadata": {},
   "source": [
    "In the binomial distribution, the mean (μ) is equal to the product of the number of trials (n) and the probability of success (p), while the variance (σ²) is equal to the product of the number of trials, the probability of success, and the probability of failure (1-p), i.e., σ² = np(1-p).\n",
    "\n",
    "In the Poisson distribution, the mean (μ) is equal to the variance (σ²), i.e., μ = σ².\n",
    "\n",
    "Therefore, in both the binomial and Poisson distributions, the variance increases as the mean increases. However, in the binomial distribution, the variance is also affected by the probability of success, while in the Poisson distribution, the variance is solely determined by the mean."
   ]
  },
  {
   "cell_type": "code",
   "execution_count": null,
   "metadata": {},
   "outputs": [],
   "source": []
  }
 ],
 "metadata": {
  "kernelspec": {
   "display_name": "Python 3",
   "language": "python",
   "name": "python3"
  },
  "language_info": {
   "codemirror_mode": {
    "name": "ipython",
    "version": 3
   },
   "file_extension": ".py",
   "mimetype": "text/x-python",
   "name": "python",
   "nbconvert_exporter": "python",
   "pygments_lexer": "ipython3",
   "version": "3.8.5"
  }
 },
 "nbformat": 4,
 "nbformat_minor": 4
}
