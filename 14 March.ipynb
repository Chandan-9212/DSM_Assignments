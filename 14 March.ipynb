{
 "cells": [
  {
   "cell_type": "markdown",
   "metadata": {},
   "source": [
    "**Q1. Write a Python function that takes in two arrays of data and calculates the F-value for a variance ratio test. The function should return the F-value and the corresponding p-value for the test.**"
   ]
  },
  {
   "cell_type": "code",
   "execution_count": 4,
   "metadata": {},
   "outputs": [],
   "source": [
    "import numpy as np\n",
    "from scipy.stats import f"
   ]
  },
  {
   "cell_type": "code",
   "execution_count": 12,
   "metadata": {},
   "outputs": [],
   "source": [
    "def F_value(a, b):\n",
    "    f_value = np.var(a)/ np.var(b)\n",
    "    p_value = f.cdf(f_value, len(a)-1, len(b)-1)\n",
    "    return f_value, p_value"
   ]
  },
  {
   "cell_type": "code",
   "execution_count": 13,
   "metadata": {},
   "outputs": [
    {
     "data": {
      "text/plain": [
       "(1.0, 0.5)"
      ]
     },
     "execution_count": 13,
     "metadata": {},
     "output_type": "execute_result"
    }
   ],
   "source": [
    "F_value([1,2,3,4,5], [6,7,8,9,10])"
   ]
  },
  {
   "cell_type": "markdown",
   "metadata": {},
   "source": [
    "**Q2. Given a significance level of 0.05 and the degrees of freedom for the numerator and denominator of an F-distribution, write a Python function that returns the critical F-value for a two-tailed test.**"
   ]
  },
  {
   "cell_type": "code",
   "execution_count": 15,
   "metadata": {},
   "outputs": [],
   "source": [
    "def critical_f_value(numerator_df, denominator_df):\n",
    "    alpha = 0.05\n",
    "    return f.ppf([alpha/2, 1-alpha/2], numerator_df, denominator_df)"
   ]
  },
  {
   "cell_type": "markdown",
   "metadata": {},
   "source": [
    "**Q3. Write a Python program that generates random samples from two normal distributions with known\n",
    "variances and uses an F-test to determine if the variances are equal. The program should output the F-\n",
    "value, degrees of freedom, and p-value for the test.**"
   ]
  },
  {
   "cell_type": "code",
   "execution_count": 17,
   "metadata": {},
   "outputs": [
    {
     "name": "stdout",
     "output_type": "stream",
     "text": [
      "1.8409770770408929 99 99 0.17638133042390713\n"
     ]
    }
   ],
   "source": [
    "from scipy.stats import f_oneway\n",
    "sample1 = np.random.normal(scale=1,size=100)\n",
    "sample2 = np.random.normal(scale=1,size=100)\n",
    "\n",
    "f_value, p_value = f_oneway(sample1, sample2)\n",
    "df1 = len(sample1)-1\n",
    "df2 = len(sample2)-1\n",
    "\n",
    "print(f_value, df1, df2, p_value)"
   ]
  },
  {
   "cell_type": "markdown",
   "metadata": {},
   "source": [
    "**Q4.The variances of two populations are known to be 10 and 15. A sample of 12 observations is taken from each population. Conduct an F-test at the 5% significance level to determine if the variances are\n",
    "significantly different.**"
   ]
  },
  {
   "cell_type": "code",
   "execution_count": 34,
   "metadata": {},
   "outputs": [
    {
     "name": "stdout",
     "output_type": "stream",
     "text": [
      "F-statistic: 0.6666666666666666\n",
      "P-value: 0.2561948993678998\n",
      "Reject null hypothesis\n"
     ]
    }
   ],
   "source": [
    "var1 = 10\n",
    "var2 = 15\n",
    "n1 = 12\n",
    "n2 = 12\n",
    "\n",
    "f_stat = var1/var2\n",
    "p_value = stats.f.cdf(f_stat, n1-1, n2-1)\n",
    "f_crit = stats.f.ppf(0.05/2, n1-1, n2-1)\n",
    "\n",
    "print(\"F-statistic:\", f_stat)\n",
    "print(\"P-value:\", p_value)\n",
    "\n",
    "if f_stat > f_crit:\n",
    "    print(\"Reject null hypothesis\")\n",
    "else:\n",
    "    print(\"Fail to reject null hypothesis\")"
   ]
  },
  {
   "cell_type": "markdown",
   "metadata": {},
   "source": [
    "**Q5. A manufacturer claims that the variance of the diameter of a certain product is 0.005. A sample of 25 products is taken, and the sample variance is found to be 0.006. Conduct an F-test at the 1% significance level to determine if the claim is justified.**"
   ]
  },
  {
   "cell_type": "code",
   "execution_count": 35,
   "metadata": {},
   "outputs": [
    {
     "name": "stdout",
     "output_type": "stream",
     "text": [
      "F-statistic: 0.8333333333333334\n",
      "Critical value: 0.3370701342685674\n",
      "P-value: 0.3293654682817239\n",
      "Reject null hypothesis\n"
     ]
    }
   ],
   "source": [
    "var1 = 0.005\n",
    "var2 = 0.006\n",
    "sample1 = 25\n",
    "sample2 = 25\n",
    "\n",
    "f_stat = var1/ var2\n",
    "f_crit = stats.f.ppf(0.01/2, sample1-1, sample2-1)\n",
    "p_value = stats.f.cdf(f_stat, sample1-1, sample2-1)\n",
    "\n",
    "print(\"F-statistic:\", f_stat)\n",
    "print(\"Critical value:\", f_crit)\n",
    "print(\"P-value:\", p_value)\n",
    "\n",
    "if f_stat > f_crit:\n",
    "    print(\"Reject null hypothesis\")\n",
    "else:\n",
    "    print(\"Fail to reject null hypothesis\")"
   ]
  },
  {
   "cell_type": "markdown",
   "metadata": {},
   "source": [
    "**Q6. Write a Python function that takes in the degrees of freedom for the numerator and denominator of an F-distribution and calculates the mean and variance of the distribution. The function should return the mean and variance as a tuple.**"
   ]
  },
  {
   "cell_type": "code",
   "execution_count": 38,
   "metadata": {},
   "outputs": [],
   "source": [
    "def tup(df_num, df_denom):\n",
    "    mean = df_denom / (df_denom - 2)\n",
    "    var = (2 * df_denom ** 2 * (df_num + df_denom - 2)) / (df_num * (df_denom - 2) ** 2 * (df_denom - 4))\n",
    "    return mean, var"
   ]
  },
  {
   "cell_type": "markdown",
   "metadata": {},
   "source": [
    "**Q7. A random sample of 10 measurements is taken from a normal population with unknown variance. The\n",
    "sample variance is found to be 25. Another random sample of 15 measurements is taken from another\n",
    "normal population with unknown variance, and the sample variance is found to be 20. Conduct an F-test\n",
    "at the 10% significance level to determine if the variances are significantly different.**"
   ]
  },
  {
   "cell_type": "code",
   "execution_count": 42,
   "metadata": {},
   "outputs": [
    {
     "name": "stdout",
     "output_type": "stream",
     "text": [
      "1.25\n",
      "0.3305268601412525\n",
      "Reject null hypothesis\n"
     ]
    }
   ],
   "source": [
    "size1 = 10\n",
    "size2 = 15\n",
    "var1 = 25\n",
    "var2 = 20\n",
    "\n",
    "f_stat = var1/var2\n",
    "f_critic = stats.f.ppf(.10/2, size1-1, size2-1)\n",
    "\n",
    "\n",
    "print(f_stat)\n",
    "print(f_critic)\n",
    "\n",
    "if f_stat > f_critic:\n",
    "    print(\"Reject null hypothesis\")\n",
    "else:\n",
    "    print(\"Fail to reject null hypothesis\")"
   ]
  },
  {
   "cell_type": "markdown",
   "metadata": {},
   "source": [
    "**Q8. The following data represent the waiting times in minutes at two different restaurants on a Saturday night: Restaurant A: 24, 25, 28, 23, 22, 20, 27; Restaurant B: 31, 33, 35, 30, 32, 36. Conduct an F-test at the 5% significance level to determine if the variances are significantly different.**"
   ]
  },
  {
   "cell_type": "code",
   "execution_count": 44,
   "metadata": {},
   "outputs": [
    {
     "name": "stdout",
     "output_type": "stream",
     "text": [
      "1.496767651159843\n",
      "0.16701279718024772\n",
      "Reject null hypothesis\n"
     ]
    }
   ],
   "source": [
    "A = [24, 25, 28, 23, 22, 20, 27]\n",
    "B = [31, 33, 35, 30, 32, 36]\n",
    "\n",
    "alpha = 0.05\n",
    "f_stat = np.var(A)/ np.var(B)\n",
    "f_crit = stats.f.ppf(alpha/2, len(A)-1, len(B)-1)\n",
    "\n",
    "print(f_stat)\n",
    "print(f_crit)\n",
    "\n",
    "if f_stat > f_crit:\n",
    "    print(\"Reject null hypothesis\")\n",
    "else:\n",
    "    print(\"Fail to reject null hypothesis\")"
   ]
  },
  {
   "cell_type": "markdown",
   "metadata": {},
   "source": [
    "**Q9. The following data represent the test scores of two groups of students: Group A: 80, 85, 90, 92, 87, 83; Group B: 75, 78, 82, 79, 81, 84. Conduct an F-test at the 1% significance level to determine if the variances are significantly different.**"
   ]
  },
  {
   "cell_type": "code",
   "execution_count": 45,
   "metadata": {},
   "outputs": [
    {
     "name": "stdout",
     "output_type": "stream",
     "text": [
      "1.496767651159843\n",
      "0.0872319040650407\n",
      "Reject null hypothesis\n"
     ]
    }
   ],
   "source": [
    "Group1 = [80, 85, 90, 92, 87, 83]\n",
    "Group2 = [75, 78, 82, 79, 81, 84]\n",
    "\n",
    "alpha = 0.01\n",
    "f_stat = np.var(A)/ np.var(B)\n",
    "f_crit = stats.f.ppf(alpha/2, len(A)-1, len(B)-1)\n",
    "\n",
    "print(f_stat)\n",
    "print(f_crit)\n",
    "\n",
    "if f_stat > f_crit:\n",
    "    print(\"Reject null hypothesis\")\n",
    "else:\n",
    "    print(\"Fail to reject null hypothesis\")"
   ]
  },
  {
   "cell_type": "code",
   "execution_count": null,
   "metadata": {},
   "outputs": [],
   "source": []
  }
 ],
 "metadata": {
  "kernelspec": {
   "display_name": "Python 3",
   "language": "python",
   "name": "python3"
  },
  "language_info": {
   "codemirror_mode": {
    "name": "ipython",
    "version": 3
   },
   "file_extension": ".py",
   "mimetype": "text/x-python",
   "name": "python",
   "nbconvert_exporter": "python",
   "pygments_lexer": "ipython3",
   "version": "3.8.5"
  }
 },
 "nbformat": 4,
 "nbformat_minor": 4
}
